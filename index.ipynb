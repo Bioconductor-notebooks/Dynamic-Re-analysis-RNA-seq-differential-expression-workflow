{
 "cells": [
  {
   "cell_type": "markdown",
   "metadata": {},
   "source": [
    "# Bioconductor Workflows - RNAseq (Jupyter notebook)\n",
    "\n",
    "Here we walk through an end-to-end gene-level RNA-seq differential expression workflow using Bioconductor packages. We will start from the FASTQ files, show how these were aligned to the reference genome, and prepare a count matrix which tallies the number of RNA-seq reads/fragments within each gene for each sample. We will perform exploratory data analysis (EDA) for quality assessment and to explore the relationship between samples, perform differential gene expression analysis, and visually explore the results."
   ]
  },
  {
   "cell_type": "code",
   "execution_count": 1,
   "metadata": {
    "collapsed": false
   },
   "outputs": [
    {
     "name": "stderr",
     "output_type": "stream",
     "text": [
      "Bioconductor version 3.4 (BiocInstaller 1.24.0), ?biocLite for help\n",
      "A new version of Bioconductor is available after installing the most recent\n",
      "  version of R; see http://bioconductor.org/install\n",
      "BioC_mirror: https://bioconductor.org\n",
      "Using Bioconductor 3.4 (BiocInstaller 1.24.0), R 3.3.2 (2016-10-31).\n",
      "installation path not writeable, unable to update packages: foreign\n",
      "Old packages: 'curl', 'formatR', 'Hmisc', 'htmltools', 'Matrix', 'rmarkdown',\n",
      "  'shiny', 'XML'\n",
      "Warning message:\n",
      "\"package 'rmarkdown' was built under R version 3.3.3\"Loading required package: SummarizedExperiment\n",
      "Loading required package: GenomicRanges\n",
      "Warning message:\n",
      "\"package 'GenomicRanges' was built under R version 3.3.3\"Loading required package: stats4\n",
      "Loading required package: BiocGenerics\n",
      "Loading required package: parallel\n",
      "\n",
      "Attaching package: 'BiocGenerics'\n",
      "\n",
      "The following objects are masked from 'package:parallel':\n",
      "\n",
      "    clusterApply, clusterApplyLB, clusterCall, clusterEvalQ,\n",
      "    clusterExport, clusterMap, parApply, parCapply, parLapply,\n",
      "    parLapplyLB, parRapply, parSapply, parSapplyLB\n",
      "\n",
      "The following objects are masked from 'package:stats':\n",
      "\n",
      "    IQR, mad, xtabs\n",
      "\n",
      "The following objects are masked from 'package:base':\n",
      "\n",
      "    anyDuplicated, append, as.data.frame, cbind, colnames, do.call,\n",
      "    duplicated, eval, evalq, Filter, Find, get, grep, grepl, intersect,\n",
      "    is.unsorted, lapply, lengths, Map, mapply, match, mget, order,\n",
      "    paste, pmax, pmax.int, pmin, pmin.int, Position, rank, rbind,\n",
      "    Reduce, rownames, sapply, setdiff, sort, table, tapply, union,\n",
      "    unique, unsplit, which, which.max, which.min\n",
      "\n",
      "Loading required package: S4Vectors\n",
      "Warning message:\n",
      "\"package 'S4Vectors' was built under R version 3.3.3\"\n",
      "Attaching package: 'S4Vectors'\n",
      "\n",
      "The following objects are masked from 'package:base':\n",
      "\n",
      "    colMeans, colSums, expand.grid, rowMeans, rowSums\n",
      "\n",
      "Loading required package: IRanges\n",
      "Warning message:\n",
      "\"package 'IRanges' was built under R version 3.3.3\"Loading required package: GenomeInfoDb\n",
      "Loading required package: Biobase\n",
      "Welcome to Bioconductor\n",
      "\n",
      "    Vignettes contain introductory material; view with\n",
      "    'browseVignettes()'. To cite Bioconductor, see\n",
      "    'citation(\"Biobase\")', and for packages 'citation(\"pkgname\")'.\n",
      "\n"
     ]
    },
    {
     "name": "stdout",
     "output_type": "stream",
     "text": [
      "[1] \"List of Files in the /extdata directory of the airway package:\"\n"
     ]
    },
    {
     "data": {
      "text/html": [
       "<ol class=list-inline>\n",
       "\t<li>'GSE52778_series_matrix.txt'</li>\n",
       "\t<li>'Homo_sapiens.GRCh37.75_subset.gtf'</li>\n",
       "\t<li>'sample_table.csv'</li>\n",
       "\t<li>'SraRunInfo_SRP033351.csv'</li>\n",
       "\t<li>'SRR1039508_subset.bam'</li>\n",
       "\t<li>'SRR1039509_subset.bam'</li>\n",
       "\t<li>'SRR1039512_subset.bam'</li>\n",
       "\t<li>'SRR1039513_subset.bam'</li>\n",
       "\t<li>'SRR1039516_subset.bam'</li>\n",
       "\t<li>'SRR1039517_subset.bam'</li>\n",
       "\t<li>'SRR1039520_subset.bam'</li>\n",
       "\t<li>'SRR1039521_subset.bam'</li>\n",
       "</ol>\n"
      ],
      "text/latex": [
       "\\begin{enumerate*}\n",
       "\\item 'GSE52778\\_series\\_matrix.txt'\n",
       "\\item 'Homo\\_sapiens.GRCh37.75\\_subset.gtf'\n",
       "\\item 'sample\\_table.csv'\n",
       "\\item 'SraRunInfo\\_SRP033351.csv'\n",
       "\\item 'SRR1039508\\_subset.bam'\n",
       "\\item 'SRR1039509\\_subset.bam'\n",
       "\\item 'SRR1039512\\_subset.bam'\n",
       "\\item 'SRR1039513\\_subset.bam'\n",
       "\\item 'SRR1039516\\_subset.bam'\n",
       "\\item 'SRR1039517\\_subset.bam'\n",
       "\\item 'SRR1039520\\_subset.bam'\n",
       "\\item 'SRR1039521\\_subset.bam'\n",
       "\\end{enumerate*}\n"
      ],
      "text/markdown": [
       "1. 'GSE52778_series_matrix.txt'\n",
       "2. 'Homo_sapiens.GRCh37.75_subset.gtf'\n",
       "3. 'sample_table.csv'\n",
       "4. 'SraRunInfo_SRP033351.csv'\n",
       "5. 'SRR1039508_subset.bam'\n",
       "6. 'SRR1039509_subset.bam'\n",
       "7. 'SRR1039512_subset.bam'\n",
       "8. 'SRR1039513_subset.bam'\n",
       "9. 'SRR1039516_subset.bam'\n",
       "10. 'SRR1039517_subset.bam'\n",
       "11. 'SRR1039520_subset.bam'\n",
       "12. 'SRR1039521_subset.bam'\n",
       "\n",
       "\n"
      ],
      "text/plain": [
       " [1] \"GSE52778_series_matrix.txt\"        \"Homo_sapiens.GRCh37.75_subset.gtf\"\n",
       " [3] \"sample_table.csv\"                  \"SraRunInfo_SRP033351.csv\"         \n",
       " [5] \"SRR1039508_subset.bam\"             \"SRR1039509_subset.bam\"            \n",
       " [7] \"SRR1039512_subset.bam\"             \"SRR1039513_subset.bam\"            \n",
       " [9] \"SRR1039516_subset.bam\"             \"SRR1039517_subset.bam\"            \n",
       "[11] \"SRR1039520_subset.bam\"             \"SRR1039521_subset.bam\"            "
      ]
     },
     "metadata": {},
     "output_type": "display_data"
    }
   ],
   "source": [
    "# Loading the requisite libraries\n",
    "# source(\"https://bioconductor.org/biocLite.R\")\n",
    "# biocLite()\n",
    "suppressPackageStartupMessages(library(\"BiocStyle\"))\n",
    "\n",
    "suppressPackageStartupMessages(library(\"knitr\"))\n",
    "\n",
    "suppressPackageStartupMessages(library(\"rmarkdown\"))\n",
    "\n",
    "# to hide warnings\n",
    "options(warm = 0)\n",
    "\n",
    "opts_chunk$set(message = FALSE, error = FALSE, warning = FALSE,\n",
    "               cache = TRUE, fig.width = 5, fig.height = 5)\n",
    "\n",
    "## Loading airway smooth muscle cell package package\n",
    "library(\"airway\")\n",
    "\n",
    "## Specifying external directory for the bioconductor package\n",
    "indir <- system.file(\"extdata\", package=\"airway\", mustWork=TRUE)\n",
    "print(\"List of Files in the /extdata directory of the airway package:\")\n",
    "list.files(indir)"
   ]
  },
  {
   "cell_type": "code",
   "execution_count": 2,
   "metadata": {
    "collapsed": true
   },
   "outputs": [
    {
     "data": {
      "text/html": [
       "<table>\n",
       "<thead><tr><th></th><th scope=col>SampleName</th><th scope=col>cell</th><th scope=col>dex</th><th scope=col>albut</th><th scope=col>Run</th><th scope=col>avgLength</th><th scope=col>Experiment</th><th scope=col>Sample</th><th scope=col>BioSample</th></tr></thead>\n",
       "<tbody>\n",
       "\t<tr><th scope=row>SRR1039508</th><td>GSM1275862  </td><td>N61311      </td><td>untrt       </td><td>untrt       </td><td>SRR1039508  </td><td>126         </td><td>SRX384345   </td><td>SRS508568   </td><td>SAMN02422669</td></tr>\n",
       "\t<tr><th scope=row>SRR1039509</th><td>GSM1275863  </td><td>N61311      </td><td>trt         </td><td>untrt       </td><td>SRR1039509  </td><td>126         </td><td>SRX384346   </td><td>SRS508567   </td><td>SAMN02422675</td></tr>\n",
       "\t<tr><th scope=row>SRR1039512</th><td>GSM1275866  </td><td>N052611     </td><td>untrt       </td><td>untrt       </td><td>SRR1039512  </td><td>126         </td><td>SRX384349   </td><td>SRS508571   </td><td>SAMN02422678</td></tr>\n",
       "\t<tr><th scope=row>SRR1039513</th><td>GSM1275867  </td><td>N052611     </td><td>trt         </td><td>untrt       </td><td>SRR1039513  </td><td> 87         </td><td>SRX384350   </td><td>SRS508572   </td><td>SAMN02422670</td></tr>\n",
       "\t<tr><th scope=row>SRR1039516</th><td>GSM1275870  </td><td>N080611     </td><td>untrt       </td><td>untrt       </td><td>SRR1039516  </td><td>120         </td><td>SRX384353   </td><td>SRS508575   </td><td>SAMN02422682</td></tr>\n",
       "\t<tr><th scope=row>SRR1039517</th><td>GSM1275871  </td><td>N080611     </td><td>trt         </td><td>untrt       </td><td>SRR1039517  </td><td>126         </td><td>SRX384354   </td><td>SRS508576   </td><td>SAMN02422673</td></tr>\n",
       "\t<tr><th scope=row>SRR1039520</th><td>GSM1275874  </td><td>N061011     </td><td>untrt       </td><td>untrt       </td><td>SRR1039520  </td><td>101         </td><td>SRX384357   </td><td>SRS508579   </td><td>SAMN02422683</td></tr>\n",
       "\t<tr><th scope=row>SRR1039521</th><td>GSM1275875  </td><td>N061011     </td><td>trt         </td><td>untrt       </td><td>SRR1039521  </td><td> 98         </td><td>SRX384358   </td><td>SRS508580   </td><td>SAMN02422677</td></tr>\n",
       "</tbody>\n",
       "</table>\n"
      ],
      "text/latex": [
       "\\begin{tabular}{r|lllllllll}\n",
       "  & SampleName & cell & dex & albut & Run & avgLength & Experiment & Sample & BioSample\\\\\n",
       "\\hline\n",
       "\tSRR1039508 & GSM1275862   & N61311       & untrt        & untrt        & SRR1039508   & 126          & SRX384345    & SRS508568    & SAMN02422669\\\\\n",
       "\tSRR1039509 & GSM1275863   & N61311       & trt          & untrt        & SRR1039509   & 126          & SRX384346    & SRS508567    & SAMN02422675\\\\\n",
       "\tSRR1039512 & GSM1275866   & N052611      & untrt        & untrt        & SRR1039512   & 126          & SRX384349    & SRS508571    & SAMN02422678\\\\\n",
       "\tSRR1039513 & GSM1275867   & N052611      & trt          & untrt        & SRR1039513   &  87          & SRX384350    & SRS508572    & SAMN02422670\\\\\n",
       "\tSRR1039516 & GSM1275870   & N080611      & untrt        & untrt        & SRR1039516   & 120          & SRX384353    & SRS508575    & SAMN02422682\\\\\n",
       "\tSRR1039517 & GSM1275871   & N080611      & trt          & untrt        & SRR1039517   & 126          & SRX384354    & SRS508576    & SAMN02422673\\\\\n",
       "\tSRR1039520 & GSM1275874   & N061011      & untrt        & untrt        & SRR1039520   & 101          & SRX384357    & SRS508579    & SAMN02422683\\\\\n",
       "\tSRR1039521 & GSM1275875   & N061011      & trt          & untrt        & SRR1039521   &  98          & SRX384358    & SRS508580    & SAMN02422677\\\\\n",
       "\\end{tabular}\n"
      ],
      "text/markdown": [
       "\n",
       "| <!--/--> | SampleName | cell | dex | albut | Run | avgLength | Experiment | Sample | BioSample | \n",
       "|---|---|---|---|---|---|---|---|\n",
       "| SRR1039508 | GSM1275862   | N61311       | untrt        | untrt        | SRR1039508   | 126          | SRX384345    | SRS508568    | SAMN02422669 | \n",
       "| SRR1039509 | GSM1275863   | N61311       | trt          | untrt        | SRR1039509   | 126          | SRX384346    | SRS508567    | SAMN02422675 | \n",
       "| SRR1039512 | GSM1275866   | N052611      | untrt        | untrt        | SRR1039512   | 126          | SRX384349    | SRS508571    | SAMN02422678 | \n",
       "| SRR1039513 | GSM1275867   | N052611      | trt          | untrt        | SRR1039513   |  87          | SRX384350    | SRS508572    | SAMN02422670 | \n",
       "| SRR1039516 | GSM1275870   | N080611      | untrt        | untrt        | SRR1039516   | 120          | SRX384353    | SRS508575    | SAMN02422682 | \n",
       "| SRR1039517 | GSM1275871   | N080611      | trt          | untrt        | SRR1039517   | 126          | SRX384354    | SRS508576    | SAMN02422673 | \n",
       "| SRR1039520 | GSM1275874   | N061011      | untrt        | untrt        | SRR1039520   | 101          | SRX384357    | SRS508579    | SAMN02422683 | \n",
       "| SRR1039521 | GSM1275875   | N061011      | trt          | untrt        | SRR1039521   |  98          | SRX384358    | SRS508580    | SAMN02422677 | \n",
       "\n",
       "\n"
      ],
      "text/plain": [
       "           SampleName cell    dex   albut Run        avgLength Experiment\n",
       "SRR1039508 GSM1275862 N61311  untrt untrt SRR1039508 126       SRX384345 \n",
       "SRR1039509 GSM1275863 N61311  trt   untrt SRR1039509 126       SRX384346 \n",
       "SRR1039512 GSM1275866 N052611 untrt untrt SRR1039512 126       SRX384349 \n",
       "SRR1039513 GSM1275867 N052611 trt   untrt SRR1039513  87       SRX384350 \n",
       "SRR1039516 GSM1275870 N080611 untrt untrt SRR1039516 120       SRX384353 \n",
       "SRR1039517 GSM1275871 N080611 trt   untrt SRR1039517 126       SRX384354 \n",
       "SRR1039520 GSM1275874 N061011 untrt untrt SRR1039520 101       SRX384357 \n",
       "SRR1039521 GSM1275875 N061011 trt   untrt SRR1039521  98       SRX384358 \n",
       "           Sample    BioSample   \n",
       "SRR1039508 SRS508568 SAMN02422669\n",
       "SRR1039509 SRS508567 SAMN02422675\n",
       "SRR1039512 SRS508571 SAMN02422678\n",
       "SRR1039513 SRS508572 SAMN02422670\n",
       "SRR1039516 SRS508575 SAMN02422682\n",
       "SRR1039517 SRS508576 SAMN02422673\n",
       "SRR1039520 SRS508579 SAMN02422683\n",
       "SRR1039521 SRS508580 SAMN02422677"
      ]
     },
     "metadata": {},
     "output_type": "display_data"
    }
   ],
   "source": [
    "# accessing the sample table from the airway package.\n",
    "csvfile <- file.path(indir, \"sample_table.csv\")\n",
    "sampleTable <- read.csv(csvfile, row.names = 1)\n",
    "sampleTable"
   ]
  },
  {
   "cell_type": "markdown",
   "metadata": {},
   "source": [
    "Once the reads have been aligned, there are a number of tools that can be used to count the number of reads/fragments that can be assigned to genomic features for each sample. These often take as input SAM/BAM alignment files and a file specifying the genomic features, e.g. a GFF3 or GTF file specifying the gene models"
   ]
  },
  {
   "cell_type": "code",
   "execution_count": 3,
   "metadata": {
    "collapsed": false,
    "scrolled": true
   },
   "outputs": [
    {
     "data": {
      "text/html": [
       "<ol class=list-inline>\n",
       "\t<li>SRR1039508</li>\n",
       "\t<li>SRR1039509</li>\n",
       "\t<li>SRR1039512</li>\n",
       "\t<li>SRR1039513</li>\n",
       "\t<li>SRR1039516</li>\n",
       "\t<li>SRR1039517</li>\n",
       "\t<li>SRR1039520</li>\n",
       "\t<li>SRR1039521</li>\n",
       "</ol>\n"
      ],
      "text/latex": [
       "\\begin{enumerate*}\n",
       "\\item SRR1039508\n",
       "\\item SRR1039509\n",
       "\\item SRR1039512\n",
       "\\item SRR1039513\n",
       "\\item SRR1039516\n",
       "\\item SRR1039517\n",
       "\\item SRR1039520\n",
       "\\item SRR1039521\n",
       "\\end{enumerate*}\n"
      ],
      "text/markdown": [
       "1. SRR1039508\n",
       "2. SRR1039509\n",
       "3. SRR1039512\n",
       "4. SRR1039513\n",
       "5. SRR1039516\n",
       "6. SRR1039517\n",
       "7. SRR1039520\n",
       "8. SRR1039521\n",
       "\n",
       "\n"
      ],
      "text/plain": [
       "[1] SRR1039508 SRR1039509 SRR1039512 SRR1039513 SRR1039516 SRR1039517 SRR1039520\n",
       "[8] SRR1039521\n",
       "8 Levels: SRR1039508 SRR1039509 SRR1039512 SRR1039513 ... SRR1039521"
      ]
     },
     "metadata": {},
     "output_type": "display_data"
    },
    {
     "data": {
      "text/html": [
       "<ol class=list-inline>\n",
       "\t<li>TRUE</li>\n",
       "\t<li>TRUE</li>\n",
       "\t<li>TRUE</li>\n",
       "\t<li>TRUE</li>\n",
       "\t<li>TRUE</li>\n",
       "\t<li>TRUE</li>\n",
       "\t<li>TRUE</li>\n",
       "\t<li>TRUE</li>\n",
       "</ol>\n"
      ],
      "text/latex": [
       "\\begin{enumerate*}\n",
       "\\item TRUE\n",
       "\\item TRUE\n",
       "\\item TRUE\n",
       "\\item TRUE\n",
       "\\item TRUE\n",
       "\\item TRUE\n",
       "\\item TRUE\n",
       "\\item TRUE\n",
       "\\end{enumerate*}\n"
      ],
      "text/markdown": [
       "1. TRUE\n",
       "2. TRUE\n",
       "3. TRUE\n",
       "4. TRUE\n",
       "5. TRUE\n",
       "6. TRUE\n",
       "7. TRUE\n",
       "8. TRUE\n",
       "\n",
       "\n"
      ],
      "text/plain": [
       "[1] TRUE TRUE TRUE TRUE TRUE TRUE TRUE TRUE"
      ]
     },
     "metadata": {},
     "output_type": "display_data"
    }
   ],
   "source": [
    "## Checking for the existance of files in the package directory.\n",
    "filenames <- file.path(indir, paste0(sampleTable$Run, \"_subset.bam\"))\n",
    "unique(sampleTable$Run)\n",
    "file.exists(filenames)"
   ]
  },
  {
   "cell_type": "markdown",
   "metadata": {},
   "source": [
    "## Alignment Step:\n"
   ]
  },
  {
   "cell_type": "code",
   "execution_count": 2,
   "metadata": {
    "collapsed": false
   },
   "outputs": [
    {
     "ename": "ERROR",
     "evalue": "Error in system(\" wget 'http://ftp-trace.ncbi.nlm.nih.gov/sra/sdk/current/sratoolkit.current-centos_linux64.tar.gz' \", : 'wget' not found\n",
     "output_type": "error",
     "traceback": [
      "Error in system(\" wget 'http://ftp-trace.ncbi.nlm.nih.gov/sra/sdk/current/sratoolkit.current-centos_linux64.tar.gz' \", : 'wget' not found\nTraceback:\n",
      "1. system(\" wget 'http://ftp-trace.ncbi.nlm.nih.gov/sra/sdk/current/sratoolkit.current-centos_linux64.tar.gz' \", \n .     intern = TRUE)"
     ]
    }
   ],
   "source": [
    "# Installing requisite packages.\n",
    "\n",
    "# using SRA(Sequence read archive) toolkit and it's fastq-dump funciton \n",
    " ## Donwload and unpack for x64 bit system\n",
    "system(\" wget 'http://ftp-trace.ncbi.nlm.nih.gov/sra/sdk/current/sratoolkit.current-centos_linux64.tar.gz' \", intern=TRUE)\n",
    "\n",
    "system(\" tar -xzf sratoolkit.current-centos_linux64.tar.gz\", intern=TRUE)\n",
    "\n",
    "## Use the toolkit by \"./fastq-dump\"\n",
    "## help docs: https://ncbi.github.io/sra-tools/install_config.html"
   ]
  },
  {
   "cell_type": "markdown",
   "metadata": {},
   "source": [
    "#### Downloading the fastq files in the local directory"
   ]
  },
  {
   "cell_type": "code",
   "execution_count": null,
   "metadata": {
    "collapsed": true
   },
   "outputs": [],
   "source": [
    "# Downloading Raw fastQ files SRR10395__ 08,09,12,13,116,17,20,21 in th efastQ directory\n",
    "\n",
    "system(\"mkdir fastq\", intern=TRUE)\n",
    "system(\"cd fastq\", intern=TRUE)\n",
    "\n",
    "# SRR--08\n",
    "system(\"wget ftp://ftp.sra.ebi.ac.uk/vol1/fastq/SRR103/008/SRR1039508/SRR1039508_1.fastq.gz\", intern=TRUE)\n",
    "system(\"wget ftp://ftp.sra.ebi.ac.uk/vol1/fastq/SRR103/008/SRR1039508/SRR1039508_2.fastq.gz\", intern=TRUE)\n",
    "\n",
    "# SRR--09\n",
    "system(\"wget ftp://ftp.sra.ebi.ac.uk/vol1/fastq/SRR103/009/SRR1039509/SRR1039509_1.fastq.gz\", intern=TRUE)\n",
    "system(\"wget ftp://ftp.sra.ebi.ac.uk/vol1/fastq/SRR103/009/SRR1039509/SRR1039509_2.fastq.gz\", intern=TRUE)\n",
    "\n",
    "# SRR--12\n",
    "system(\"wget ftp://ftp.sra.ebi.ac.uk/vol1/fastq/SRR103/002/SRR1039512/SRR1039512_1.fastq.gz\", intern=TRUE)\n",
    "system(\"wget ftp://ftp.sra.ebi.ac.uk/vol1/fastq/SRR103/002/SRR1039512/SRR1039512_2.fastq.gz\", intern=TRUE)\n",
    "\n",
    "# SRR--13\n",
    "system(\"wget ftp://ftp.sra.ebi.ac.uk/vol1/fastq/SRR103/003/SRR1039513/SRR1039513_1.fastq.gz\", intern=TRUE)\n",
    "system(\"wget ftp://ftp.sra.ebi.ac.uk/vol1/fastq/SRR103/003/SRR1039513/SRR1039513_2.fastq.gz\", intern=TRUE)\n",
    "\n",
    "# SRR--16\n",
    "system(\"wget ftp://ftp.sra.ebi.ac.uk/vol1/fastq/SRR103/006/SRR1039516/SRR1039516_1.fastq.gz\", intern=TRUE)\n",
    "system(\"wget ftp://ftp.sra.ebi.ac.uk/vol1/fastq/SRR103/006/SRR1039516/SRR1039516_2.fastq.gz\", intern=TRUE)\n",
    "\n",
    "# SRR--17\n",
    "system(\"wget ftp://ftp.sra.ebi.ac.uk/vol1/fastq/SRR103/007/SRR1039517/SRR1039517_1.fastq.gz\", intern=TRUE)\n",
    "system(\"wget ftp://ftp.sra.ebi.ac.uk/vol1/fastq/SRR103/007/SRR1039517/SRR1039517_2.fastq.gz\", intern=TRUE)\n",
    "\n",
    "\n",
    "# SRR--20\n",
    "system(\"wget ftp://ftp.sra.ebi.ac.uk/vol1/fastq/SRR103/000/SRR1039520/SRR1039520_1.fastq.gz\", intern=TRUE)\n",
    "system(\"wget ftp://ftp.sra.ebi.ac.uk/vol1/fastq/SRR103/000/SRR1039520/SRR1039520_2.fastq.gz\", intern=TRUE)\n",
    "\n",
    "# SRR--21\n",
    "system(\"wget ftp://ftp.sra.ebi.ac.uk/vol1/fastq/SRR103/001/SRR1039521/SRR1039521_1.fastq.gz\", intern=TRUE)\n",
    "system(\"wget ftp://ftp.sra.ebi.ac.uk/vol1/fastq/SRR103/001/SRR1039521/SRR1039521_2.fastq.gz\", intern=TRUE)\n",
    "\n",
    "system(\"cd ..\", intern=TRUE)"
   ]
  },
  {
   "cell_type": "markdown",
   "metadata": {},
   "source": [
    "#### Alignment step using the star aligner"
   ]
  },
  {
   "cell_type": "code",
   "execution_count": null,
   "metadata": {
    "collapsed": true
   },
   "outputs": [],
   "source": [
    "## Installing STAR\n",
    " ## Using the source code.\n",
    "system(\"git clone https://github.com/alexdobin/STAR \", intern=TRUE)\n",
    "\n",
    " ## Installing STAR\n",
    "system(\"sudo apt install rna-star\", intern=TRUE)\n",
    "## for .gz comperessed files use --readFilesCommand zcat\n",
    "\n",
    "system(\"wget 'https://github.com/yasht7/RNAseq-Workdlow-CaseStudy/blob/master/files.txt' \", intern=TRUE)\n",
    "\n",
    "# Producing the BAM output(Unsorted) \n",
    "system(\"for f in `cat files.txt`; do STAR --genomeDir ../STAR/ENSEMBL.homo_sapiens.release-75 \\\n",
    "--readFilesCommand zcat fastq/$f\\_1.fastq.gz fastq/$f\\_2.fastq.gz \\\n",
    "--runThreadN 12 outSAMtype BAM Unsorted \n",
    "--outFileNamePrefix aligned/$f.; done\", intern=TRUE)"
   ]
  },
  {
   "cell_type": "markdown",
   "metadata": {},
   "source": [
    "**DESeq2 import functions**\n",
    "\n",
    "The following tools can be used generate count matrices: summarizeOverlaps (Lawrence et al. 2013), featureCounts (Liao, Smyth, and Shi 2014), tximport (Soneson, Love, and Robinson 2015), htseq-count (Anders, Pyl, and Huber 2015).\n",
    "\n",
    "\n",
    "| **function** | **package** | **framework** | **output** | **DESeq2 input function** |\n",
    "|---|---|---|---|---|\n",
    "| summarizeOverlaps | GenomicAlignments | R/Bioconductor | SummarizedExperiment | DESeqDataSet |\n",
    "| featureCounts | Rsubread | R/Bioconductor | matrix | DESeqDataSetFromMatrix |\n",
    "| tximport | tximport | R/Bioconductor | list of matrices | DESeqDataSetFromTximport |\n",
    "| htseq-count | HTSeq | Python | files | DESeqDataSetFromHTSeq |\n",
    "\n",
    "We now proceed using summarizeOverlaps. Using the Run column in the sample table, we construct the full paths to the files we want to perform the counting operation on:"
   ]
  },
  {
   "cell_type": "code",
   "execution_count": 4,
   "metadata": {
    "collapsed": false
   },
   "outputs": [
    {
     "name": "stderr",
     "output_type": "stream",
     "text": [
      "Warning message:\n",
      "\"package 'Rsamtools' was built under R version 3.3.3\"Warning message:\n",
      "\"package 'XVector' was built under R version 3.3.3\""
     ]
    },
    {
     "data": {
      "text/plain": [
       "Seqinfo object with 84 sequences from an unspecified genome:\n",
       "  seqnames   seqlengths isCircular genome\n",
       "  1           249250621       <NA>   <NA>\n",
       "  10          135534747       <NA>   <NA>\n",
       "  11          135006516       <NA>   <NA>\n",
       "  12          133851895       <NA>   <NA>\n",
       "  13          115169878       <NA>   <NA>\n",
       "  ...               ...        ...    ...\n",
       "  GL000210.1      27682       <NA>   <NA>\n",
       "  GL000231.1      27386       <NA>   <NA>\n",
       "  GL000229.1      19913       <NA>   <NA>\n",
       "  GL000226.1      15008       <NA>   <NA>\n",
       "  GL000207.1       4262       <NA>   <NA>"
      ]
     },
     "metadata": {},
     "output_type": "display_data"
    }
   ],
   "source": [
    "## Bam files list from the Rsamtools package\n",
    "\n",
    "suppressPackageStartupMessages(library(\"Rsamtools\"))\n",
    "\n",
    "bamfiles <- BamFileList(filenames, yieldSize=2000000)\n",
    "\n",
    "## The sequence Info\n",
    "seqinfo(bamfiles[1])"
   ]
  },
  {
   "cell_type": "markdown",
   "metadata": {},
   "source": [
    "**Note:** \n",
    "Make sure that the chromosome names of the genomic features in the annotation you use are consistent with the chromosome names of the reference used for read alignment. Otherwise, the scripts might fail to count any reads to features due to the mismatching names. For example, a common mistake is when the alignment files contain chromosome names in the style of 1 and the gene annotation in the style of chr1, or the other way around. See the seqlevelsStyle function in the GenomeInfoDb package for solutions. We can check the chromosome names (here called “seqnames”) in the alignment files like so:"
   ]
  },
  {
   "cell_type": "markdown",
   "metadata": {},
   "source": [
    "### Defining gene models\n",
    "\n",
    "Next, we need to read in the gene model that will be used for counting reads/fragments. We will read the gene model from an Ensembl GTF file (Flicek et al. 2014), using makeTxDbFromGFF from the GenomicFeatures package. GTF files can be downloaded from Ensembl’s FTP site or other gene model repositories. A TxDb object is a database that can be used to generate a variety of range-based objects, such as exons, transcripts, and genes. We want to make a list of exons grouped by gene for counting read/fragments.\n",
    "\n",
    "There are other options for constructing a TxDb. For the known genes track from the UCSC Genome Browser (Kent et al. 2002), one can use the pre-built Transcript DataBase: TxDb.Hsapiens.UCSC.hg19.knownGene. If the annotation file is accessible from AnnotationHub (as is the case for the Ensembl genes), a pre-scanned GTF file can be imported using makeTxDbFromGRanges.\n",
    "Here we will demonstrate loading from a GTF file:"
   ]
  },
  {
   "cell_type": "code",
   "execution_count": 5,
   "metadata": {
    "collapsed": false
   },
   "outputs": [
    {
     "name": "stderr",
     "output_type": "stream",
     "text": [
      "Warning message:\n",
      "\"package 'GenomicFeatures' was built under R version 3.3.3\"Import genomic features from the file as a GRanges object ... OK\n",
      "Prepare the 'metadata' data frame ... OK\n",
      "Make the TxDb object ... Warning message:\n",
      "\"RSQLite::dbGetPreparedQuery() is deprecated, please switch to DBI::dbGetQuery(params = bind.data).\"Warning message:\n",
      "\"Named parameters not used in query: internal_chrom_id, chrom, length, is_circular\"Warning message:\n",
      "\"Named parameters not used in query: internal_id, name, type, chrom, strand, start, end\"Warning message:\n",
      "\"Named parameters not used in query: internal_id, name, chrom, strand, start, end\"Warning message:\n",
      "\"Named parameters not used in query: internal_id, name, chrom, strand, start, end\"Warning message:\n",
      "\"Named parameters not used in query: internal_tx_id, exon_rank, internal_exon_id, internal_cds_id\"Warning message:\n",
      "\"Named parameters not used in query: gene_id, internal_tx_id\"OK\n"
     ]
    },
    {
     "data": {
      "text/plain": [
       "TxDb object:\n",
       "# Db type: TxDb\n",
       "# Supporting package: GenomicFeatures\n",
       "# Data source: C:/Users/Yash/Documents/R/win-library/3.3/airway/extdata/Homo_sapiens.GRCh37.75_subset.gtf\n",
       "# Organism: NA\n",
       "# Taxonomy ID: NA\n",
       "# miRBase build ID: NA\n",
       "# Genome: NA\n",
       "# transcript_nrow: 65\n",
       "# exon_nrow: 279\n",
       "# cds_nrow: 158\n",
       "# Db created by: GenomicFeatures package from Bioconductor\n",
       "# Creation time: 2017-04-26 12:17:54 -0700 (Wed, 26 Apr 2017)\n",
       "# GenomicFeatures version at creation time: 1.26.4\n",
       "# RSQLite version at creation time: 1.1-2\n",
       "# DBSCHEMAVERSION: 1.1"
      ]
     },
     "metadata": {},
     "output_type": "display_data"
    }
   ],
   "source": [
    "# biocLite(\"GenomicFeatures\")\n",
    "\n",
    "suppressPackageStartupMessages(library(\"GenomicFeatures\"))\n",
    "\n",
    "## txdb format\n",
    "gtffile <- file.path(indir,\"Homo_sapiens.GRCh37.75_subset.gtf\")\n",
    "txdb <- makeTxDbFromGFF(gtffile, format = \"gtf\", circ_seqs = character())\n",
    "txdb"
   ]
  },
  {
   "cell_type": "markdown",
   "metadata": {},
   "source": [
    "The following line produces a GRangesList of all the exons grouped by gene (Lawrence et al. 2013). Each element of the list is a GRanges object of the exons for a gene.\n"
   ]
  },
  {
   "cell_type": "code",
   "execution_count": 6,
   "metadata": {
    "collapsed": false
   },
   "outputs": [
    {
     "data": {
      "text/plain": [
       "GRangesList object of length 20:\n",
       "$ENSG00000009724 \n",
       "GRanges object with 18 ranges and 2 metadata columns:\n",
       "       seqnames               ranges strand |   exon_id       exon_name\n",
       "          <Rle>            <IRanges>  <Rle> | <integer>     <character>\n",
       "   [1]        1 [11086580, 11087705]      - |        98 ENSE00000818830\n",
       "   [2]        1 [11090233, 11090307]      - |        99 ENSE00000472123\n",
       "   [3]        1 [11090805, 11090939]      - |       100 ENSE00000743084\n",
       "   [4]        1 [11094885, 11094963]      - |       101 ENSE00000743085\n",
       "   [5]        1 [11097750, 11097868]      - |       102 ENSE00003482788\n",
       "   ...      ...                  ...    ... .       ...             ...\n",
       "  [14]        1 [11106948, 11107176]      - |       111 ENSE00003467404\n",
       "  [15]        1 [11106948, 11107176]      - |       112 ENSE00003489217\n",
       "  [16]        1 [11107260, 11107280]      - |       113 ENSE00001833377\n",
       "  [17]        1 [11107260, 11107284]      - |       114 ENSE00001472289\n",
       "  [18]        1 [11107260, 11107290]      - |       115 ENSE00001881401\n",
       "\n",
       "...\n",
       "<19 more elements>\n",
       "-------\n",
       "seqinfo: 1 sequence from an unspecified genome; no seqlengths"
      ]
     },
     "metadata": {},
     "output_type": "display_data"
    }
   ],
   "source": [
    "ebg <- exonsBy(txdb, by=\"gene\")\n",
    "ebg"
   ]
  },
  {
   "cell_type": "markdown",
   "metadata": {},
   "source": [
    "### Read counting steps\n",
    "\n",
    "After these preparations, the actual counting is easy. The function summarizeOverlaps from the GenomicAlignments package will do this. This produces a SummarizedExperiment object that contains a variety of information about the experiment, and will be described in more detail below.\n",
    "\n",
    "**Note:** If it is desired to perform counting using multiple cores, one can use the register and MulticoreParam or SnowParam functions from the BiocParallel package before the counting call below. Expect that the summarizeOverlaps call will take at least 30 minutes per file for a human RNA-seq file with 30 million aligned reads. By sending the files to separate cores, one can speed up the entire counting process."
   ]
  },
  {
   "cell_type": "code",
   "execution_count": 7,
   "metadata": {
    "collapsed": false
   },
   "outputs": [
    {
     "name": "stderr",
     "output_type": "stream",
     "text": [
      "Warning message:\n",
      "\"package 'GenomicAlignments' was built under R version 3.3.3\"Warning message:\n",
      "\"package 'BiocParallel' was built under R version 3.3.3\""
     ]
    }
   ],
   "source": [
    "suppressPackageStartupMessages(library(\"GenomicAlignments\"))\n",
    "suppressPackageStartupMessages(library(\"BiocParallel\"))\n",
    "\n",
    "# register(MulitcoreParam())\n",
    "register(SerialParam())\n",
    "\n",
    "## ------------------------------------------------------------------------\n",
    "se <- summarizeOverlaps(features=ebg, reads=bamfiles,\n",
    "                        mode=\"Union\",\n",
    "                        singleEnd=FALSE,\n",
    "                        ignore.strand=TRUE,\n",
    "                        fragments=TRUE)\n"
   ]
  },
  {
   "cell_type": "markdown",
   "metadata": {},
   "source": [
    "After these preparations, the actual counting is easy. The function summarizeOverlaps from the GenomicAlignments package will do this. This produces a SummarizedExperiment object that contains a variety of information about the experiment, and will be described in more detail below.\n",
    "\n",
    "**Note:** If it is desired to perform counting using multiple cores, one can use the register and MulticoreParam or SnowParam functions from the BiocParallel package before the counting call below. Expect that the summarizeOverlaps call will take at least 30 minutes per file for a human RNA-seq file with 30 million aligned reads. By sending the files to separate cores, one can speed up the entire counting process."
   ]
  },
  {
   "cell_type": "code",
   "execution_count": 8,
   "metadata": {
    "collapsed": false
   },
   "outputs": [
    {
     "name": "stdout",
     "output_type": "stream",
     "text": [
      "[1] \"Summarized Experiment\"\n"
     ]
    },
    {
     "data": {
      "image/png": "[encoded data removed]",
      "text/plain": [
       "plot without title"
      ]
     },
     "metadata": {},
     "output_type": "display_data"
    }
   ],
   "source": [
    "## ----sumexp, echo=FALSE--------------------------------------------------\n",
    "par(mar=c(0,0,0,0))\n",
    "plot(1,1,xlim=c(0,100),ylim=c(0,100),bty=\"n\",\n",
    "     type=\"n\",xlab=\"\",ylab=\"\",xaxt=\"n\",yaxt=\"n\")\n",
    "polygon(c(45,90,90,45),c(5,5,70,70),col=\"pink\",border=NA)\n",
    "polygon(c(45,90,90,45),c(68,68,70,70),col=\"pink3\",border=NA)\n",
    "text(67.5,40,\"assay\")\n",
    "text(67.5,35,'e.g. \"counts\"')\n",
    "polygon(c(10,40,40,10),c(5,5,70,70),col=\"skyblue\",border=NA)\n",
    "polygon(c(10,40,40,10),c(68,68,70,70),col=\"skyblue3\",border=NA)\n",
    "text(25,40,\"rowRanges\")\n",
    "polygon(c(45,90,90,45),c(75,75,95,95),col=\"palegreen\",border=NA)\n",
    "polygon(c(45,47,47,45),c(75,75,95,95),col=\"palegreen3\",border=NA)\n",
    "text(67.5,85,\"colData\")\n",
    "\n",
    "print(\"Summarized Experiment\")"
   ]
  },
  {
   "cell_type": "code",
   "execution_count": null,
   "metadata": {
    "collapsed": false
   },
   "outputs": [],
   "source": [
    "se\n",
    "dim(se)\n",
    "assayNames(se)"
   ]
  },
  {
   "cell_type": "markdown",
   "metadata": {},
   "source": [
    "The *rowRanges*, when printed, only shows the first GRanges, and tells us there are 19 more elements:"
   ]
  },
  {
   "cell_type": "code",
   "execution_count": null,
   "metadata": {
    "collapsed": false
   },
   "outputs": [],
   "source": [
    "print(\"Row summary\")\n",
    "rowRanges(se)"
   ]
  },
  {
   "cell_type": "markdown",
   "metadata": {},
   "source": [
    "The rowRanges also contains metadata about the construction of the gene model in the metadata slot. Here we use a helpful R function, str, to display the metadata compactly:"
   ]
  },
  {
   "cell_type": "code",
   "execution_count": null,
   "metadata": {
    "collapsed": false,
    "scrolled": true
   },
   "outputs": [],
   "source": [
    "str(metadata(rowRanges(se)))\n",
    "\n",
    "# column Data\n",
    "colData(se)"
   ]
  },
  {
   "cell_type": "code",
   "execution_count": null,
   "metadata": {
    "collapsed": false,
    "scrolled": false
   },
   "outputs": [],
   "source": [
    "head(assay(se), 5)\n",
    "colSums(assay(se))"
   ]
  },
  {
   "cell_type": "code",
   "execution_count": null,
   "metadata": {
    "collapsed": false,
    "scrolled": false
   },
   "outputs": [],
   "source": [
    "colData(se) <- DataFrame(sampleTable)\n",
    "colData(se)"
   ]
  },
  {
   "cell_type": "markdown",
   "metadata": {},
   "source": [
    "The colData slot, so far empty, should contain all the metadata. Because we used a column of sampleTable to produce the bamfiles vector, we know the columns of se are in the same order as the rows of sampleTable. We can assign the sampleTable as the colData of the summarized experiment, by converting it into a DataFrame and using the assignment function:"
   ]
  },
  {
   "cell_type": "markdown",
   "metadata": {},
   "source": [
    "### Branching point\n",
    "\n",
    "At this point, we have counted the fragments which overlap the genes in the gene model we specified. This is a branching point where we could use a variety of Bioconductor packages for exploration and differential expression of the count data, including edgeR (M. D. Robinson, McCarthy, and Smyth 2009), limma with the voom method (Law et al. 2014), DSS (H. Wu, Wang, and Wu 2013), EBSeq (Leng et al. 2013) and baySeq (Hardcastle and Kelly 2010). Schurch et al. (2016) compared performance of different statistical methods for RNA-seq using a large number of biological replicates and can help users to decide which tools make sense to use, and how many biological replicates are necessary to obtain a certain sensitivity. We will continue using DESeq2 (Love, Huber, and Anders 2014). The SummarizedExperiment object is all we need to start our analysis. In the following section we will show how to use it to create the data object used by DESeq2."
   ]
  },
  {
   "cell_type": "code",
   "execution_count": null,
   "metadata": {
    "collapsed": false,
    "scrolled": true
   },
   "outputs": [],
   "source": [
    "se$cell\n",
    "se$dex"
   ]
  },
  {
   "cell_type": "markdown",
   "metadata": {},
   "source": [
    "**Note:** it is prefered in R that the first level of a factor be the reference level (e.g. control, or untreated samples), so we can relevel the dex factor like so:"
   ]
  },
  {
   "cell_type": "code",
   "execution_count": null,
   "metadata": {
    "collapsed": false
   },
   "outputs": [],
   "source": [
    "## ----sedex---------------------------------------------------------------\n",
    "library(\"magrittr\")\n",
    "se$dex %<>% relevel(\"untrt\")\n",
    "se$dex"
   ]
  },
  {
   "cell_type": "markdown",
   "metadata": {},
   "source": [
    "%<>% is the compound assignment pipe-operator from the magrittr package, the above line of code is a concise way of saying"
   ]
  },
  {
   "cell_type": "markdown",
   "metadata": {},
   "source": [
    "### Starting from summarized expriment\n",
    "\n",
    "We now use R’s data command to load a prepared SummarizedExperiment that was generated from the publicly available sequencing data files associated with Himes et al. (2014), described above. The steps we used to produce this object were equivalent to those you worked through in the previous sections, except that we used all the reads and all the genes. For more details on the exact steps used to create this object, type vignette(\"airway\") into your R session"
   ]
  },
  {
   "cell_type": "code",
   "execution_count": null,
   "metadata": {
    "collapsed": false
   },
   "outputs": [],
   "source": [
    "## ----explaincmpass, eval = FALSE-----------------------------------------\n",
    "## se$dex <- relevel(se$dex, \"untrt\")\n",
    "\n",
    "## ------------------------------------------------------------------------\n",
    "data(\"airway\")\n",
    "se <- airway\n",
    "\n",
    "## ------------------------------------------------------------------------\n",
    "se$dex %<>% relevel(\"untrt\")\n",
    "se$dex\n",
    "\n",
    "## ------------------------------------------------------------------------\n",
    "round( colSums(assay(se)) / 1e6, 1 )\n",
    "\n",
    "## ------------------------------------------------------------------------\n",
    "colData(se)\n"
   ]
  },
  {
   "cell_type": "markdown",
   "metadata": {},
   "source": [
    "Here we see that this object already contains an informative colData slot – because we have already prepared it for you, as described in the airway vignette. However, when you work with your own data, you will have to add the pertinent sample / phenotypic information for the experiment at this stage. We highly recommend keeping this information in a comma-separated value (CSV) or tab-separated value (TSV) file, which can be exported from an Excel spreadsheet, and the assign this to the colData slot, making sure that the rows correspond to the columns of the SummarizedExperiment. We made sure of this correspondence earlier by specifying the BAM files using a column of the sample table.\n",
    "\n",
    "Once we have our fully annotated SummarizedExperiment object, we can construct a DESeqDataSet object from it that will then form the starting point of the analysis. We add an appropriate design for the analysis"
   ]
  },
  {
   "cell_type": "markdown",
   "metadata": {},
   "source": [
    "### Starting from count matrices\n",
    "\n",
    "In this section, we will show how to build an DESeqDataSet supposing we only have a count matrix and a table of sample information.\n",
    "\n",
    "**Note:** if you have prepared a SummarizedExperiment you should skip this section. While the previous section would be used to construct a DESeqDataSet from a SummarizedExperiment, here we first extract the individual object (count matrix and sample info) from the SummarizedExperiment in order to build it back up into a new object – only for demonstration purposes. In practice, the count matrix would either be read in from a file or perhaps generated by an R function like featureCounts from the Rsubread package (Liao, Smyth, and Shi 2014).\n",
    "\n",
    "The information in a SummarizedExperiment object can be accessed with accessor functions. For example, to see the actual data, i.e., here, the fragment counts, we use the assay function. (The head function restricts the output to the first few lines.)"
   ]
  },
  {
   "cell_type": "code",
   "execution_count": null,
   "metadata": {
    "collapsed": false
   },
   "outputs": [],
   "source": [
    "## ------------------------------------------------------------------------\n",
    "library(\"DESeq2\")\n",
    "\n",
    "## ------------------------------------------------------------------------\n",
    "dds <- DESeqDataSet(se, design = ~ cell + dex)\n",
    "\n",
    "## ------------------------------------------------------------------------\n",
    "countdata <- assay(se)\n",
    "head(countdata, 3)\n"
   ]
  },
  {
   "cell_type": "markdown",
   "metadata": {},
   "source": [
    "In this count matrix, each row represents an Ensembl gene, each column a sequenced RNA library, and the values give the raw numbers of fragments that were uniquely assigned to the respective gene in each library. We also have information on each of the samples (the columns of the count matrix). If you’ve counted reads with some other software, it is very important to check that the columns of the count matrix correspond to the rows of the sample information table."
   ]
  },
  {
   "cell_type": "code",
   "execution_count": null,
   "metadata": {
    "collapsed": true
   },
   "outputs": [],
   "source": [
    "coldata <- colData(se)"
   ]
  },
  {
   "cell_type": "markdown",
   "metadata": {},
   "source": [
    "We now have all the ingredients to prepare our data object in a form that is suitable for analysis, namely:\n",
    "    * countdata: a table with the fragment counts\n",
    "    * coldata: a table with information about the samples\n",
    "\n",
    "To now construct the DESeqDataSet object from the matrix of counts and the sample information table, we use:"
   ]
  },
  {
   "cell_type": "code",
   "execution_count": null,
   "metadata": {
    "collapsed": true
   },
   "outputs": [],
   "source": [
    "## ------------------------------------------------------------------------\n",
    "ddsMat <- DESeqDataSetFromMatrix(countData = countdata,\n",
    "                                  colData = coldata,\n",
    "                                  design = ~ cell + dex)\n"
   ]
  },
  {
   "cell_type": "markdown",
   "metadata": {},
   "source": [
    "We will continue with the object generated from the SummarizedExperiment section."
   ]
  },
  {
   "cell_type": "markdown",
   "metadata": {},
   "source": [
    "## Exploratory analysis and visualization\n",
    "\n",
    "There are two separate paths in this workflow; the one we will see first involves transformations of the counts in order to visually explore sample relationships. In the second part, we will go back to the original raw counts for statistical testing. This is critical because the statistical testing methods rely on original count data (not scaled or transformed) for calculating the precision of measurements.\n",
    "\n",
    "### Pre Filtering the dataset\n",
    "\n",
    "The count matrix with the DESeqDataSet contains many rows with only zeros, and additionally many rows with only a few fragments total. In order to reduce the size of the object, and to increase the speed of our functions, we can remove the rows that have no or nearly no information about the amount of gene expression. Here we apply the most minimal filtering rule: removing rows of the DESeqDataSet that have no counts, or only a single count across all samples. Additional weighting/filtering to improve power is applied at a later step in the workflow."
   ]
  },
  {
   "cell_type": "code",
   "execution_count": null,
   "metadata": {
    "collapsed": false
   },
   "outputs": [],
   "source": [
    "nrow(dds)\n",
    "dds <- dds[ rowSums(counts(dds)) > 1, ]\n",
    "nrow(dds)\n"
   ]
  },
  {
   "cell_type": "markdown",
   "metadata": {},
   "source": [
    "### The rlog and variance stabilizing transformations\n",
    "\n",
    "Many common statistical methods for exploratory analysis of multidimensional data, for example clustering and principal components analysis (PCA), work best for data that generally has the same range of variance at different ranges of the mean values. When the expected amount of variance is approximately the same across different mean values, the data is said to be homoskedastic. For RNA-seq counts, however, the expected variance grows with the mean. For example, if one performs PCA directly on a matrix of counts or normalized counts (e.g. correcting for differences in sequencing depth), the resulting plot typically depends mostly on the genes with highest counts because they show the largest absolute differences between samples. A simple and often used strategy to avoid this is to take the logarithm of the normalized count values plus a pseudocount of 1; however, depending on the choice of pseudocount, now the genes with the very lowest counts will contribute a great deal of noise to the resulting plot, because taking the logarithm of small counts actually inflates their variance. We can quickly show this property of counts with some simulated data (here, Poisson counts with a range of lambda from 0.1 to 100). We plot the standard deviation of each row (genes) against the mean:"
   ]
  },
  {
   "cell_type": "code",
   "execution_count": null,
   "metadata": {
    "collapsed": false
   },
   "outputs": [],
   "source": [
    "## ----meanSdCts-----------------------------------------------------------\n",
    "lambda <- 10^seq(from = -1, to = 2, length = 1000)\n",
    "cts <- matrix(rpois(1000*100, lambda), ncol = 100)\n",
    "library(\"vsn\")\n",
    "meanSdPlot(cts, ranks = FALSE)\n"
   ]
  },
  {
   "cell_type": "markdown",
   "metadata": {},
   "source": [
    "Logarithm-transformed counts:"
   ]
  },
  {
   "cell_type": "code",
   "execution_count": null,
   "metadata": {
    "collapsed": false,
    "scrolled": false
   },
   "outputs": [],
   "source": [
    "## ----meanSdLogCts--------------------------------------------------------\n",
    "log.cts.one <- log2(cts + 1)\n",
    "meanSdPlot(log.cts.one, ranks = FALSE)\n"
   ]
  },
  {
   "cell_type": "markdown",
   "metadata": {},
   "source": [
    "The logarithm with a small pseudocount amplifies differences when the values are close to 0. The low count genes with low signal-to-noise ratio will overly contribute to sample-sample distances and PCA plots.\n",
    "\n",
    "As a solution, DESeq2 offers two transformations for count data that stabilize the variance across the mean: the regularized-logarithm transformation or rlog (Love, Huber, and Anders 2014), and the variance stabilizing transformation (VST) for negative binomial data with a dispersion-mean trend (Anders and Huber 2010), implemented in the vst function.\n",
    "\n",
    "For genes with high counts, the rlog and VST will give similar result to the ordinary log2 transformation of normalized counts. For genes with lower counts, however, the values are shrunken towards the genes’ averages across all samples. The rlog-transformed or VST data then becomes approximately homoskedastic, and can be used directly for computing distances between samples, making PCA plots, or as input to downstream methods which perform best with homoskedastic data.\n",
    "\n",
    "\n",
    "**Which transformation to choose?** The rlog tends to work well on small datasets (n < 30), sometimes outperforming the VST when there is a large range of sequencing depth across samples (an order of magnitude difference). The VST is much faster to compute and is less sensitive to high count outliers than the rlog. We therefore recommend the VST for large datasets (hundreds of samples). You can perform both transformations and compare the meanSdPlot or PCA plots generated, as described below.\n",
    "\n",
    "Note that the two transformations offered by DESeq2 are provided for applications other than differential testing. For differential testing we recommend the DESeq function applied to raw counts, as described later in this workflow, which also takes into account the dependence of the variance of counts on the mean value during the dispersion estimation step.\n",
    "\n",
    "The function rlog returns an object based on the SummarizedExperiment class that contains the rlog-transformed values in its assay slot."
   ]
  },
  {
   "cell_type": "code",
   "execution_count": null,
   "metadata": {
    "collapsed": false,
    "scrolled": false
   },
   "outputs": [],
   "source": [
    "## ----rlog----------------------------------------------------------------\n",
    "rld <- rlog(dds, blind = FALSE)\n",
    "head(assay(rld), 3)"
   ]
  },
  {
   "cell_type": "markdown",
   "metadata": {},
   "source": [
    "The function *vst* returns a similar object"
   ]
  },
  {
   "cell_type": "code",
   "execution_count": null,
   "metadata": {
    "collapsed": false,
    "scrolled": true
   },
   "outputs": [],
   "source": [
    "print(\"VST output:\")\n",
    "## ----vst-----------------------------------------------------------------\n",
    "vsd <- vst(dds, blind = FALSE)\n",
    "head(assay(vsd), 3)"
   ]
  },
  {
   "cell_type": "markdown",
   "metadata": {},
   "source": [
    "In the above function calls, we specified blind = FALSE, which means that differences between cell lines and treatment (the variables in the design) will not contribute to the expected variance-mean trend of the experiment. The experimental design is not used directly in the transformation, only in estimating the global amount of variability in the counts. For a fully unsupervised transformation, one can set blind = TRUE (which is the default).\n",
    "\n",
    "To show the effect of the transformation, in the figure below we plot the first sample against the second, first simply using the log2 function (after adding 1, to avoid taking the log of zero), and then using the rlog- and VST-transformed values. For the log2 approach, we need to first estimate size factors to account for sequencing depth, and then specify normalized=TRUE. Sequencing depth correction is done automatically for the rlog and the vst."
   ]
  },
  {
   "cell_type": "code",
   "execution_count": null,
   "metadata": {
    "collapsed": false
   },
   "outputs": [],
   "source": [
    "## ----rldplot, fig.width = 6, fig.height = 2.5----------------------------\n",
    "library(\"dplyr\")\n",
    "library(\"ggplot2\")\n",
    "\n",
    "dds <- estimateSizeFactors(dds)\n",
    "\n",
    "df <- bind_rows(\n",
    "  as_data_frame(log2(counts(dds, normalized=TRUE)[, 1:2]+1)) %>%\n",
    "         mutate(transformation = \"log2(x + 1)\"),\n",
    "  as_data_frame(assay(rld)[, 1:2]) %>% mutate(transformation = \"rlog\"),\n",
    "  as_data_frame(assay(vsd)[, 1:2]) %>% mutate(transformation = \"vst\"))\n",
    "  \n",
    "colnames(df)[1:2] <- c(\"x\", \"y\")  \n",
    "\n",
    "ggplot(df, aes(x = x, y = y)) + geom_hex(bins = 80) +\n",
    "  coord_fixed() + facet_grid( . ~ transformation)  "
   ]
  },
  {
   "cell_type": "markdown",
   "metadata": {},
   "source": [
    "**Scatterplot of transformed counts from two samples.** \n",
    "Shown are scatterplots using the log2 transform of normalized counts (left), using the rlog (middle), and using the VST (right). While the rlog is on roughly the same scale as the log2 counts, the VST has a upward shift for the smaller values. It is the differences between samples (deviation from y=x in these scatterplots) which will contribute to the distance calculations and the PCA plot.\n",
    "\n",
    "We can see how genes with low counts (bottom left-hand corner) seem to be excessively variable on the ordinary logarithmic scale, while the rlog transform and VST compress differences for the low count genes for which the data provide little information about differential expression."
   ]
  },
  {
   "cell_type": "markdown",
   "metadata": {},
   "source": [
    "### Sample Distance\n",
    "\n",
    "A useful first step in an RNA-seq analysis is often to assess overall similarity between samples: Which samples are similar to each other, which are different? Does this fit to the expectation from the experiment’s design?\n",
    "\n",
    "We use the R function dist to calculate the Euclidean distance between samples. To ensure we have a roughly equal contribution from all genes, we use it on the rlog-transformed data. We need to transpose the matrix of values using t, because the dist function expects the different samples to be rows of its argument, and different dimensions (here, genes) to be columns."
   ]
  },
  {
   "cell_type": "code",
   "execution_count": null,
   "metadata": {
    "collapsed": false
   },
   "outputs": [],
   "source": [
    "## ------------------------------------------------------------------------\n",
    "sampleDists <- dist(t(assay(rld)))\n",
    "sampleDists"
   ]
  },
  {
   "cell_type": "markdown",
   "metadata": {},
   "source": [
    "We visualize the distances in a heatmap in a figure below, using the function pheatmap from the pheatmap package."
   ]
  },
  {
   "cell_type": "code",
   "execution_count": null,
   "metadata": {
    "collapsed": false
   },
   "outputs": [],
   "source": [
    "## ------------------------------------------------------------------------\n",
    "library(\"pheatmap\")\n",
    "library(\"RColorBrewer\")\n",
    "\n",
    "## ----distheatmap, fig.width = 6.1, fig.height = 4.5----------------------\n",
    "sampleDistMatrix <- as.matrix( sampleDists )\n",
    "rownames(sampleDistMatrix) <- paste( rld$dex, rld$cell, sep = \" - \" )\n",
    "colnames(sampleDistMatrix) <- NULL\n",
    "colors <- colorRampPalette( rev(brewer.pal(9, \"Blues\")) )(255)\n",
    "pheatmap(sampleDistMatrix,\n",
    "         clustering_distance_rows = sampleDists,\n",
    "         clustering_distance_cols = sampleDists,\n",
    "         col = colors)"
   ]
  },
  {
   "cell_type": "markdown",
   "metadata": {},
   "source": [
    "**Heatmap of sample-to-sample distances using the rlog-transformed values.**\n",
    "\n",
    "Note that we have changed the row names of the distance matrix to contain treatment type and patient number instead of sample ID, so that we have all this information in view when looking at the heatmap.\n",
    "\n",
    "\n",
    "Another option for calculating sample distances is to use the Poisson Distance (Witten 2011), implemented in the PoiClaClu package. This measure of dissimilarity between counts also takes the inherent variance structure of counts into consideration when calculating the distances between samples. The PoissonDistance function takes the original count matrix (not normalized) with samples as rows instead of columns, so we need to transpose the counts in dds."
   ]
  },
  {
   "cell_type": "code",
   "execution_count": null,
   "metadata": {
    "collapsed": false
   },
   "outputs": [],
   "source": [
    "## ------------------------------------------------------------------------\n",
    "library(\"PoiClaClu\")\n",
    "poisd <- PoissonDistance(t(counts(dds)))\n",
    "\n",
    "## ----poisdistheatmap, fig.width = 6.1, fig.height = 4.5------------------\n",
    "samplePoisDistMatrix <- as.matrix( poisd$dd )\n",
    "rownames(samplePoisDistMatrix) <- paste( rld$dex, rld$cell, sep=\" - \" )\n",
    "colnames(samplePoisDistMatrix) <- NULL\n",
    "pheatmap(samplePoisDistMatrix,\n",
    "         clustering_distance_rows = poisd$dd,\n",
    "         clustering_distance_cols = poisd$dd,\n",
    "         col = colors)\n"
   ]
  },
  {
   "cell_type": "markdown",
   "metadata": {},
   "source": [
    "**Heatmap of sample-to-sample distances using the Poisson Distance.**"
   ]
  },
  {
   "cell_type": "markdown",
   "metadata": {},
   "source": [
    "### PCA plot\n",
    "\n",
    "Another way to visualize sample-to-sample distances is a principal components analysis (PCA). In this ordination method, the data points (here, the samples) are projected onto the 2D plane such that they spread out in the two directions that explain most of the differences (figure below). The x-axis is the direction that separates the data points the most. The values of the samples in this direction are written PC1. The y-axis is a direction (it must be orthogonal to the first direction) that separates the data the second most. The values of the samples in this direction are written PC2. The percent of the total variance that is contained in the direction is printed in the axis label. Note that these percentages do not add to 100%, because there are more dimensions that contain the remaining variance (although each of these remaining dimensions will explain less than the two that we see)."
   ]
  },
  {
   "cell_type": "code",
   "execution_count": null,
   "metadata": {
    "collapsed": false
   },
   "outputs": [],
   "source": [
    "## ----plotpca, fig.width=6, fig.height=4.5--------------------------------\n",
    "plotPCA(rld, intgroup = c(\"dex\", \"cell\"))\n"
   ]
  },
  {
   "cell_type": "markdown",
   "metadata": {},
   "source": [
    "**PCA plot using the rlog-transformed values.** Each unique combination of treatment and cell line is given its own color.\n",
    "\n",
    "Here, we have used the function plotPCA that comes with DESeq2. The two terms specified by intgroup are the interesting groups for labeling the samples; they tell the function to use them to choose colors. We can also build the PCA plot from scratch using the ggplot2 package (Wickham 2009). This is done by asking the plotPCA function to return the data used for plotting rather than building the plot. See the ggplot2 documentation for more details on using ggplot."
   ]
  },
  {
   "cell_type": "code",
   "execution_count": null,
   "metadata": {
    "collapsed": false
   },
   "outputs": [],
   "source": [
    "## ------------------------------------------------------------------------\n",
    "pcaData <- plotPCA(rld, intgroup = c( \"dex\", \"cell\"), returnData = TRUE)\n",
    "pcaData\n",
    "percentVar <- round(100 * attr(pcaData, \"percentVar\"))\n",
    "\n",
    "## ----ggplotpca, fig.width=6, fig.height=4.5------------------------------\n",
    "ggplot(pcaData, aes(x = PC1, y = PC2, color = dex, shape = cell)) +\n",
    "  geom_point(size =3) +\n",
    "  xlab(paste0(\"PC1: \", percentVar[1], \"% variance\")) +\n",
    "  ylab(paste0(\"PC2: \", percentVar[2], \"% variance\")) +\n",
    "  coord_fixed()\n"
   ]
  },
  {
   "cell_type": "markdown",
   "metadata": {},
   "source": [
    "**PCA plot using the rlog-transformed values with custom ggplot2 code.** Here we specify cell line (plotting symbol) and dexamethasone treatment (color).\n",
    "\n",
    "From the PCA plot, we see that the differences between cells (the different plotting shapes) are considerable, though not stronger than the differences due to treatment with dexamethasone (red vs blue color). This shows why it will be important to account for this in differential testing by using a paired design (“paired”, because each dex treated sample is paired with one untreated sample from the same cell line). We are already set up for this design by assigning the formula ~ cell + dex earlier."
   ]
  },
  {
   "cell_type": "markdown",
   "metadata": {},
   "source": [
    "### MDS plot\n",
    "\n",
    "Another plot, very similar to the PCA plot, can be made using the multidimensional scaling (MDS) function in base R. This is useful when we don’t have a matrix of data, but only a matrix of distances. Here we compute the MDS for the distances calculated from the rlog transformed counts and plot these in a figure below."
   ]
  },
  {
   "cell_type": "code",
   "execution_count": null,
   "metadata": {
    "collapsed": false
   },
   "outputs": [],
   "source": [
    "## ----mdsrlog, fig.width=6, fig.height=4.5--------------------------------\n",
    "mds <- as.data.frame(colData(rld))  %>%\n",
    "         cbind(cmdscale(sampleDistMatrix))\n",
    "ggplot(mds, aes(x = `1`, y = `2`, color = dex, shape = cell)) +\n",
    "  geom_point(size = 3) + coord_fixed()\n"
   ]
  },
  {
   "cell_type": "markdown",
   "metadata": {},
   "source": [
    "#### MDS plot using rlog-transformed vlaues.\n",
    "\n",
    "In a figure below we show the same plot for the PoissonDistance:"
   ]
  },
  {
   "cell_type": "code",
   "execution_count": null,
   "metadata": {
    "collapsed": false
   },
   "outputs": [],
   "source": [
    "\n",
    "## ----mdspois, fig.width=6, fig.height=4.5--------------------------------\n",
    "mdsPois <- as.data.frame(colData(dds)) %>%\n",
    "   cbind(cmdscale(samplePoisDistMatrix))\n",
    "ggplot(mdsPois, aes(x = `1`, y = `2`, color = dex, shape = cell)) +\n",
    "  geom_point(size = 3) + coord_fixed()\n"
   ]
  },
  {
   "cell_type": "markdown",
   "metadata": {},
   "source": [
    "**MDS plot using the *Poisson Distance* **"
   ]
  },
  {
   "cell_type": "markdown",
   "metadata": {},
   "source": [
    "## Differentital expression analysis\n",
    "\n",
    "### Running the differential expression pipeline\n",
    "\n",
    "As we have already specified an experimental design when we created the DESeqDataSet, we can run the differential expression pipeline on the raw counts with a single call to the function DESeq:"
   ]
  },
  {
   "cell_type": "code",
   "execution_count": null,
   "metadata": {
    "collapsed": false
   },
   "outputs": [],
   "source": [
    "## ----airwayDE------------------------------------------------------------\n",
    "dds <- DESeq(dds)"
   ]
  },
  {
   "cell_type": "markdown",
   "metadata": {},
   "source": [
    "This function will print out a message for the various steps it performs. These are described in more detail in the manual page for DESeq, which can be accessed by typing ?DESeq. Briefly these are: the estimation of size factors (controlling for differences in the sequencing depth of the samples), the estimation of dispersion values for each gene, and fitting a generalized linear model.\n",
    "\n",
    "A DESeqDataSet is returned that contains all the fitted parameters within it, and the following section describes how to extract out results tables of interest from this object."
   ]
  },
  {
   "cell_type": "markdown",
   "metadata": {},
   "source": [
    "### Building the results table\n",
    "\n",
    "Calling results without any arguments will extract the estimated log2 fold changes and p values for the last variable in the design formula. If there are more than 2 levels for this variable, results will extract the results table for a comparison of the last level over the first level. The comparison is printed at the top of the output: dex trt vs untrt."
   ]
  },
  {
   "cell_type": "code",
   "execution_count": null,
   "metadata": {
    "collapsed": false
   },
   "outputs": [],
   "source": [
    "res <- results(dds)\n",
    "res\n",
    "\n",
    "mcols(res, use.names = TRUE)\n"
   ]
  },
  {
   "cell_type": "markdown",
   "metadata": {},
   "source": [
    "The first column, baseMean, is a just the average of the normalized count values, divided by the size factors, taken over all samples in the DESeqDataSet. The remaining four columns refer to a specific contrast, namely the comparison of the trt level over the untrt level for the factor variable dex. We will find out below how to obtain other contrasts.\n",
    "\n",
    "The column log2FoldChange is the effect size estimate. It tells us how much the gene’s expression seems to have changed due to treatment with dexamethasone in comparison to untreated samples. This value is reported on a logarithmic scale to base 2: for example, a log2 fold change of 1.5 means that the gene’s expression is increased by a multiplicative factor of 21.5 ≈ 2.82.\n",
    "\n",
    "Of course, this estimate has an uncertainty associated with it, which is available in the column lfcSE, the standard error estimate for the log2 fold change estimate. We can also express the uncertainty of a particular effect size estimate as the result of a statistical test. The purpose of a test for differential expression is to test whether the data provides sufficient evidence to conclude that this value is really different from zero. DESeq2 performs for each gene a hypothesis test to see whether evidence is sufficient to decide against the null hypothesis that there is zero effect of the treatment on the gene and that the observed difference between treatment and control was merely caused by experimental variability (i.e., the type of variability that you can expect between different samples in the same treatment group). As usual in statistics, the result of this test is reported as a p value, and it is found in the column pvalue. Remember that a p value indicates the probability that a fold change as strong as the observed one, or even stronger, would be seen under the situation described by the null hypothesis.\n",
    "\n",
    "\n",
    "We can also summarize the results with the following line of code, which reports some additional information, that will be covered in later sections."
   ]
  },
  {
   "cell_type": "code",
   "execution_count": null,
   "metadata": {
    "collapsed": false,
    "scrolled": false
   },
   "outputs": [],
   "source": [
    "summary(res)"
   ]
  },
  {
   "cell_type": "markdown",
   "metadata": {},
   "source": [
    "Note that there are many genes with differential expression due to dexamethasone treatment at the FDR level of 10%. This makes sense, as the smooth muscle cells of the airway are known to react to glucocorticoid steroids. However, there are two ways to be more strict about which set of genes are considered significant:\n",
    "\n",
    "* lower the false discovery rate threshold (the threshold on padj in the results table)\n",
    "* raise the log2 fold change threshold from 0 using the lfcThreshold argument of results\n",
    "\n",
    "If we lower the false discovery rate threshold, we should also inform the results() function about it, so that the function can use this threshold for the optimal independent filtering that it performs:"
   ]
  },
  {
   "cell_type": "code",
   "execution_count": null,
   "metadata": {
    "collapsed": false
   },
   "outputs": [],
   "source": [
    "## ------------------------------------------------------------------------\n",
    "res.05 <- results(dds, alpha = 0.05)\n",
    "table(res.05$padj < 0.05)\n"
   ]
  },
  {
   "cell_type": "markdown",
   "metadata": {},
   "source": [
    "If we want to raise the log2 fold change threshold, so that we test for genes that show more substantial changes due to treatment, we simply supply a value on the log2 scale. For example, by specifying lfcThreshold = 1, we test for genes that show significant effects of treatment on gene counts more than doubling or less than halving, because 21 = 2."
   ]
  },
  {
   "cell_type": "code",
   "execution_count": null,
   "metadata": {
    "collapsed": false
   },
   "outputs": [],
   "source": [
    "## ------------------------------------------------------------------------\n",
    "resLFC1 <- results(dds, lfcThreshold=1)\n",
    "table(resLFC1$padj < 0.1)\n"
   ]
  },
  {
   "cell_type": "markdown",
   "metadata": {},
   "source": [
    "Sometimes a subset of the p values in res will be NA (“not available”). This is DESeq’s way of reporting that all counts for this gene were zero, and hence no test was applied. In addition, p values can be assigned NA if the gene was excluded from analysis because it contained an extreme count outlier. For more information, see the outlier detection section of the DESeq2 vignette.\n",
    "\n",
    "If you use the results from an R analysis package in published research, you can find the proper citation for the software by typing citation(\"pkgName\"), where you would substitute the name of the package for pkgName. Citing methods papers helps to support and reward the individuals who put time into open source software for genomic data analysis."
   ]
  },
  {
   "cell_type": "markdown",
   "metadata": {},
   "source": [
    "### Other comaprisions\n",
    "\n",
    "In general, the results for a comparison of any two levels of a variable can be extracted using the contrast argument to results. The user should specify three values: the name of the variable, the name of the level for the numerator, and the name of the level for the denominator. Here we extract results for the log2 of the fold change of one cell line over another:"
   ]
  },
  {
   "cell_type": "code",
   "execution_count": null,
   "metadata": {
    "collapsed": false,
    "scrolled": false
   },
   "outputs": [],
   "source": [
    "results(dds, contrast = c(\"cell\", \"N061011\", \"N61311\"))"
   ]
  },
  {
   "cell_type": "markdown",
   "metadata": {},
   "source": [
    "If results for an interaction term are desired, the name argument of results should be used. Please see the help for the results function for more details."
   ]
  },
  {
   "cell_type": "markdown",
   "metadata": {},
   "source": [
    "### Multiple testing\n",
    "\n",
    "In high-throughput biology, we are careful to not use the p values directly as evidence against the null, but to correct for multiple testing. What would happen if we were to simply threshold the p values at a low value, say 0.05? There are 5676 genes with a p value below 0.05 among the 29391 genes for which the test succeeded in reporting a p value:"
   ]
  },
  {
   "cell_type": "code",
   "execution_count": null,
   "metadata": {
    "collapsed": false
   },
   "outputs": [],
   "source": [
    "## ----sumres--------------------------------------------------------------\n",
    "sum(res$pvalue < 0.05, na.rm=TRUE)\n",
    "sum(!is.na(res$pvalue))"
   ]
  },
  {
   "cell_type": "markdown",
   "metadata": {},
   "source": [
    "Now, assume for a moment that the null hypothesis is true for all genes, i.e., no gene is affected by the treatment with dexamethasone. Then, by the definition of the p value, we expect up to 5% of the genes to have a p value below 0.05. This amounts to 1470 genes. If we just considered the list of genes with a p value below 0.05 as differentially expressed, this list should therefore be expected to contain up to 1470 / 5676 = 26% false positives.\n",
    "\n",
    "DESeq2 uses the Benjamini-Hochberg (BH) adjustment (Benjamini and Hochberg 1995) as implemented in the base R p.adjust function; in brief, this method calculates for each gene an adjusted p value that answers the following question: if one called significant all genes with an adjusted p value less than or equal to this gene’s adjusted p value threshold, what would be the fraction of false positives (the false discovery rate, FDR) among them, in the sense of the calculation outlined above? These values, called the BH-adjusted p values, are given in the column padj of the res object.\n",
    "The FDR is a useful statistic for many high-throughput experiments, as we are often interested in reporting or focusing on a set of interesting genes, and we would like to put an upper bound on the percent of false positives in this set.\n",
    "\n",
    "Hence, if we consider a fraction of 10% false positives acceptable, we can consider all genes with an adjusted p value below 10% = 0.1 as significant. How many such genes are there?"
   ]
  },
  {
   "cell_type": "code",
   "execution_count": null,
   "metadata": {
    "collapsed": false
   },
   "outputs": [],
   "source": [
    "sum(res$padj < 0.1, na.rm=TRUE)"
   ]
  },
  {
   "cell_type": "markdown",
   "metadata": {},
   "source": [
    "We subset the results table to these genes and then sort it by the log2 fold change estimate to get the significant genes with the strongest down-regulation:"
   ]
  },
  {
   "cell_type": "code",
   "execution_count": null,
   "metadata": {
    "collapsed": false
   },
   "outputs": [],
   "source": [
    "resSig <- subset(res, padj < 0.1)\n",
    "head(resSig[ order(resSig$log2FoldChange), ])\n"
   ]
  },
  {
   "cell_type": "markdown",
   "metadata": {},
   "source": [
    "And the strongest up-regulation:"
   ]
  },
  {
   "cell_type": "code",
   "execution_count": null,
   "metadata": {
    "collapsed": false
   },
   "outputs": [],
   "source": [
    "## ------------------------------------------------------------------------\n",
    "head(resSig[ order(resSig$log2FoldChange, decreasing = TRUE), ])"
   ]
  },
  {
   "cell_type": "markdown",
   "metadata": {},
   "source": [
    "## Plotting Results\n",
    "\n",
    "A quick way to visualize the counts for a particular gene is to use the plotCounts function that takes as arguments the DESeqDataSet, a gene name, and the group over which to plot the counts (figure below)."
   ]
  },
  {
   "cell_type": "code",
   "execution_count": null,
   "metadata": {
    "collapsed": false,
    "scrolled": false
   },
   "outputs": [],
   "source": [
    "## ----plotcounts----------------------------------------------------------\n",
    "topGene <- rownames(res)[which.min(res$padj)]\n",
    "plotCounts(dds, gene = topGene, intgroup=c(\"dex\"))"
   ]
  },
  {
   "cell_type": "markdown",
   "metadata": {},
   "source": [
    "**Normalized counts for a single gene over treatment group.**\n",
    "\n",
    "We can also make custom plots using the ggplot function from the ggplot2 package (figures below)."
   ]
  },
  {
   "cell_type": "code",
   "execution_count": null,
   "metadata": {
    "collapsed": false
   },
   "outputs": [],
   "source": [
    "library(\"ggbeeswarm\")\n",
    "geneCounts <- plotCounts(dds, gene = topGene, intgroup = c(\"dex\",\"cell\"),\n",
    "                         returnData = TRUE)\n",
    "ggplot(geneCounts, aes(x = dex, y = count, color = cell)) +\n",
    "  scale_y_log10() +  geom_beeswarm(cex = 3)"
   ]
  },
  {
   "cell_type": "code",
   "execution_count": null,
   "metadata": {
    "collapsed": false
   },
   "outputs": [],
   "source": [
    "## ----ggplotcountsgroup, fig.width = 4, fig.height = 3--------------------\n",
    "ggplot(geneCounts, aes(x = dex, y = count, color = cell, group = cell)) +\n",
    "  scale_y_log10() + geom_point(size = 3) + geom_line()\n"
   ]
  },
  {
   "cell_type": "markdown",
   "metadata": {},
   "source": [
    "**Normalized counts with lines connecting cell lines.**\n",
    "Note that the DESeq test actually takes into account the cell line effect, so this figure more closely depicts the difference being tested.\n",
    "\n",
    "An MA-plot (R. Dudoit et al. 2002) provides a useful overview for an experiment with a two-group comparison (figure below)."
   ]
  },
  {
   "cell_type": "code",
   "execution_count": null,
   "metadata": {
    "collapsed": false
   },
   "outputs": [],
   "source": [
    "## ----plotma--------------------------------------------------------------\n",
    "plotMA(res, ylim = c(-5, 5))"
   ]
  },
  {
   "cell_type": "markdown",
   "metadata": {},
   "source": [
    "**An MA-plot of changes induced by treatment.** \n",
    "The log2 fold change for a particular comparison is plotted on the y-axis and the average of the counts normalized by size factor is shown on the x-axis (“M” for minus, because a log ratio is equal to log minus log, and “A” for average). Each gene is represented with a dot. Genes with an adjusted p value below a threshold (here 0.1, the default) are shown in red.\n",
    "\n",
    "The DESeq2 package uses statistical techniques to moderate log2 fold changes from genes with very low counts and highly variable counts, as can be seen by the narrowing of the vertical spread of points on the left side of the MA-plot. For a detailed explanation of the rationale of moderated fold changes, please see the DESeq2 paper (Love, Huber, and Anders 2014). This plot demonstrates that only genes with a large average normalized count contain sufficient information to yield a significant call.\n",
    "\n",
    "We can also make an MA-plot for the results table in which we raised the log2 fold change threshold (figure below). We can label individual points on the MA-plot as well. Here we use the with R function to plot a circle and text for a selected row of the results object. Within the with function, only the baseMean and log2FoldChange values for the selected rows of res are used."
   ]
  },
  {
   "cell_type": "code",
   "execution_count": null,
   "metadata": {
    "collapsed": false
   },
   "outputs": [],
   "source": [
    "## ----plotmalabel---------------------------------------------------------\n",
    "plotMA(resLFC1, ylim = c(-5,5))\n",
    "topGene <- rownames(resLFC1)[which.min(resLFC1$padj)]\n",
    "with(resLFC1[topGene, ], {\n",
    "  points(baseMean, log2FoldChange, col=\"dodgerblue\", cex=2, lwd=2)\n",
    "  text(baseMean, log2FoldChange, topGene, pos=2, col=\"dodgerblue\")\n",
    "})"
   ]
  },
  {
   "cell_type": "markdown",
   "metadata": {},
   "source": [
    "**An MA-plot of a test for large log2 fold changes.** The red points indicate genes for which the log2 fold change was significantly higher than 1 or less than -1 (treatment resulting in more than doubling or less than halving of the normalized counts). The point circled in blue indicates the gene with the lowest adjusted p value.\n",
    "\n",
    "Another useful diagnostic plot is the histogram of the p values (figure below). This plot is best formed by excluding genes with very small counts, which otherwise generate spikes in the histogram."
   ]
  },
  {
   "cell_type": "code",
   "execution_count": null,
   "metadata": {
    "collapsed": false
   },
   "outputs": [],
   "source": [
    "hist(res$pvalue[res$baseMean > 1], breaks = 0:20/20,\n",
    "     col = \"grey50\", border = \"white\")"
   ]
  },
  {
   "cell_type": "markdown",
   "metadata": {},
   "source": [
    "**Histogram of p values for genes with mean normalized count larger than 1.**"
   ]
  },
  {
   "cell_type": "markdown",
   "metadata": {},
   "source": [
    "### Gene clustering\n",
    "\n",
    "In the sample distance heatmap made previously, the dendrogram at the side shows us a hierarchical clustering of the samples. Such a clustering can also be performed for the genes. Since the clustering is only relevant for genes that actually carry a signal, one usually would only cluster a subset of the most highly variable genes. Here, for demonstration, let us select the 20 genes with the highest variance across samples. We will work with the rlog transformed counts:\n"
   ]
  },
  {
   "cell_type": "code",
   "execution_count": null,
   "metadata": {
    "collapsed": true
   },
   "outputs": [],
   "source": [
    "library(\"genefilter\")\n",
    "topVarGenes <- head(order(rowVars(assay(rld)), decreasing = TRUE), 20)"
   ]
  },
  {
   "cell_type": "markdown",
   "metadata": {},
   "source": [
    "The heatmap becomes more interesting if we do not look at absolute expression strength but rather at the amount by which each gene deviates in a specific sample from the gene’s average across all samples. Hence, we center each genes’ values across samples, and plot a heatmap (figure below). We provide a data.frame that instructs the pheatmap function how to label the columns."
   ]
  },
  {
   "cell_type": "code",
   "execution_count": null,
   "metadata": {
    "collapsed": false
   },
   "outputs": [],
   "source": [
    "mat  <- assay(rld)[ topVarGenes, ]\n",
    "mat  <- mat - rowMeans(mat)\n",
    "anno <- as.data.frame(colData(rld)[, c(\"cell\",\"dex\")])\n",
    "pheatmap(mat, annotation_col = anno)"
   ]
  },
  {
   "cell_type": "markdown",
   "metadata": {},
   "source": [
    "**Heatmap of relative rlog-transformed values across samples.** \n",
    "Treatment status and cell line information are shown with colored bars at the top of the heatmap. Blocks of genes that covary across patients. Note that a set of genes at the top of the heatmap are separating the N061011 cell line from the others. In the center of the heatmap, we see a set of genes for which the dexamethasone treated samples have higher gene expression."
   ]
  },
  {
   "cell_type": "markdown",
   "metadata": {},
   "source": [
    "**Independent Filtering**\n",
    "\n",
    "The MA plot highlights an important property of RNA-seq data. For weakly expressed genes, we have no chance of seeing differential expression, because the low read counts suffer from such high Poisson noise that any biological effect is drowned in the uncertainties from the sampling at a low rate. We can also show this by examining the ratio of small p values (say, less than 0.05) for genes binned by mean normalized count. We will use the results table subjected to the threshold to show what this looks like in a case when there are few tests with small p value.\n",
    "\n",
    "In the following code chunk, we create bins using the quantile function, bin the genes by base mean using cut, rename the levels of the bins using the middle point, calculate the ratio of p values less than 0.05 for each bin, and finally plot these ratios (figure below)."
   ]
  },
  {
   "cell_type": "code",
   "execution_count": null,
   "metadata": {
    "collapsed": false
   },
   "outputs": [],
   "source": [
    "## ----sensitivityovermean, fig.width=6------------------------------------\n",
    "qs <- c(0, quantile(resLFC1$baseMean[resLFC1$baseMean > 0], 0:6/6))\n",
    "bins <- cut(resLFC1$baseMean, qs)\n",
    "levels(bins) <- paste0(\"~\", round(signif((qs[-1] + qs[-length(qs)])/2, 2)))\n",
    "fractionSig <- tapply(resLFC1$pvalue, bins, function(p)\n",
    "                          mean(p < .05, na.rm = TRUE))\n",
    "barplot(fractionSig, xlab = \"mean normalized count\",\n",
    "                     ylab = \"fraction of small p values\")"
   ]
  },
  {
   "cell_type": "markdown",
   "metadata": {},
   "source": [
    "The ratio of small p values for genes binned by mean normalized count. The p values are from a test of log2 fold change greater than 1 or less than -1. This plot demonstrates that genes with very low mean count have little or no power, and are best excluded from testing.\n",
    "\n",
    "At first sight, there may seem to be little benefit in filtering out these genes. After all, the test found them to be non-significant anyway. However, these genes have an influence on the multiple testing adjustment, whose performance improves if such genes are removed. By removing the low count genes from the input to the FDR procedure, we can find more genes to be significant among those that we keep, and so improved the power of our test. This approach is known as independent filtering.\n",
    "\n",
    "The DESeq2 software automatically performs independent filtering that maximizes the number of genes with adjusted p value less than a critical value (by default, alpha is set to 0.1). This automatic independent filtering is performed by, and can be controlled by, the results function.\n",
    "\n",
    "The term independent highlights an important caveat. Such filtering is permissible only if the statistic that we filter on (here the mean of normalized counts across all samples) is independent of the actual test statistic (the p value) under the null hypothesis. Otherwise, the filtering would invalidate the test and consequently the assumptions of the BH procedure. The independent filtering software used inside DESeq2 comes from the genefilter package, that contains a reference to a paper describing the statistical foundation for independent filtering (Bourgon, Gentleman, and Huber 2010)."
   ]
  },
  {
   "cell_type": "markdown",
   "metadata": {},
   "source": [
    "## Annotating and exporting results\n",
    "\n",
    "Our result table so far only contains the Ensembl gene IDs, but alternative gene names may be more informative for interpretation. Bioconductor’s annotation packages help with mapping various ID schemes to each other. We load the AnnotationDbi package and the annotation package org.Hs.eg.db:"
   ]
  },
  {
   "cell_type": "code",
   "execution_count": null,
   "metadata": {
    "collapsed": false
   },
   "outputs": [],
   "source": [
    "## ------------------------------------------------------------------------\n",
    "library(\"AnnotationDbi\")\n",
    "library(\"org.Hs.eg.db\")"
   ]
  },
  {
   "cell_type": "markdown",
   "metadata": {},
   "source": [
    "This is the organism annotation package (“org”) for Homo sapiens (“Hs”), organized as an AnnotationDbi database package (“db”), using Entrez Gene IDs (“eg”) as primary key. To get a list of all available key types, use"
   ]
  },
  {
   "cell_type": "code",
   "execution_count": null,
   "metadata": {
    "collapsed": false
   },
   "outputs": [],
   "source": [
    "## ------------------------------------------------------------------------\n",
    "columns(org.Hs.eg.db)"
   ]
  },
  {
   "cell_type": "markdown",
   "metadata": {},
   "source": [
    "We can use the mapIds function to add individual columns to our results table. We provide the row names of our results table as a key, and specify that keytype=ENSEMBL. The column argument tells the mapIds function which information we want, and the multiVals argument tells the function what to do if there are multiple possible values for a single input value. Here we ask to just give us back the first one that occurs in the database. To add the gene symbol and Entrez ID, we call mapIds twice.\n"
   ]
  },
  {
   "cell_type": "code",
   "execution_count": null,
   "metadata": {
    "collapsed": false,
    "scrolled": true
   },
   "outputs": [],
   "source": [
    "## ------------------------------------------------------------------------\n",
    "res$symbol <- mapIds(org.Hs.eg.db,\n",
    "                     keys=row.names(res),\n",
    "                     column=\"SYMBOL\",\n",
    "                     keytype=\"ENSEMBL\",\n",
    "                     multiVals=\"first\")\n",
    "res$entrez <- mapIds(org.Hs.eg.db,\n",
    "                     keys=row.names(res),\n",
    "                     column=\"ENTREZID\",\n",
    "                     keytype=\"ENSEMBL\",\n",
    "                     multiVals=\"first\")"
   ]
  },
  {
   "cell_type": "markdown",
   "metadata": {},
   "source": [
    "### Exporting results\n",
    "\n",
    "You can easily save the results table in a CSV file that you can then share or load with a spreadsheet program such as Excel. The call to as.data.frame is necessary to convert the DataFrame object (IRanges package) to a data.frame object that can be processed by write.csv. Here, we take just the top 100 genes for demonstration."
   ]
  },
  {
   "cell_type": "code",
   "execution_count": null,
   "metadata": {
    "collapsed": false
   },
   "outputs": [],
   "source": [
    "## to export the file\n",
    "\n",
    "# resOrderedDF <- as.data.frame(resOrdered)[1:100, ]\n",
    "# write.csv(resOrderedDF, file = \"results.csv\")\n",
    "\n",
    "resOrdered <- res[order(res$padj),]\n",
    "head(resOrdered)"
   ]
  },
  {
   "cell_type": "markdown",
   "metadata": {},
   "source": [
    "### Plotting fold changes in genomic space\n",
    "\n",
    "If we have used the summarizeOverlaps function to count the reads, then our DESeqDataSet object is built on top of ready-to-use Bioconductor objects specifying the genomic coordinates of the genes. We can therefore easily plot our differential expression results in genomic space. While the results function by default returns a DataFrame, using the format argument, we can ask for GRanges or GRangesList output."
   ]
  },
  {
   "cell_type": "code",
   "execution_count": null,
   "metadata": {
    "collapsed": false
   },
   "outputs": [],
   "source": [
    "## ------------------------------------------------------------------------\n",
    "resGR <- results(dds, lfcThreshold = 1, format = \"GRanges\")\n",
    "resGR\n"
   ]
  },
  {
   "cell_type": "markdown",
   "metadata": {},
   "source": [
    "We need to add the symbol again for labeling the genes on the plot:"
   ]
  },
  {
   "cell_type": "code",
   "execution_count": null,
   "metadata": {
    "collapsed": false
   },
   "outputs": [],
   "source": [
    "resGR$symbol <- mapIds(org.Hs.eg.db, names(resGR), \"SYMBOL\", \"ENSEMBL\")"
   ]
  },
  {
   "cell_type": "markdown",
   "metadata": {},
   "source": [
    "We will use the Gviz package for plotting the GRanges and associated metadata: the log fold changes due to dexamethasone treatment."
   ]
  },
  {
   "cell_type": "code",
   "execution_count": null,
   "metadata": {
    "collapsed": false
   },
   "outputs": [],
   "source": [
    "library(\"Gviz\")"
   ]
  },
  {
   "cell_type": "markdown",
   "metadata": {},
   "source": [
    "The following code chunk specifies a window of 1 million base pairs upstream and downstream from the gene with the smallest p value. We create a subset of our full results, for genes within the window. We add the gene symbol as a name if the symbol exists and is not duplicated in our subset."
   ]
  },
  {
   "cell_type": "code",
   "execution_count": null,
   "metadata": {
    "collapsed": true
   },
   "outputs": [],
   "source": [
    "## ------------------------------------------------------------------------\n",
    "window <- resGR[topGene] + 1e6\n",
    "strand(window) <- \"*\"\n",
    "resGRsub <- resGR[resGR %over% window]\n",
    "naOrDup <- is.na(resGRsub$symbol) | duplicated(resGRsub$symbol)\n",
    "resGRsub$group <- ifelse(naOrDup, names(resGRsub), resGRsub$symbol)\n"
   ]
  },
  {
   "cell_type": "markdown",
   "metadata": {},
   "source": [
    "We create a vector specifying if the genes in this subset had a low value of padj."
   ]
  },
  {
   "cell_type": "code",
   "execution_count": null,
   "metadata": {
    "collapsed": true
   },
   "outputs": [],
   "source": [
    "## ------------------------------------------------------------------------\n",
    "status <- factor(ifelse(resGRsub$padj < 0.1 & !is.na(resGRsub$padj),\n",
    "                     \"sig\", \"notsig\"))"
   ]
  },
  {
   "cell_type": "markdown",
   "metadata": {},
   "source": [
    "We can then plot the results using Gviz functions (figure below). We create an axis track specifying our location in the genome, a track that will show the genes and their names, colored by significance, and a data track that will draw vertical bars showing the moderated log fold change produced by DESeq2, which we know are only large when the effect is well supported by the information in the counts."
   ]
  },
  {
   "cell_type": "code",
   "execution_count": null,
   "metadata": {
    "collapsed": false
   },
   "outputs": [],
   "source": [
    "## ----gvizplot------------------------------------------------------------\n",
    "options(ucscChromosomeNames = FALSE)\n",
    "g <- GenomeAxisTrack()\n",
    "a <- AnnotationTrack(resGRsub, name = \"gene ranges\", feature = status)\n",
    "d <- DataTrack(resGRsub, data = \"log2FoldChange\", baseline = 0,\n",
    "               type = \"h\", name = \"log2 fold change\", strand = \"+\")\n",
    "plotTracks(list(g, d, a), groupAnnotation = \"group\",\n",
    "           notsig = \"grey\", sig = \"hotpink\")\n"
   ]
  },
  {
   "cell_type": "markdown",
   "metadata": {},
   "source": [
    "**log2 fold changes in genomic region surrounding the gene with smallest adjusted p value.** \n",
    "Genes highlighted in pink have adjusted p value less than 0.1."
   ]
  },
  {
   "cell_type": "markdown",
   "metadata": {},
   "source": [
    "## Removing hidden batch effects\n",
    "\n",
    "Suppose we did not know that there were different cell lines involved in the experiment, only that there was treatment with dexamethasone. The cell line effect on the counts then would represent some hidden and unwanted variation that might be affecting many or all of the genes in the dataset. We can use statistical methods designed for RNA-seq from the sva package (Leek 2014) to detect such groupings of the samples, and then we can add these to the DESeqDataSet design, in order to account for them. The SVA package uses the term surrogate variables for the estimated variables that we want to account for in our analysis. Another package for detecting hidden batches is the RUVSeq package (Risso et al. 2014), with the acronym “Remove Unwanted Variation”."
   ]
  },
  {
   "cell_type": "code",
   "execution_count": null,
   "metadata": {
    "collapsed": false
   },
   "outputs": [],
   "source": [
    "## ------------------------------------------------------------------------\n",
    "library(\"sva\")"
   ]
  },
  {
   "cell_type": "markdown",
   "metadata": {},
   "source": [
    "Below we obtain a matrix of normalized counts for which the average count across samples is larger than 1. As we described above, we are trying to recover any hidden batch effects, supposing that we do not know the cell line information. So we use a full model matrix with the dex variable, and a reduced, or null, model matrix with only an intercept term. Finally we specify that we want to estimate 2 surrogate variables. For more information read the manual page for the svaseq function by typing *?svaseq*."
   ]
  },
  {
   "cell_type": "code",
   "execution_count": null,
   "metadata": {
    "collapsed": false
   },
   "outputs": [],
   "source": [
    "dat  <- counts(dds, normalized = TRUE)\n",
    "idx  <- rowMeans(dat) > 1\n",
    "dat  <- dat[idx, ]\n",
    "mod  <- model.matrix(~ dex, colData(dds))\n",
    "mod0 <- model.matrix(~   1, colData(dds))\n",
    "svseq <- svaseq(dat, mod, mod0, n.sv = 2)\n",
    "svseq$sv\n"
   ]
  },
  {
   "cell_type": "markdown",
   "metadata": {},
   "source": [
    "Because we actually do know the cell lines, we can see how well the SVA method did at recovering these variables (figure below)."
   ]
  },
  {
   "cell_type": "code",
   "execution_count": null,
   "metadata": {
    "collapsed": false
   },
   "outputs": [],
   "source": [
    "par(mfrow = c(2, 1), mar = c(3,5,3,1))\n",
    "for (i in 1:2) {\n",
    "  stripchart(svseq$sv[, i] ~ dds$cell, vertical = TRUE, main = paste0(\"SV\", i))\n",
    "  abline(h = 0)\n",
    " }"
   ]
  },
  {
   "cell_type": "markdown",
   "metadata": {},
   "source": [
    "**Surrogate variables 1 and 2 plotted over cell line.** \n",
    "Here, we know the hidden source of variation (cell line), and therefore can see how the SVA procedure is able to identify a source of variation which is correlated with cell line.\n",
    "\n",
    "Finally, in order to use SVA to remove any effect on the counts from our surrogate variables, we simply add these two surrogate variables as columns to the DESeqDataSet and then add them to the design:"
   ]
  },
  {
   "cell_type": "code",
   "execution_count": null,
   "metadata": {
    "collapsed": true
   },
   "outputs": [],
   "source": [
    "## ------------------------------------------------------------------------\n",
    "ddssva <- dds\n",
    "ddssva$SV1 <- svseq$sv[,1]\n",
    "ddssva$SV2 <- svseq$sv[,2]\n",
    "design(ddssva) <- ~ SV1 + SV2 + dex"
   ]
  },
  {
   "cell_type": "markdown",
   "metadata": {},
   "source": [
    "We could then produce results controlling for surrogate variables by running DESeq with the new design:"
   ]
  },
  {
   "cell_type": "code",
   "execution_count": null,
   "metadata": {
    "collapsed": false
   },
   "outputs": [],
   "source": [
    "ddssva %<>% DESeq"
   ]
  },
  {
   "cell_type": "markdown",
   "metadata": {},
   "source": [
    "## Time course experiments\n",
    "\n",
    "DESeq2 can be used to analyze time course experiments, for example to find those genes that react in a condition-specific manner over time, compared to a set of baseline samples. Here we demonstrate a basic time course analysis with the fission data package, which contains gene counts for an RNA-seq time course of fission yeast (Leong et al. 2014). The yeast were exposed to oxidative stress, and half of the samples contained a deletion of the gene atf21. We use a design formula that models the strain difference at time 0, the difference over time, and any strain-specific differences over time (the interaction term strain:minute)."
   ]
  },
  {
   "cell_type": "code",
   "execution_count": null,
   "metadata": {
    "collapsed": true
   },
   "outputs": [],
   "source": [
    "## ------------------------------------------------------------------------\n",
    "library(\"fission\")\n",
    "data(\"fission\")\n",
    "ddsTC <- DESeqDataSet(fission, ~ strain + minute + strain:minute)"
   ]
  },
  {
   "cell_type": "markdown",
   "metadata": {},
   "source": [
    "The following chunk of code performs a likelihood ratio test, where we remove the strain-specific differences over time. Genes with small p values from this test are those which at one or more time points after time 0 showed a strain-specific effect. Note therefore that this will not give small p values to genes that moved up or down over time in the same way in both strains."
   ]
  },
  {
   "cell_type": "code",
   "execution_count": null,
   "metadata": {
    "collapsed": false
   },
   "outputs": [],
   "source": [
    "## ----fissionDE-----------------------------------------------------------\n",
    "ddsTC <- DESeq(ddsTC, test=\"LRT\", reduced = ~ strain + minute)\n",
    "resTC <- results(ddsTC)\n",
    "resTC$symbol <- mcols(ddsTC)$symbol\n",
    "head(resTC[order(resTC$padj),], 4)"
   ]
  },
  {
   "cell_type": "markdown",
   "metadata": {},
   "source": [
    "This is just one of the tests that can be applied to time series data. Another option would be to model the counts as a smooth function of time, and to include an interaction term of the condition with the smooth function. It is possible to build such a model using spline basis functions within R, and another, more modern approach is using Gaussian processes (Tonner et al. 2017).\n",
    "\n",
    "We can plot the counts for the groups over time using ggplot2, for the gene with the smallest adjusted p value, testing for condition-dependent time profile and accounting for differences at time 0 (figure below). Keep in mind that the interaction terms are the difference between the two groups at a given time after accounting for the difference at time 0."
   ]
  },
  {
   "cell_type": "code",
   "execution_count": null,
   "metadata": {
    "collapsed": false
   },
   "outputs": [],
   "source": [
    "fiss <- plotCounts(ddsTC, which.min(resTC$padj), \n",
    "                   intgroup = c(\"minute\",\"strain\"), returnData = TRUE)\n",
    "ggplot(fiss,\n",
    "  aes(x = as.numeric(minute), y = count, color = strain, group = strain)) + \n",
    "  geom_point() + geom_smooth(se = FALSE, method = \"loess\") + scale_y_log10()"
   ]
  },
  {
   "cell_type": "markdown",
   "metadata": {},
   "source": [
    "**Normalized counts for a gene with condition-specific changes over time.**\n",
    "\n",
    "Wald tests for the log2 fold changes at individual time points can be investigated using the test argument to results:"
   ]
  },
  {
   "cell_type": "code",
   "execution_count": null,
   "metadata": {
    "collapsed": false
   },
   "outputs": [],
   "source": [
    "## ------------------------------------------------------------------------\n",
    "resultsNames(ddsTC)\n",
    "res30 <- results(ddsTC, name=\"strainmut.minute30\", test=\"Wald\")\n",
    "res30[which.min(resTC$padj),]\n"
   ]
  },
  {
   "cell_type": "markdown",
   "metadata": {},
   "source": [
    "We can furthermore cluster significant genes by their profiles. We extract a matrix of the shrunken log2 fold changes using the coef function:"
   ]
  },
  {
   "cell_type": "code",
   "execution_count": null,
   "metadata": {
    "collapsed": false
   },
   "outputs": [],
   "source": [
    "## ------------------------------------------------------------------------\n",
    "betas <- coef(ddsTC)\n",
    "colnames(betas)"
   ]
  },
  {
   "cell_type": "markdown",
   "metadata": {},
   "source": [
    "We can now plot the log2 fold changes in a heatmap (figure below)."
   ]
  },
  {
   "cell_type": "code",
   "execution_count": null,
   "metadata": {
    "collapsed": false,
    "scrolled": false
   },
   "outputs": [],
   "source": [
    "## ----fissionheatmap------------------------------------------------------\n",
    "topGenes <- head(order(resTC$padj),20)\n",
    "mat <- betas[topGenes, -c(1,2)]\n",
    "thr <- 3 \n",
    "mat[mat < -thr] <- -thr\n",
    "mat[mat > thr] <- thr\n",
    "pheatmap(mat, breaks=seq(from=-thr, to=thr, length=101),\n",
    "         cluster_col=FALSE)"
   ]
  },
  {
   "cell_type": "markdown",
   "metadata": {},
   "source": [
    "**Heatmap of log2 fold changes for genes with smallest adjusted p value.**\n",
    "\n",
    "The bottom set of genes show strong induction of expression for the baseline samples in minutes 15-60 (red boxes in the bottom left corner), but then have slight differences for the mutant strain (shown in the boxes in the bottom right corner)."
   ]
  },
  {
   "cell_type": "markdown",
   "metadata": {},
   "source": [
    "## Session Information\n",
    "\n",
    "As the last part of this document, we call the function sessionInfo, which reports the version numbers of R and all the packages used in this session. It is good practice to always keep such a record of this as it will help to track down what has happened in case an R script ceases to work or gives different results because the functions have been changed in a newer version of one of your packages. By including it at the bottom of a script, your reports will become more reproducible.\n",
    "\n",
    "The session information should also always be included in any emails to the Bioconductor support site along with all code used in the analysis."
   ]
  },
  {
   "cell_type": "code",
   "execution_count": null,
   "metadata": {
    "collapsed": false,
    "scrolled": true
   },
   "outputs": [],
   "source": [
    "## ------------------------------------------------------------------------\n",
    "devtools::session_info()"
   ]
  },
  {
   "cell_type": "code",
   "execution_count": 12,
   "metadata": {
    "collapsed": false
   },
   "outputs": [
    {
     "ename": "ERROR",
     "evalue": "Error in !ls: invalid argument type\n",
     "output_type": "error",
     "traceback": [
      "Error in !ls: invalid argument type\nTraceback:\n"
     ]
    }
   ],
   "source": [
    "!ls"
   ]
  },
  {
   "cell_type": "code",
   "execution_count": 20,
   "metadata": {
    "collapsed": false
   },
   "outputs": [
    {
     "data": {
      "text/html": [
       "<ol class=list-inline>\n",
       "\t<li>'Binder'</li>\n",
       "\t<li>'GPL96.annot'</li>\n",
       "\t<li>'GSE13425_Norm_Whole.txt'</li>\n",
       "\t<li>'GSE7765-GPL96_series_matrix.txt'</li>\n",
       "\t<li>'Git_upload'</li>\n",
       "\t<li>'IntroMicroarray.R'</li>\n",
       "\t<li>'Microarray.R'</li>\n",
       "\t<li>'RNASeq Data - Bioconductor - Binder.ipynb'</li>\n",
       "\t<li>'RNASeq Data - Bioconductor.ipynb'</li>\n",
       "\t<li>'RNAseq.pdf'</li>\n",
       "\t<li>'fastq'</li>\n",
       "</ol>\n"
      ],
      "text/latex": [
       "\\begin{enumerate*}\n",
       "\\item 'Binder'\n",
       "\\item 'GPL96.annot'\n",
       "\\item 'GSE13425\\_Norm\\_Whole.txt'\n",
       "\\item 'GSE7765-GPL96\\_series\\_matrix.txt'\n",
       "\\item 'Git\\_upload'\n",
       "\\item 'IntroMicroarray.R'\n",
       "\\item 'Microarray.R'\n",
       "\\item 'RNASeq Data - Bioconductor - Binder.ipynb'\n",
       "\\item 'RNASeq Data - Bioconductor.ipynb'\n",
       "\\item 'RNAseq.pdf'\n",
       "\\item 'fastq'\n",
       "\\end{enumerate*}\n"
      ],
      "text/markdown": [
       "1. 'Binder'\n",
       "2. 'GPL96.annot'\n",
       "3. 'GSE13425_Norm_Whole.txt'\n",
       "4. 'GSE7765-GPL96_series_matrix.txt'\n",
       "5. 'Git_upload'\n",
       "6. 'IntroMicroarray.R'\n",
       "7. 'Microarray.R'\n",
       "8. 'RNASeq Data - Bioconductor - Binder.ipynb'\n",
       "9. 'RNASeq Data - Bioconductor.ipynb'\n",
       "10. 'RNAseq.pdf'\n",
       "11. 'fastq'\n",
       "\n",
       "\n"
      ],
      "text/plain": [
       " [1] \"Binder\"                                   \n",
       " [2] \"GPL96.annot\"                              \n",
       " [3] \"GSE13425_Norm_Whole.txt\"                  \n",
       " [4] \"GSE7765-GPL96_series_matrix.txt\"          \n",
       " [5] \"Git_upload\"                               \n",
       " [6] \"IntroMicroarray.R\"                        \n",
       " [7] \"Microarray.R\"                             \n",
       " [8] \"RNASeq Data - Bioconductor - Binder.ipynb\"\n",
       " [9] \"RNASeq Data - Bioconductor.ipynb\"         \n",
       "[10] \"RNAseq.pdf\"                               \n",
       "[11] \"fastq\"                                    "
      ]
     },
     "metadata": {},
     "output_type": "display_data"
    },
    {
     "data": {
      "text/html": [
       "'C:/Users/Yash/Desktop/Gene analysis ex'"
      ],
      "text/latex": [
       "'C:/Users/Yash/Desktop/Gene analysis ex'"
      ],
      "text/markdown": [
       "'C:/Users/Yash/Desktop/Gene analysis ex'"
      ],
      "text/plain": [
       "[1] \"C:/Users/Yash/Desktop/Gene analysis ex\""
      ]
     },
     "metadata": {},
     "output_type": "display_data"
    }
   ],
   "source": [
    "system(\"ls\", intern=TRUE) \n",
    "getwd()"
   ]
  },
  {
   "cell_type": "markdown",
   "metadata": {
    "collapsed": true
   },
   "source": [
    "## Custom styling"
   ]
  },
  {
   "cell_type": "code",
   "execution_count": null,
   "metadata": {
    "collapsed": false
   },
   "outputs": [],
   "source": [
    "%lsmagic"
   ]
  },
  {
   "cell_type": "code",
   "execution_count": null,
   "metadata": {
    "collapsed": true
   },
   "outputs": [],
   "source": [
    "from IPython.core.display import HTML\n",
    "import urllib2\n",
    "HTML( urllib2.urlopen('http://bit.ly/1Bf5Hft').read() )"
   ]
  }
 ],
 "metadata": {
  "anaconda-cloud": {},
  "kernelspec": {
   "display_name": "R",
   "language": "R",
   "name": "ir"
  },
  "language_info": {
   "codemirror_mode": "r",
   "file_extension": ".r",
   "mimetype": "text/x-r-source",
   "name": "R",
   "pygments_lexer": "r",
   "version": "3.3.2"
  }
 },
 "nbformat": 4,
 "nbformat_minor": 1
}
