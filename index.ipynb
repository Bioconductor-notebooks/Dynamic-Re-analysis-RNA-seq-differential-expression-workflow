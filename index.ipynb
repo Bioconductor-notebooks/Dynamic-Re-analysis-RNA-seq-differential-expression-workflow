{
 "cells": [
  {
   "cell_type": "markdown",
   "metadata": {},
   "source": [
    "# Dynamic Re-analysis: RNA-seq workflow gene-level exploratory analysis and differential expression\n",
    "\n",
    "The following workflow reproduced from  https://www.bioconductor.org/help/workflows/rnaseqGene/#introduction \n",
    "\n",
    "*Authors*: Michael I. Love, Simon Anders, Vladislav Kim and Wolfgang Huber\n",
    "\n",
    "The workflow deals with an end-to-end gene-level RNA-seq differential expression using Bioconductor packages reproduced on a Jupyter notebook. We will start from the FASTQ files, show how these were aligned to the reference genome, and prepare a count matrix which tallies the number of RNA-seq reads/fragments within each gene for each sample. We will perform exploratory data analysis (EDA) for quality assessment and to explore the relationship between samples, perform differential gene expression analysis, and visually explore the results."
   ]
  },
  {
   "cell_type": "markdown",
   "metadata": {},
   "source": [
    "## Introduction\n",
    "\n",
    "Bioconductor has many packages which support analysis of high-throughput sequence data, including RNA sequencing (RNA-seq). The packages which we will use in this workflow include core packages maintained by the Bioconductor core team for importing and processing raw sequencing data and loading gene annotations. We will also use contributed packages for statistical analysis and visualization of sequencing data. \n",
    "\n",
    "### Experimental Data\n",
    "\n",
    "The data used in this workflow is stored in the airway[2] package that summarizes an RNA-seq experiment wherein airway smooth muscle cells were treated with dexamethasone, a synthetic glucocorticoid steroid with anti-inflammatory effects (Himes et al. 2014). Glucocorticoids are used, for example, by people with asthma to reduce inflammation of the airways. In the experiment, four primary human airway smooth muscle cell lines were treated with 1 micromolar dexamethasone for 18 hours. For each of the four cell lines, we have a treated and an untreated sample."
   ]
  },
  {
   "cell_type": "markdown",
   "metadata": {},
   "source": [
    "## Preparing Count Matrices\n",
    "\n",
    "As input, the count-based statistical methods, such as [DESeq2](http://bioconductor.org/packages/DESeq2) (Love, Huber, and Anders 2014) [8], [edgeR](http://bioconductor.org/packages/edgeR) (M. D. Robinson, McCarthy, and Smyth 2009), [limma](http://bioconductor.org/packages/limma) with the voom method (Law et al. 2014), [DSS](http://bioconductor.org/packages/DSS) (H. Wu, Wang, and Wu 2013), [EBSeq](http://bioconductor.org/packages/EBSeq) (Leng et al. 2013) and [baySeq](http://bioconductor.org/packages/baySeq) (Hardcastle and Kelly 2010), expect input data as obtained, e.g., from RNA-seq or another high-throughput sequencing experiment, in the form of a matrix of integer values. The value in the i-th row and the j-th column of the matrix tells how many reads (or fragments, for paired-end RNA-seq) have been assigned to gene i in sample j. Analogously, for other types of assays, the rows of the matrix might correspond e.g., to binding regions (with ChIP-Seq), species of bacteria (with metagenomic datasets), or peptide sequences (with quantitative mass spectrometry).\n",
    "\n",
    "The values in the matrix should be counts of sequencing reads/fragments. This is important for DESeq2’s statistical model to hold, as only counts allow assessing the measurement precision correctly. It is important to never provide counts that were pre-normalized for sequencing depth/library size, as the statistical model is most powerful when applied to un-normalized counts, and is designed to account for library size differences internally."
   ]
  },
  {
   "cell_type": "markdown",
   "metadata": {},
   "source": [
    "### Aligning read to a reference genome\n",
    "\n",
    "The computational analysis of an RNA-seq experiment begins from the FASTQ files that contain the nucleotide sequence of each read and a quality score at each position. These reads must first be aligned to a reference genome or transcriptome, or the abundances and estimated counts per transcript can be estimated without alignment, as described above. In either case, it is important to know if the sequencing experiment was single-end or paired-end, as the alignment software will require the user to specify both FASTQ files for a paired-end experiment. The output of this alignment step is commonly stored in a file format called [SAM/BAM](http://samtools.github.io/hts-specs).\n",
    "\n",
    "A number of software programs exist to align reads to a reference genome, and we encourage you to check out some of the benchmarking papers that discuss the advantages and disadvantages of each software, which include accuracy, sensitivity in aligning reads over splice junctions, speed, memory required, usability, and many other features. Here, we used the STAR read aligner (Dobin et al. 2013) to align the reads for our current experiment to the Ensembl release 75 (Flicek et al. 2014) human reference genome. In the following code example, it is assumed that there is a file in the current directory called <span style=\"color:green\">files</span> with each line containing an identifier for each experiment, and we have all the FASTQ files in a subdirectory <span style=\"color:green\">fastq</span>. If you have downloaded the FASTQ files from the Sequence Read Archive, the identifiers would be SRA run IDs, e.g. <span style=\"color:green\">SRR1039520</span>. You should have two files for a paired-end experiment for each ID, <span style=\"color:green\">fastq/SRR1039520_1.fastq</span> and <span style=\"color:green\">fastq/SRR1039520_2.fastq</span>, which give the first and second read for the paired-end fragments. If you have performed a single-end experiment, you would only have one file per ID. We have also created a subdirectory, <span style=\"color:green\">aligned</span>, where STAR will output its alignment files.\n",
    "\n",
    "    for f in `cat files`; do STAR --genomeDir ../STAR/ENSEMBL.homo_sapiens.release-75 \\\n",
    "    --readFilesIn fastq/$f\\_1.fastq fastq/$f\\_2.fastq \\\n",
    "    --runThreadN 12 --outFileNamePrefix aligned/$f.; done\n",
    "\n",
    "[SAMtools](http://www.htslib.org/doc/samtools.html) (H. Li et al. 2009) was used to generate BAM files. The -@ flag can be used to allocate additional threads.\n",
    "\n",
    "    for f in `cat files`; do samtools view -bS aligned/$f.Aligned.out.sam \\\n",
    "-o aligned/$f.bam; done\n",
    "\n",
    "The BAM files for a number of sequencing runs can then be used to generate count matrices, as described in the following section."
   ]
  },
  {
   "cell_type": "code",
   "execution_count": 8,
   "metadata": {
    "collapsed": false
   },
   "outputs": [
    {
     "name": "stderr",
     "output_type": "stream",
     "text": [
      "Warning message:\n",
      "\"package 'knitr' was built under R version 3.3.3\"Warning message:\n",
      "\"package 'rmarkdown' was built under R version 3.3.3\""
     ]
    }
   ],
   "source": [
    "# Loading the requisite libraries and precomputation commands\n",
    "suppressPackageStartupMessages(library(\"BiocStyle\"))\n",
    "suppressPackageStartupMessages(library(\"knitr\"))\n",
    "suppressPackageStartupMessages(library(\"rmarkdown\"))\n",
    "\n",
    "# to hide warnings\n",
    "options(warn = -1)"
   ]
  },
  {
   "cell_type": "markdown",
   "metadata": {},
   "source": [
    "Installing requisite packages"
   ]
  },
  {
   "cell_type": "markdown",
   "metadata": {},
   "source": [
    "### Locating alignment files\n",
    "\n",
    "Besides the count matrix that we will use later, the airway[2] package also contains eight files with a small subset of the total number of reads in the experiment. The reads were selected which aligned to a small region of chromosome 1. Here, for demonstration, we chose a subset of reads because the full alignment files are large (a few gigabytes each), and because it takes between 10-30 minutes to count the fragments for each sample. We will use these files to demonstrate how a count matrix can be constructed from BAM files. Afterwards, we will load the full count matrix corresponding to all samples and all data, which is already provided in the same package, and will continue the analysis with that full matrix.\n",
    "\n",
    "We load the data package with the example data:"
   ]
  },
  {
   "cell_type": "code",
   "execution_count": 9,
   "metadata": {
    "collapsed": false
   },
   "outputs": [],
   "source": [
    "## Loading airway smooth muscle cell package package\n",
    "suppressPackageStartupMessages(library(\"airway\"))"
   ]
  },
  {
   "cell_type": "markdown",
   "metadata": {},
   "source": [
    "The R function system.file can be used to find out where on your computer the files from a package have been installed. Here we ask for the full path to the extdata directory, where R packages store external data, that is part of the [airway](http://bioconductor.org/packages/airway) [2] package."
   ]
  },
  {
   "cell_type": "code",
   "execution_count": 10,
   "metadata": {
    "collapsed": false
   },
   "outputs": [
    {
     "name": "stdout",
     "output_type": "stream",
     "text": [
      "[1] \"List of Files in the /extdata directory of the airway package:\"\n"
     ]
    },
    {
     "data": {
      "text/html": [
       "<ol class=list-inline>\n",
       "\t<li>'GSE52778_series_matrix.txt'</li>\n",
       "\t<li>'Homo_sapiens.GRCh37.75_subset.gtf'</li>\n",
       "\t<li>'sample_table.csv'</li>\n",
       "\t<li>'SraRunInfo_SRP033351.csv'</li>\n",
       "\t<li>'SRR1039508_subset.bam'</li>\n",
       "\t<li>'SRR1039509_subset.bam'</li>\n",
       "\t<li>'SRR1039512_subset.bam'</li>\n",
       "\t<li>'SRR1039513_subset.bam'</li>\n",
       "\t<li>'SRR1039516_subset.bam'</li>\n",
       "\t<li>'SRR1039517_subset.bam'</li>\n",
       "\t<li>'SRR1039520_subset.bam'</li>\n",
       "\t<li>'SRR1039521_subset.bam'</li>\n",
       "</ol>\n"
      ],
      "text/latex": [
       "\\begin{enumerate*}\n",
       "\\item 'GSE52778\\_series\\_matrix.txt'\n",
       "\\item 'Homo\\_sapiens.GRCh37.75\\_subset.gtf'\n",
       "\\item 'sample\\_table.csv'\n",
       "\\item 'SraRunInfo\\_SRP033351.csv'\n",
       "\\item 'SRR1039508\\_subset.bam'\n",
       "\\item 'SRR1039509\\_subset.bam'\n",
       "\\item 'SRR1039512\\_subset.bam'\n",
       "\\item 'SRR1039513\\_subset.bam'\n",
       "\\item 'SRR1039516\\_subset.bam'\n",
       "\\item 'SRR1039517\\_subset.bam'\n",
       "\\item 'SRR1039520\\_subset.bam'\n",
       "\\item 'SRR1039521\\_subset.bam'\n",
       "\\end{enumerate*}\n"
      ],
      "text/markdown": [
       "1. 'GSE52778_series_matrix.txt'\n",
       "2. 'Homo_sapiens.GRCh37.75_subset.gtf'\n",
       "3. 'sample_table.csv'\n",
       "4. 'SraRunInfo_SRP033351.csv'\n",
       "5. 'SRR1039508_subset.bam'\n",
       "6. 'SRR1039509_subset.bam'\n",
       "7. 'SRR1039512_subset.bam'\n",
       "8. 'SRR1039513_subset.bam'\n",
       "9. 'SRR1039516_subset.bam'\n",
       "10. 'SRR1039517_subset.bam'\n",
       "11. 'SRR1039520_subset.bam'\n",
       "12. 'SRR1039521_subset.bam'\n",
       "\n",
       "\n"
      ],
      "text/plain": [
       " [1] \"GSE52778_series_matrix.txt\"        \"Homo_sapiens.GRCh37.75_subset.gtf\"\n",
       " [3] \"sample_table.csv\"                  \"SraRunInfo_SRP033351.csv\"         \n",
       " [5] \"SRR1039508_subset.bam\"             \"SRR1039509_subset.bam\"            \n",
       " [7] \"SRR1039512_subset.bam\"             \"SRR1039513_subset.bam\"            \n",
       " [9] \"SRR1039516_subset.bam\"             \"SRR1039517_subset.bam\"            \n",
       "[11] \"SRR1039520_subset.bam\"             \"SRR1039521_subset.bam\"            "
      ]
     },
     "metadata": {},
     "output_type": "display_data"
    }
   ],
   "source": [
    "## Specifying external directory for the bioconductor package\n",
    "indir <- system.file(\"extdata\", package=\"airway\", mustWork=TRUE)\n",
    "print(\"List of Files in the /extdata directory of the airway package:\")\n",
    "list.files(indir)"
   ]
  },
  {
   "cell_type": "markdown",
   "metadata": {},
   "source": [
    "Typically, we have a table with detailed information for each of our samples that links samples to the associated FASTQ and BAM files. For your own project, you might create such a comma-separated value (CSV) file using a text editor or spreadsheet software such as Excel.\n",
    "We load such a CSV file with read.csv:"
   ]
  },
  {
   "cell_type": "code",
   "execution_count": 11,
   "metadata": {
    "collapsed": false
   },
   "outputs": [
    {
     "data": {
      "text/html": [
       "<table>\n",
       "<thead><tr><th></th><th scope=col>SampleName</th><th scope=col>cell</th><th scope=col>dex</th><th scope=col>albut</th><th scope=col>Run</th><th scope=col>avgLength</th><th scope=col>Experiment</th><th scope=col>Sample</th><th scope=col>BioSample</th></tr></thead>\n",
       "<tbody>\n",
       "\t<tr><th scope=row>SRR1039508</th><td>GSM1275862  </td><td>N61311      </td><td>untrt       </td><td>untrt       </td><td>SRR1039508  </td><td>126         </td><td>SRX384345   </td><td>SRS508568   </td><td>SAMN02422669</td></tr>\n",
       "\t<tr><th scope=row>SRR1039509</th><td>GSM1275863  </td><td>N61311      </td><td>trt         </td><td>untrt       </td><td>SRR1039509  </td><td>126         </td><td>SRX384346   </td><td>SRS508567   </td><td>SAMN02422675</td></tr>\n",
       "\t<tr><th scope=row>SRR1039512</th><td>GSM1275866  </td><td>N052611     </td><td>untrt       </td><td>untrt       </td><td>SRR1039512  </td><td>126         </td><td>SRX384349   </td><td>SRS508571   </td><td>SAMN02422678</td></tr>\n",
       "\t<tr><th scope=row>SRR1039513</th><td>GSM1275867  </td><td>N052611     </td><td>trt         </td><td>untrt       </td><td>SRR1039513  </td><td> 87         </td><td>SRX384350   </td><td>SRS508572   </td><td>SAMN02422670</td></tr>\n",
       "\t<tr><th scope=row>SRR1039516</th><td>GSM1275870  </td><td>N080611     </td><td>untrt       </td><td>untrt       </td><td>SRR1039516  </td><td>120         </td><td>SRX384353   </td><td>SRS508575   </td><td>SAMN02422682</td></tr>\n",
       "\t<tr><th scope=row>SRR1039517</th><td>GSM1275871  </td><td>N080611     </td><td>trt         </td><td>untrt       </td><td>SRR1039517  </td><td>126         </td><td>SRX384354   </td><td>SRS508576   </td><td>SAMN02422673</td></tr>\n",
       "\t<tr><th scope=row>SRR1039520</th><td>GSM1275874  </td><td>N061011     </td><td>untrt       </td><td>untrt       </td><td>SRR1039520  </td><td>101         </td><td>SRX384357   </td><td>SRS508579   </td><td>SAMN02422683</td></tr>\n",
       "\t<tr><th scope=row>SRR1039521</th><td>GSM1275875  </td><td>N061011     </td><td>trt         </td><td>untrt       </td><td>SRR1039521  </td><td> 98         </td><td>SRX384358   </td><td>SRS508580   </td><td>SAMN02422677</td></tr>\n",
       "</tbody>\n",
       "</table>\n"
      ],
      "text/latex": [
       "\\begin{tabular}{r|lllllllll}\n",
       "  & SampleName & cell & dex & albut & Run & avgLength & Experiment & Sample & BioSample\\\\\n",
       "\\hline\n",
       "\tSRR1039508 & GSM1275862   & N61311       & untrt        & untrt        & SRR1039508   & 126          & SRX384345    & SRS508568    & SAMN02422669\\\\\n",
       "\tSRR1039509 & GSM1275863   & N61311       & trt          & untrt        & SRR1039509   & 126          & SRX384346    & SRS508567    & SAMN02422675\\\\\n",
       "\tSRR1039512 & GSM1275866   & N052611      & untrt        & untrt        & SRR1039512   & 126          & SRX384349    & SRS508571    & SAMN02422678\\\\\n",
       "\tSRR1039513 & GSM1275867   & N052611      & trt          & untrt        & SRR1039513   &  87          & SRX384350    & SRS508572    & SAMN02422670\\\\\n",
       "\tSRR1039516 & GSM1275870   & N080611      & untrt        & untrt        & SRR1039516   & 120          & SRX384353    & SRS508575    & SAMN02422682\\\\\n",
       "\tSRR1039517 & GSM1275871   & N080611      & trt          & untrt        & SRR1039517   & 126          & SRX384354    & SRS508576    & SAMN02422673\\\\\n",
       "\tSRR1039520 & GSM1275874   & N061011      & untrt        & untrt        & SRR1039520   & 101          & SRX384357    & SRS508579    & SAMN02422683\\\\\n",
       "\tSRR1039521 & GSM1275875   & N061011      & trt          & untrt        & SRR1039521   &  98          & SRX384358    & SRS508580    & SAMN02422677\\\\\n",
       "\\end{tabular}\n"
      ],
      "text/markdown": [
       "\n",
       "| <!--/--> | SampleName | cell | dex | albut | Run | avgLength | Experiment | Sample | BioSample | \n",
       "|---|---|---|---|---|---|---|---|\n",
       "| SRR1039508 | GSM1275862   | N61311       | untrt        | untrt        | SRR1039508   | 126          | SRX384345    | SRS508568    | SAMN02422669 | \n",
       "| SRR1039509 | GSM1275863   | N61311       | trt          | untrt        | SRR1039509   | 126          | SRX384346    | SRS508567    | SAMN02422675 | \n",
       "| SRR1039512 | GSM1275866   | N052611      | untrt        | untrt        | SRR1039512   | 126          | SRX384349    | SRS508571    | SAMN02422678 | \n",
       "| SRR1039513 | GSM1275867   | N052611      | trt          | untrt        | SRR1039513   |  87          | SRX384350    | SRS508572    | SAMN02422670 | \n",
       "| SRR1039516 | GSM1275870   | N080611      | untrt        | untrt        | SRR1039516   | 120          | SRX384353    | SRS508575    | SAMN02422682 | \n",
       "| SRR1039517 | GSM1275871   | N080611      | trt          | untrt        | SRR1039517   | 126          | SRX384354    | SRS508576    | SAMN02422673 | \n",
       "| SRR1039520 | GSM1275874   | N061011      | untrt        | untrt        | SRR1039520   | 101          | SRX384357    | SRS508579    | SAMN02422683 | \n",
       "| SRR1039521 | GSM1275875   | N061011      | trt          | untrt        | SRR1039521   |  98          | SRX384358    | SRS508580    | SAMN02422677 | \n",
       "\n",
       "\n"
      ],
      "text/plain": [
       "           SampleName cell    dex   albut Run        avgLength Experiment\n",
       "SRR1039508 GSM1275862 N61311  untrt untrt SRR1039508 126       SRX384345 \n",
       "SRR1039509 GSM1275863 N61311  trt   untrt SRR1039509 126       SRX384346 \n",
       "SRR1039512 GSM1275866 N052611 untrt untrt SRR1039512 126       SRX384349 \n",
       "SRR1039513 GSM1275867 N052611 trt   untrt SRR1039513  87       SRX384350 \n",
       "SRR1039516 GSM1275870 N080611 untrt untrt SRR1039516 120       SRX384353 \n",
       "SRR1039517 GSM1275871 N080611 trt   untrt SRR1039517 126       SRX384354 \n",
       "SRR1039520 GSM1275874 N061011 untrt untrt SRR1039520 101       SRX384357 \n",
       "SRR1039521 GSM1275875 N061011 trt   untrt SRR1039521  98       SRX384358 \n",
       "           Sample    BioSample   \n",
       "SRR1039508 SRS508568 SAMN02422669\n",
       "SRR1039509 SRS508567 SAMN02422675\n",
       "SRR1039512 SRS508571 SAMN02422678\n",
       "SRR1039513 SRS508572 SAMN02422670\n",
       "SRR1039516 SRS508575 SAMN02422682\n",
       "SRR1039517 SRS508576 SAMN02422673\n",
       "SRR1039520 SRS508579 SAMN02422683\n",
       "SRR1039521 SRS508580 SAMN02422677"
      ]
     },
     "metadata": {},
     "output_type": "display_data"
    }
   ],
   "source": [
    "# accessing the sample table from the airway package.\n",
    "csvfile <- file.path(indir, \"sample_table.csv\")\n",
    "sampleTable <- read.csv(csvfile, row.names = 1)\n",
    "sampleTable"
   ]
  },
  {
   "cell_type": "markdown",
   "metadata": {},
   "source": [
    "Once the reads have been aligned, there are a number of tools that can be used to count the number of reads/fragments that can be assigned to genomic features for each sample. These often take as input SAM/BAM alignment files and a file specifying the genomic features, e.g. a GFF3 or GTF file specifying the gene models"
   ]
  },
  {
   "cell_type": "code",
   "execution_count": 12,
   "metadata": {
    "collapsed": false,
    "scrolled": true
   },
   "outputs": [
    {
     "data": {
      "text/html": [
       "<ol class=list-inline>\n",
       "\t<li>SRR1039508</li>\n",
       "\t<li>SRR1039509</li>\n",
       "\t<li>SRR1039512</li>\n",
       "\t<li>SRR1039513</li>\n",
       "\t<li>SRR1039516</li>\n",
       "\t<li>SRR1039517</li>\n",
       "\t<li>SRR1039520</li>\n",
       "\t<li>SRR1039521</li>\n",
       "</ol>\n"
      ],
      "text/latex": [
       "\\begin{enumerate*}\n",
       "\\item SRR1039508\n",
       "\\item SRR1039509\n",
       "\\item SRR1039512\n",
       "\\item SRR1039513\n",
       "\\item SRR1039516\n",
       "\\item SRR1039517\n",
       "\\item SRR1039520\n",
       "\\item SRR1039521\n",
       "\\end{enumerate*}\n"
      ],
      "text/markdown": [
       "1. SRR1039508\n",
       "2. SRR1039509\n",
       "3. SRR1039512\n",
       "4. SRR1039513\n",
       "5. SRR1039516\n",
       "6. SRR1039517\n",
       "7. SRR1039520\n",
       "8. SRR1039521\n",
       "\n",
       "\n"
      ],
      "text/plain": [
       "[1] SRR1039508 SRR1039509 SRR1039512 SRR1039513 SRR1039516 SRR1039517 SRR1039520\n",
       "[8] SRR1039521\n",
       "8 Levels: SRR1039508 SRR1039509 SRR1039512 SRR1039513 ... SRR1039521"
      ]
     },
     "metadata": {},
     "output_type": "display_data"
    },
    {
     "data": {
      "text/html": [
       "<ol class=list-inline>\n",
       "\t<li>TRUE</li>\n",
       "\t<li>TRUE</li>\n",
       "\t<li>TRUE</li>\n",
       "\t<li>TRUE</li>\n",
       "\t<li>TRUE</li>\n",
       "\t<li>TRUE</li>\n",
       "\t<li>TRUE</li>\n",
       "\t<li>TRUE</li>\n",
       "</ol>\n"
      ],
      "text/latex": [
       "\\begin{enumerate*}\n",
       "\\item TRUE\n",
       "\\item TRUE\n",
       "\\item TRUE\n",
       "\\item TRUE\n",
       "\\item TRUE\n",
       "\\item TRUE\n",
       "\\item TRUE\n",
       "\\item TRUE\n",
       "\\end{enumerate*}\n"
      ],
      "text/markdown": [
       "1. TRUE\n",
       "2. TRUE\n",
       "3. TRUE\n",
       "4. TRUE\n",
       "5. TRUE\n",
       "6. TRUE\n",
       "7. TRUE\n",
       "8. TRUE\n",
       "\n",
       "\n"
      ],
      "text/plain": [
       "[1] TRUE TRUE TRUE TRUE TRUE TRUE TRUE TRUE"
      ]
     },
     "metadata": {},
     "output_type": "display_data"
    }
   ],
   "source": [
    "## Checking for the existance of files in the package directory.\n",
    "filenames <- file.path(indir, paste0(sampleTable$Run, \"_subset.bam\"))\n",
    "unique(sampleTable$Run)\n",
    "file.exists(filenames)"
   ]
  },
  {
   "cell_type": "markdown",
   "metadata": {},
   "source": [
    "**DESeq2 import functions**\n",
    "\n",
    "The following tools can be used generate count matrices: summarizeOverlaps (Lawrence et al. 2013), featureCounts (Liao, Smyth, and Shi 2014), tximport (Soneson, Love, and Robinson 2015), htseq-count (Anders, Pyl, and Huber 2015).\n",
    "\n",
    "\n",
    "| **function** | **package** | **framework** | **output** | **DESeq2 input function** |\n",
    "|---|---|---|---|---|\n",
    "| summarizeOverlaps | GenomicAlignments | R/Bioconductor | SummarizedExperiment | DESeqDataSet |\n",
    "| featureCounts | Rsubread | R/Bioconductor | matrix | DESeqDataSetFromMatrix |\n",
    "| tximport | tximport | R/Bioconductor | list of matrices | DESeqDataSetFromTximport |\n",
    "| htseq-count | HTSeq | Python | files | DESeqDataSetFromHTSeq |\n",
    "\n",
    "We now proceed using summarizeOverlaps. Using the Run column in the sample table, we construct the full paths to the files we want to perform the counting operation on:"
   ]
  },
  {
   "cell_type": "code",
   "execution_count": 13,
   "metadata": {
    "collapsed": false
   },
   "outputs": [
    {
     "data": {
      "text/plain": [
       "Seqinfo object with 84 sequences from an unspecified genome:\n",
       "  seqnames   seqlengths isCircular genome\n",
       "  1           249250621       <NA>   <NA>\n",
       "  10          135534747       <NA>   <NA>\n",
       "  11          135006516       <NA>   <NA>\n",
       "  12          133851895       <NA>   <NA>\n",
       "  13          115169878       <NA>   <NA>\n",
       "  ...               ...        ...    ...\n",
       "  GL000210.1      27682       <NA>   <NA>\n",
       "  GL000231.1      27386       <NA>   <NA>\n",
       "  GL000229.1      19913       <NA>   <NA>\n",
       "  GL000226.1      15008       <NA>   <NA>\n",
       "  GL000207.1       4262       <NA>   <NA>"
      ]
     },
     "metadata": {},
     "output_type": "display_data"
    }
   ],
   "source": [
    "## Bam files list from the Rsamtools[3] package\n",
    "\n",
    "suppressPackageStartupMessages(library(\"Rsamtools\"))\n",
    "\n",
    "bamfiles <- BamFileList(filenames, yieldSize=2000000)\n",
    "\n",
    "## The sequence Info\n",
    "seqinfo(bamfiles[1])"
   ]
  },
  {
   "cell_type": "markdown",
   "metadata": {},
   "source": [
    "**Note:** \n",
    "Make sure that the chromosome names of the genomic features in the annotation you use are consistent with the chromosome names of the reference used for read alignment. Otherwise, the scripts might fail to count any reads to features due to the mismatching names. For example, a common mistake is when the alignment files contain chromosome names in the style of 1 and the gene annotation in the style of chr1, or the other way around. See the seqlevelsStyle function in the GenomeInfoDb package for solutions. We can check the chromosome names (here called “seqnames”) in the alignment files like so:"
   ]
  },
  {
   "cell_type": "markdown",
   "metadata": {},
   "source": [
    "### Defining gene models\n",
    "\n",
    "Next, we need to read in the gene model that will be used for counting reads/fragments. We will read the gene model from an Ensembl GTF file (Flicek et al. 2014), using makeTxDbFromGFF from the GenomicFeatures[5] package. GTF files can be downloaded from Ensembl’s FTP site or other gene model repositories. A TxDb object is a database that can be used to generate a variety of range-based objects, such as exons, transcripts, and genes. We want to make a list of exons grouped by gene for counting read/fragments.\n",
    "\n",
    "There are other options for constructing a TxDb. For the known genes track from the UCSC Genome Browser (Kent et al. 2002), one can use the pre-built Transcript DataBase: TxDb.Hsapiens.UCSC.hg19.knownGene. If the annotation file is accessible from AnnotationHub (as is the case for the Ensembl genes), a pre-scanned GTF file can be imported using makeTxDbFromGRanges.\n",
    "Here we will demonstrate loading from a GTF file:"
   ]
  },
  {
   "cell_type": "code",
   "execution_count": 14,
   "metadata": {
    "collapsed": false
   },
   "outputs": [
    {
     "name": "stderr",
     "output_type": "stream",
     "text": [
      "Import genomic features from the file as a GRanges object ... OK\n",
      "Prepare the 'metadata' data frame ... OK\n",
      "Make the TxDb object ... OK\n"
     ]
    },
    {
     "data": {
      "text/plain": [
       "TxDb object:\n",
       "# Db type: TxDb\n",
       "# Supporting package: GenomicFeatures\n",
       "# Data source: C:/Users/Yash/Documents/R/win-library/3.3/airway/extdata/Homo_sapiens.GRCh37.75_subset.gtf\n",
       "# Organism: NA\n",
       "# Taxonomy ID: NA\n",
       "# miRBase build ID: NA\n",
       "# Genome: NA\n",
       "# transcript_nrow: 65\n",
       "# exon_nrow: 279\n",
       "# cds_nrow: 158\n",
       "# Db created by: GenomicFeatures package from Bioconductor\n",
       "# Creation time: 2017-05-14 23:01:00 -0700 (Sun, 14 May 2017)\n",
       "# GenomicFeatures version at creation time: 1.26.4\n",
       "# RSQLite version at creation time: 1.1-2\n",
       "# DBSCHEMAVERSION: 1.1"
      ]
     },
     "metadata": {},
     "output_type": "display_data"
    }
   ],
   "source": [
    "suppressPackageStartupMessages(library(\"GenomicFeatures\"))\n",
    "\n",
    "## txdb format\n",
    "gtffile <- file.path(indir,\"Homo_sapiens.GRCh37.75_subset.gtf\")\n",
    "txdb <- makeTxDbFromGFF(gtffile, format = \"gtf\", circ_seqs = character())\n",
    "txdb"
   ]
  },
  {
   "cell_type": "markdown",
   "metadata": {},
   "source": [
    "The following line produces a GRangesList of all the exons grouped by gene (Lawrence et al. 2013). Each element of the list is a GRanges object of the exons for a gene.\n"
   ]
  },
  {
   "cell_type": "code",
   "execution_count": 15,
   "metadata": {
    "collapsed": false
   },
   "outputs": [
    {
     "data": {
      "text/plain": [
       "GRangesList object of length 20:\n",
       "$ENSG00000009724 \n",
       "GRanges object with 18 ranges and 2 metadata columns:\n",
       "       seqnames               ranges strand |   exon_id       exon_name\n",
       "          <Rle>            <IRanges>  <Rle> | <integer>     <character>\n",
       "   [1]        1 [11086580, 11087705]      - |        98 ENSE00000818830\n",
       "   [2]        1 [11090233, 11090307]      - |        99 ENSE00000472123\n",
       "   [3]        1 [11090805, 11090939]      - |       100 ENSE00000743084\n",
       "   [4]        1 [11094885, 11094963]      - |       101 ENSE00000743085\n",
       "   [5]        1 [11097750, 11097868]      - |       102 ENSE00003482788\n",
       "   ...      ...                  ...    ... .       ...             ...\n",
       "  [14]        1 [11106948, 11107176]      - |       111 ENSE00003467404\n",
       "  [15]        1 [11106948, 11107176]      - |       112 ENSE00003489217\n",
       "  [16]        1 [11107260, 11107280]      - |       113 ENSE00001833377\n",
       "  [17]        1 [11107260, 11107284]      - |       114 ENSE00001472289\n",
       "  [18]        1 [11107260, 11107290]      - |       115 ENSE00001881401\n",
       "\n",
       "...\n",
       "<19 more elements>\n",
       "-------\n",
       "seqinfo: 1 sequence from an unspecified genome; no seqlengths"
      ]
     },
     "metadata": {},
     "output_type": "display_data"
    }
   ],
   "source": [
    "ebg <- exonsBy(txdb, by=\"gene\")\n",
    "ebg"
   ]
  },
  {
   "cell_type": "markdown",
   "metadata": {},
   "source": [
    "### Read counting steps\n",
    "\n",
    "After these preparations, the actual counting is easy. The function summarizeOverlaps from the GenomicAlignments[6] package will do this. This produces a SummarizedExperiment object that contains a variety of information about the experiment, and will be described in more detail below.\n",
    "\n",
    "**Note:** If it is desired to perform counting using multiple cores, one can use the register and MulticoreParam or SnowParam functions from the BiocParallel[7] package before the counting call below. Expect that the summarizeOverlaps call will take at least 30 minutes per file for a human RNA-seq file with 30 million aligned reads. By sending the files to separate cores, one can speed up the entire counting process."
   ]
  },
  {
   "cell_type": "code",
   "execution_count": 16,
   "metadata": {
    "collapsed": false
   },
   "outputs": [],
   "source": [
    "suppressPackageStartupMessages(library(\"GenomicAlignments\"))\n",
    "suppressPackageStartupMessages(library(\"BiocParallel\"))\n",
    "\n",
    "# register(MulitcoreParam())\n",
    "register(SerialParam())\n",
    "\n",
    "## ------------------------------------------------------------------------\n",
    "se <- summarizeOverlaps(features=ebg, reads=bamfiles,\n",
    "                        mode=\"Union\",\n",
    "                        singleEnd=FALSE,\n",
    "                        ignore.strand=TRUE,\n",
    "                        fragments=TRUE)\n"
   ]
  },
  {
   "cell_type": "markdown",
   "metadata": {},
   "source": [
    "After these preparations, the actual counting is easy. The function summarizeOverlaps from the GenomicAlignments[6] package will do this. This produces a SummarizedExperiment object that contains a variety of information about the experiment, and will be described in more detail below.\n",
    "\n",
    "**Note:** If it is desired to perform counting using multiple cores, one can use the register and MulticoreParam or SnowParam functions from the BiocParallel[7] package before the counting call below. Expect that the summarizeOverlaps call will take at least 30 minutes per file for a human RNA-seq file with 30 million aligned reads. By sending the files to separate cores, one can speed up the entire counting process."
   ]
  },
  {
   "cell_type": "code",
   "execution_count": 17,
   "metadata": {
    "collapsed": false
   },
   "outputs": [
    {
     "name": "stdout",
     "output_type": "stream",
     "text": [
      "[1] \"Summarized Experiment\"\n"
     ]
    },
    {
     "data": {
      "image/png": "[encoded data removed]",
      "text/plain": [
       "plot without title"
      ]
     },
     "metadata": {},
     "output_type": "display_data"
    }
   ],
   "source": [
    "## ----sumexp, echo=FALSE--------------------------------------------------\n",
    "par(mar=c(0,0,0,0))\n",
    "plot(1,1,xlim=c(0,100),ylim=c(0,100),bty=\"n\",\n",
    "     type=\"n\",xlab=\"\",ylab=\"\",xaxt=\"n\",yaxt=\"n\")\n",
    "polygon(c(45,90,90,45),c(5,5,70,70),col=\"pink\",border=NA)\n",
    "polygon(c(45,90,90,45),c(68,68,70,70),col=\"pink3\",border=NA)\n",
    "text(67.5,40,\"assay\")\n",
    "text(67.5,35,'e.g. \"counts\"')\n",
    "polygon(c(10,40,40,10),c(5,5,70,70),col=\"skyblue\",border=NA)\n",
    "polygon(c(10,40,40,10),c(68,68,70,70),col=\"skyblue3\",border=NA)\n",
    "text(25,40,\"rowRanges\")\n",
    "polygon(c(45,90,90,45),c(75,75,95,95),col=\"palegreen\",border=NA)\n",
    "polygon(c(45,47,47,45),c(75,75,95,95),col=\"palegreen3\",border=NA)\n",
    "text(67.5,85,\"colData\")\n",
    "\n",
    "print(\"Summarized Experiment\")"
   ]
  },
  {
   "cell_type": "code",
   "execution_count": 18,
   "metadata": {
    "collapsed": false
   },
   "outputs": [
    {
     "data": {
      "text/plain": [
       "class: RangedSummarizedExperiment \n",
       "dim: 20 8 \n",
       "metadata(0):\n",
       "assays(1): counts\n",
       "rownames(20): ENSG00000009724 ENSG00000116649 ... ENSG00000271794\n",
       "  ENSG00000271895\n",
       "rowData names(0):\n",
       "colnames(8): SRR1039508_subset.bam SRR1039509_subset.bam ...\n",
       "  SRR1039520_subset.bam SRR1039521_subset.bam\n",
       "colData names(0):"
      ]
     },
     "metadata": {},
     "output_type": "display_data"
    },
    {
     "data": {
      "text/html": [
       "<ol class=list-inline>\n",
       "\t<li>20</li>\n",
       "\t<li>8</li>\n",
       "</ol>\n"
      ],
      "text/latex": [
       "\\begin{enumerate*}\n",
       "\\item 20\n",
       "\\item 8\n",
       "\\end{enumerate*}\n"
      ],
      "text/markdown": [
       "1. 20\n",
       "2. 8\n",
       "\n",
       "\n"
      ],
      "text/plain": [
       "[1] 20  8"
      ]
     },
     "metadata": {},
     "output_type": "display_data"
    },
    {
     "data": {
      "text/html": [
       "'counts'"
      ],
      "text/latex": [
       "'counts'"
      ],
      "text/markdown": [
       "'counts'"
      ],
      "text/plain": [
       "[1] \"counts\""
      ]
     },
     "metadata": {},
     "output_type": "display_data"
    }
   ],
   "source": [
    "se\n",
    "dim(se)\n",
    "assayNames(se)"
   ]
  },
  {
   "cell_type": "markdown",
   "metadata": {},
   "source": [
    "The *rowRanges*, when printed, only shows the first GRanges, and tells us there are 19 more elements:"
   ]
  },
  {
   "cell_type": "code",
   "execution_count": 19,
   "metadata": {
    "collapsed": false
   },
   "outputs": [
    {
     "name": "stdout",
     "output_type": "stream",
     "text": [
      "[1] \"Row summary\"\n"
     ]
    },
    {
     "data": {
      "text/plain": [
       "GRangesList object of length 20:\n",
       "$ENSG00000009724 \n",
       "GRanges object with 18 ranges and 2 metadata columns:\n",
       "       seqnames               ranges strand |   exon_id       exon_name\n",
       "          <Rle>            <IRanges>  <Rle> | <integer>     <character>\n",
       "   [1]        1 [11086580, 11087705]      - |        98 ENSE00000818830\n",
       "   [2]        1 [11090233, 11090307]      - |        99 ENSE00000472123\n",
       "   [3]        1 [11090805, 11090939]      - |       100 ENSE00000743084\n",
       "   [4]        1 [11094885, 11094963]      - |       101 ENSE00000743085\n",
       "   [5]        1 [11097750, 11097868]      - |       102 ENSE00003482788\n",
       "   ...      ...                  ...    ... .       ...             ...\n",
       "  [14]        1 [11106948, 11107176]      - |       111 ENSE00003467404\n",
       "  [15]        1 [11106948, 11107176]      - |       112 ENSE00003489217\n",
       "  [16]        1 [11107260, 11107280]      - |       113 ENSE00001833377\n",
       "  [17]        1 [11107260, 11107284]      - |       114 ENSE00001472289\n",
       "  [18]        1 [11107260, 11107290]      - |       115 ENSE00001881401\n",
       "\n",
       "...\n",
       "<19 more elements>\n",
       "-------\n",
       "seqinfo: 1 sequence from an unspecified genome; no seqlengths"
      ]
     },
     "metadata": {},
     "output_type": "display_data"
    }
   ],
   "source": [
    "print(\"Row summary\")\n",
    "rowRanges(se)"
   ]
  },
  {
   "cell_type": "markdown",
   "metadata": {},
   "source": [
    "The rowRanges also contains metadata about the construction of the gene model in the metadata slot. Here we use a helpful R function, str, to display the metadata compactly:"
   ]
  },
  {
   "cell_type": "code",
   "execution_count": 20,
   "metadata": {
    "collapsed": false,
    "scrolled": true
   },
   "outputs": [
    {
     "name": "stdout",
     "output_type": "stream",
     "text": [
      "List of 1\n",
      " $ genomeInfo:List of 15\n",
      "  ..$ Db type                                 : chr \"TxDb\"\n",
      "  ..$ Supporting package                      : chr \"GenomicFeatures\"\n",
      "  ..$ Data source                             : chr \"C:/Users/Yash/Documents/R/win-library/3.3/airway/extdata/Homo_sapiens.GRCh37.75_subset.gtf\"\n",
      "  ..$ Organism                                : chr NA\n",
      "  ..$ Taxonomy ID                             : chr NA\n",
      "  ..$ miRBase build ID                        : chr NA\n",
      "  ..$ Genome                                  : chr NA\n",
      "  ..$ transcript_nrow                         : chr \"65\"\n",
      "  ..$ exon_nrow                               : chr \"279\"\n",
      "  ..$ cds_nrow                                : chr \"158\"\n",
      "  ..$ Db created by                           : chr \"GenomicFeatures package from Bioconductor\"\n",
      "  ..$ Creation time                           : chr \"2017-05-14 23:01:00 -0700 (Sun, 14 May 2017)\"\n",
      "  ..$ GenomicFeatures version at creation time: chr \"1.26.4\"\n",
      "  ..$ RSQLite version at creation time        : chr \"1.1-2\"\n",
      "  ..$ DBSCHEMAVERSION                         : chr \"1.1\"\n"
     ]
    },
    {
     "data": {
      "text/plain": [
       "DataFrame with 8 rows and 0 columns"
      ]
     },
     "metadata": {},
     "output_type": "display_data"
    }
   ],
   "source": [
    "str(metadata(rowRanges(se)))\n",
    "\n",
    "# column Data\n",
    "colData(se)"
   ]
  },
  {
   "cell_type": "code",
   "execution_count": 21,
   "metadata": {
    "collapsed": false,
    "scrolled": false
   },
   "outputs": [
    {
     "data": {
      "text/html": [
       "<table>\n",
       "<thead><tr><th></th><th scope=col>SRR1039508_subset.bam</th><th scope=col>SRR1039509_subset.bam</th><th scope=col>SRR1039512_subset.bam</th><th scope=col>SRR1039513_subset.bam</th><th scope=col>SRR1039516_subset.bam</th><th scope=col>SRR1039517_subset.bam</th><th scope=col>SRR1039520_subset.bam</th><th scope=col>SRR1039521_subset.bam</th></tr></thead>\n",
       "<tbody>\n",
       "\t<tr><th scope=row>ENSG00000009724</th><td>  38</td><td>  28</td><td>  66</td><td>  24</td><td>  42</td><td>  41</td><td>  47</td><td>  36</td></tr>\n",
       "\t<tr><th scope=row>ENSG00000116649</th><td>1004</td><td>1255</td><td>1122</td><td>1313</td><td>1100</td><td>1879</td><td> 745</td><td>1536</td></tr>\n",
       "\t<tr><th scope=row>ENSG00000120942</th><td> 218</td><td> 256</td><td> 233</td><td> 252</td><td> 269</td><td> 465</td><td> 207</td><td> 400</td></tr>\n",
       "\t<tr><th scope=row>ENSG00000120948</th><td>2751</td><td>2080</td><td>3353</td><td>1614</td><td>3519</td><td>3716</td><td>2220</td><td>1990</td></tr>\n",
       "\t<tr><th scope=row>ENSG00000171819</th><td>   4</td><td>  50</td><td>  19</td><td> 543</td><td>   1</td><td>  10</td><td>  14</td><td>1067</td></tr>\n",
       "</tbody>\n",
       "</table>\n"
      ],
      "text/latex": [
       "\\begin{tabular}{r|llllllll}\n",
       "  & SRR1039508\\_subset.bam & SRR1039509\\_subset.bam & SRR1039512\\_subset.bam & SRR1039513\\_subset.bam & SRR1039516\\_subset.bam & SRR1039517\\_subset.bam & SRR1039520\\_subset.bam & SRR1039521\\_subset.bam\\\\\n",
       "\\hline\n",
       "\tENSG00000009724 &   38 &   28 &   66 &   24 &   42 &   41 &   47 &   36\\\\\n",
       "\tENSG00000116649 & 1004 & 1255 & 1122 & 1313 & 1100 & 1879 &  745 & 1536\\\\\n",
       "\tENSG00000120942 &  218 &  256 &  233 &  252 &  269 &  465 &  207 &  400\\\\\n",
       "\tENSG00000120948 & 2751 & 2080 & 3353 & 1614 & 3519 & 3716 & 2220 & 1990\\\\\n",
       "\tENSG00000171819 &    4 &   50 &   19 &  543 &    1 &   10 &   14 & 1067\\\\\n",
       "\\end{tabular}\n"
      ],
      "text/markdown": [
       "\n",
       "| <!--/--> | SRR1039508_subset.bam | SRR1039509_subset.bam | SRR1039512_subset.bam | SRR1039513_subset.bam | SRR1039516_subset.bam | SRR1039517_subset.bam | SRR1039520_subset.bam | SRR1039521_subset.bam | \n",
       "|---|---|---|---|---|\n",
       "| ENSG00000009724 |   38 |   28 |   66 |   24 |   42 |   41 |   47 |   36 | \n",
       "| ENSG00000116649 | 1004 | 1255 | 1122 | 1313 | 1100 | 1879 |  745 | 1536 | \n",
       "| ENSG00000120942 |  218 |  256 |  233 |  252 |  269 |  465 |  207 |  400 | \n",
       "| ENSG00000120948 | 2751 | 2080 | 3353 | 1614 | 3519 | 3716 | 2220 | 1990 | \n",
       "| ENSG00000171819 |    4 |   50 |   19 |  543 |    1 |   10 |   14 | 1067 | \n",
       "\n",
       "\n"
      ],
      "text/plain": [
       "                SRR1039508_subset.bam SRR1039509_subset.bam\n",
       "ENSG00000009724   38                    28                 \n",
       "ENSG00000116649 1004                  1255                 \n",
       "ENSG00000120942  218                   256                 \n",
       "ENSG00000120948 2751                  2080                 \n",
       "ENSG00000171819    4                    50                 \n",
       "                SRR1039512_subset.bam SRR1039513_subset.bam\n",
       "ENSG00000009724   66                    24                 \n",
       "ENSG00000116649 1122                  1313                 \n",
       "ENSG00000120942  233                   252                 \n",
       "ENSG00000120948 3353                  1614                 \n",
       "ENSG00000171819   19                   543                 \n",
       "                SRR1039516_subset.bam SRR1039517_subset.bam\n",
       "ENSG00000009724   42                    41                 \n",
       "ENSG00000116649 1100                  1879                 \n",
       "ENSG00000120942  269                   465                 \n",
       "ENSG00000120948 3519                  3716                 \n",
       "ENSG00000171819    1                    10                 \n",
       "                SRR1039520_subset.bam SRR1039521_subset.bam\n",
       "ENSG00000009724   47                    36                 \n",
       "ENSG00000116649  745                  1536                 \n",
       "ENSG00000120942  207                   400                 \n",
       "ENSG00000120948 2220                  1990                 \n",
       "ENSG00000171819   14                  1067                 "
      ]
     },
     "metadata": {},
     "output_type": "display_data"
    },
    {
     "data": {
      "text/html": [
       "<dl class=dl-horizontal>\n",
       "\t<dt>SRR1039508_subset.bam</dt>\n",
       "\t\t<dd>6478</dd>\n",
       "\t<dt>SRR1039509_subset.bam</dt>\n",
       "\t\t<dd>6501</dd>\n",
       "\t<dt>SRR1039512_subset.bam</dt>\n",
       "\t\t<dd>7699</dd>\n",
       "\t<dt>SRR1039513_subset.bam</dt>\n",
       "\t\t<dd>6801</dd>\n",
       "\t<dt>SRR1039516_subset.bam</dt>\n",
       "\t\t<dd>8009</dd>\n",
       "\t<dt>SRR1039517_subset.bam</dt>\n",
       "\t\t<dd>10849</dd>\n",
       "\t<dt>SRR1039520_subset.bam</dt>\n",
       "\t\t<dd>5254</dd>\n",
       "\t<dt>SRR1039521_subset.bam</dt>\n",
       "\t\t<dd>9168</dd>\n",
       "</dl>\n"
      ],
      "text/latex": [
       "\\begin{description*}\n",
       "\\item[SRR1039508\\textbackslash{}\\_subset.bam] 6478\n",
       "\\item[SRR1039509\\textbackslash{}\\_subset.bam] 6501\n",
       "\\item[SRR1039512\\textbackslash{}\\_subset.bam] 7699\n",
       "\\item[SRR1039513\\textbackslash{}\\_subset.bam] 6801\n",
       "\\item[SRR1039516\\textbackslash{}\\_subset.bam] 8009\n",
       "\\item[SRR1039517\\textbackslash{}\\_subset.bam] 10849\n",
       "\\item[SRR1039520\\textbackslash{}\\_subset.bam] 5254\n",
       "\\item[SRR1039521\\textbackslash{}\\_subset.bam] 9168\n",
       "\\end{description*}\n"
      ],
      "text/markdown": [
       "SRR1039508_subset.bam\n",
       ":   6478SRR1039509_subset.bam\n",
       ":   6501SRR1039512_subset.bam\n",
       ":   7699SRR1039513_subset.bam\n",
       ":   6801SRR1039516_subset.bam\n",
       ":   8009SRR1039517_subset.bam\n",
       ":   10849SRR1039520_subset.bam\n",
       ":   5254SRR1039521_subset.bam\n",
       ":   9168\n",
       "\n"
      ],
      "text/plain": [
       "SRR1039508_subset.bam SRR1039509_subset.bam SRR1039512_subset.bam \n",
       "                 6478                  6501                  7699 \n",
       "SRR1039513_subset.bam SRR1039516_subset.bam SRR1039517_subset.bam \n",
       "                 6801                  8009                 10849 \n",
       "SRR1039520_subset.bam SRR1039521_subset.bam \n",
       "                 5254                  9168 "
      ]
     },
     "metadata": {},
     "output_type": "display_data"
    }
   ],
   "source": [
    "head(assay(se), 5)\n",
    "colSums(assay(se))"
   ]
  },
  {
   "cell_type": "code",
   "execution_count": 22,
   "metadata": {
    "collapsed": false,
    "scrolled": false
   },
   "outputs": [
    {
     "data": {
      "text/plain": [
       "DataFrame with 8 rows and 9 columns\n",
       "           SampleName     cell      dex    albut        Run avgLength\n",
       "             <factor> <factor> <factor> <factor>   <factor> <integer>\n",
       "SRR1039508 GSM1275862   N61311    untrt    untrt SRR1039508       126\n",
       "SRR1039509 GSM1275863   N61311      trt    untrt SRR1039509       126\n",
       "SRR1039512 GSM1275866  N052611    untrt    untrt SRR1039512       126\n",
       "SRR1039513 GSM1275867  N052611      trt    untrt SRR1039513        87\n",
       "SRR1039516 GSM1275870  N080611    untrt    untrt SRR1039516       120\n",
       "SRR1039517 GSM1275871  N080611      trt    untrt SRR1039517       126\n",
       "SRR1039520 GSM1275874  N061011    untrt    untrt SRR1039520       101\n",
       "SRR1039521 GSM1275875  N061011      trt    untrt SRR1039521        98\n",
       "           Experiment    Sample    BioSample\n",
       "             <factor>  <factor>     <factor>\n",
       "SRR1039508  SRX384345 SRS508568 SAMN02422669\n",
       "SRR1039509  SRX384346 SRS508567 SAMN02422675\n",
       "SRR1039512  SRX384349 SRS508571 SAMN02422678\n",
       "SRR1039513  SRX384350 SRS508572 SAMN02422670\n",
       "SRR1039516  SRX384353 SRS508575 SAMN02422682\n",
       "SRR1039517  SRX384354 SRS508576 SAMN02422673\n",
       "SRR1039520  SRX384357 SRS508579 SAMN02422683\n",
       "SRR1039521  SRX384358 SRS508580 SAMN02422677"
      ]
     },
     "metadata": {},
     "output_type": "display_data"
    }
   ],
   "source": [
    "colData(se) <- DataFrame(sampleTable)\n",
    "colData(se)"
   ]
  },
  {
   "cell_type": "markdown",
   "metadata": {},
   "source": [
    "The colData slot, so far empty, should contain all the metadata. Because we used a column of sampleTable to produce the bamfiles vector, we know the columns of se are in the same order as the rows of sampleTable. We can assign the sampleTable as the colData of the summarized experiment, by converting it into a DataFrame and using the assignment function:"
   ]
  },
  {
   "cell_type": "markdown",
   "metadata": {},
   "source": [
    "### Branching point\n",
    "\n",
    "At this point, we have counted the fragments which overlap the genes in the gene model we specified. This is a branching point where we could use a variety of Bioconductor packages for exploration and differential expression of the count data, including edgeR (M. D. Robinson, McCarthy, and Smyth 2009), limma with the voom method (Law et al. 2014), DSS (H. Wu, Wang, and Wu 2013), EBSeq (Leng et al. 2013) and baySeq (Hardcastle and Kelly 2010). Schurch et al. (2016) compared performance of different statistical methods for RNA-seq using a large number of biological replicates and can help users to decide which tools make sense to use, and how many biological replicates are necessary to obtain a certain sensitivity. We will continue using DESeq2 (Love, Huber, and Anders 2014). The SummarizedExperiment object is all we need to start our analysis. In the following section we will show how to use it to create the data object used by DESeq2."
   ]
  },
  {
   "cell_type": "code",
   "execution_count": 23,
   "metadata": {
    "collapsed": false,
    "scrolled": true
   },
   "outputs": [
    {
     "data": {
      "text/html": [
       "<ol class=list-inline>\n",
       "\t<li>N61311</li>\n",
       "\t<li>N61311</li>\n",
       "\t<li>N052611</li>\n",
       "\t<li>N052611</li>\n",
       "\t<li>N080611</li>\n",
       "\t<li>N080611</li>\n",
       "\t<li>N061011</li>\n",
       "\t<li>N061011</li>\n",
       "</ol>\n"
      ],
      "text/latex": [
       "\\begin{enumerate*}\n",
       "\\item N61311\n",
       "\\item N61311\n",
       "\\item N052611\n",
       "\\item N052611\n",
       "\\item N080611\n",
       "\\item N080611\n",
       "\\item N061011\n",
       "\\item N061011\n",
       "\\end{enumerate*}\n"
      ],
      "text/markdown": [
       "1. N61311\n",
       "2. N61311\n",
       "3. N052611\n",
       "4. N052611\n",
       "5. N080611\n",
       "6. N080611\n",
       "7. N061011\n",
       "8. N061011\n",
       "\n",
       "\n"
      ],
      "text/plain": [
       "[1] N61311  N61311  N052611 N052611 N080611 N080611 N061011 N061011\n",
       "Levels: N052611 N061011 N080611 N61311"
      ]
     },
     "metadata": {},
     "output_type": "display_data"
    },
    {
     "data": {
      "text/html": [
       "<ol class=list-inline>\n",
       "\t<li>untrt</li>\n",
       "\t<li>trt</li>\n",
       "\t<li>untrt</li>\n",
       "\t<li>trt</li>\n",
       "\t<li>untrt</li>\n",
       "\t<li>trt</li>\n",
       "\t<li>untrt</li>\n",
       "\t<li>trt</li>\n",
       "</ol>\n"
      ],
      "text/latex": [
       "\\begin{enumerate*}\n",
       "\\item untrt\n",
       "\\item trt\n",
       "\\item untrt\n",
       "\\item trt\n",
       "\\item untrt\n",
       "\\item trt\n",
       "\\item untrt\n",
       "\\item trt\n",
       "\\end{enumerate*}\n"
      ],
      "text/markdown": [
       "1. untrt\n",
       "2. trt\n",
       "3. untrt\n",
       "4. trt\n",
       "5. untrt\n",
       "6. trt\n",
       "7. untrt\n",
       "8. trt\n",
       "\n",
       "\n"
      ],
      "text/plain": [
       "[1] untrt trt   untrt trt   untrt trt   untrt trt  \n",
       "Levels: trt untrt"
      ]
     },
     "metadata": {},
     "output_type": "display_data"
    }
   ],
   "source": [
    "se$cell\n",
    "se$dex"
   ]
  },
  {
   "cell_type": "markdown",
   "metadata": {},
   "source": [
    "**Note:** it is prefered in R that the first level of a factor be the reference level (e.g. control, or untreated samples), so we can relevel the dex factor like so:"
   ]
  },
  {
   "cell_type": "code",
   "execution_count": 24,
   "metadata": {
    "collapsed": false
   },
   "outputs": [
    {
     "data": {
      "text/html": [
       "<ol class=list-inline>\n",
       "\t<li>untrt</li>\n",
       "\t<li>trt</li>\n",
       "\t<li>untrt</li>\n",
       "\t<li>trt</li>\n",
       "\t<li>untrt</li>\n",
       "\t<li>trt</li>\n",
       "\t<li>untrt</li>\n",
       "\t<li>trt</li>\n",
       "</ol>\n"
      ],
      "text/latex": [
       "\\begin{enumerate*}\n",
       "\\item untrt\n",
       "\\item trt\n",
       "\\item untrt\n",
       "\\item trt\n",
       "\\item untrt\n",
       "\\item trt\n",
       "\\item untrt\n",
       "\\item trt\n",
       "\\end{enumerate*}\n"
      ],
      "text/markdown": [
       "1. untrt\n",
       "2. trt\n",
       "3. untrt\n",
       "4. trt\n",
       "5. untrt\n",
       "6. trt\n",
       "7. untrt\n",
       "8. trt\n",
       "\n",
       "\n"
      ],
      "text/plain": [
       "[1] untrt trt   untrt trt   untrt trt   untrt trt  \n",
       "Levels: untrt trt"
      ]
     },
     "metadata": {},
     "output_type": "display_data"
    }
   ],
   "source": [
    "## ----sedex---------------------------------------------------------------\n",
    "library(\"magrittr\")\n",
    "se$dex %<>% relevel(\"untrt\")\n",
    "se$dex"
   ]
  },
  {
   "cell_type": "markdown",
   "metadata": {},
   "source": [
    "%<>% is the compound assignment pipe-operator from the magrittr package, the above line of code is a concise way of saying"
   ]
  },
  {
   "cell_type": "markdown",
   "metadata": {},
   "source": [
    "### Starting from summarized expriment\n",
    "\n",
    "We now use R’s data command to load a prepared SummarizedExperiment that was generated from the publicly available sequencing data files associated with Himes et al. (2014), described above. The steps we used to produce this object were equivalent to those you worked through in the previous sections, except that we used all the reads and all the genes. For more details on the exact steps used to create this object, type vignette(\"airway\") into your R session"
   ]
  },
  {
   "cell_type": "code",
   "execution_count": 25,
   "metadata": {
    "collapsed": false
   },
   "outputs": [
    {
     "data": {
      "text/html": [
       "<ol class=list-inline>\n",
       "\t<li>untrt</li>\n",
       "\t<li>trt</li>\n",
       "\t<li>untrt</li>\n",
       "\t<li>trt</li>\n",
       "\t<li>untrt</li>\n",
       "\t<li>trt</li>\n",
       "\t<li>untrt</li>\n",
       "\t<li>trt</li>\n",
       "</ol>\n"
      ],
      "text/latex": [
       "\\begin{enumerate*}\n",
       "\\item untrt\n",
       "\\item trt\n",
       "\\item untrt\n",
       "\\item trt\n",
       "\\item untrt\n",
       "\\item trt\n",
       "\\item untrt\n",
       "\\item trt\n",
       "\\end{enumerate*}\n"
      ],
      "text/markdown": [
       "1. untrt\n",
       "2. trt\n",
       "3. untrt\n",
       "4. trt\n",
       "5. untrt\n",
       "6. trt\n",
       "7. untrt\n",
       "8. trt\n",
       "\n",
       "\n"
      ],
      "text/plain": [
       "[1] untrt trt   untrt trt   untrt trt   untrt trt  \n",
       "Levels: untrt trt"
      ]
     },
     "metadata": {},
     "output_type": "display_data"
    },
    {
     "data": {
      "text/html": [
       "<dl class=dl-horizontal>\n",
       "\t<dt>SRR1039508</dt>\n",
       "\t\t<dd>20.6</dd>\n",
       "\t<dt>SRR1039509</dt>\n",
       "\t\t<dd>18.8</dd>\n",
       "\t<dt>SRR1039512</dt>\n",
       "\t\t<dd>25.3</dd>\n",
       "\t<dt>SRR1039513</dt>\n",
       "\t\t<dd>15.2</dd>\n",
       "\t<dt>SRR1039516</dt>\n",
       "\t\t<dd>24.4</dd>\n",
       "\t<dt>SRR1039517</dt>\n",
       "\t\t<dd>30.8</dd>\n",
       "\t<dt>SRR1039520</dt>\n",
       "\t\t<dd>19.1</dd>\n",
       "\t<dt>SRR1039521</dt>\n",
       "\t\t<dd>21.2</dd>\n",
       "</dl>\n"
      ],
      "text/latex": [
       "\\begin{description*}\n",
       "\\item[SRR1039508] 20.6\n",
       "\\item[SRR1039509] 18.8\n",
       "\\item[SRR1039512] 25.3\n",
       "\\item[SRR1039513] 15.2\n",
       "\\item[SRR1039516] 24.4\n",
       "\\item[SRR1039517] 30.8\n",
       "\\item[SRR1039520] 19.1\n",
       "\\item[SRR1039521] 21.2\n",
       "\\end{description*}\n"
      ],
      "text/markdown": [
       "SRR1039508\n",
       ":   20.6SRR1039509\n",
       ":   18.8SRR1039512\n",
       ":   25.3SRR1039513\n",
       ":   15.2SRR1039516\n",
       ":   24.4SRR1039517\n",
       ":   30.8SRR1039520\n",
       ":   19.1SRR1039521\n",
       ":   21.2\n",
       "\n"
      ],
      "text/plain": [
       "SRR1039508 SRR1039509 SRR1039512 SRR1039513 SRR1039516 SRR1039517 SRR1039520 \n",
       "      20.6       18.8       25.3       15.2       24.4       30.8       19.1 \n",
       "SRR1039521 \n",
       "      21.2 "
      ]
     },
     "metadata": {},
     "output_type": "display_data"
    },
    {
     "data": {
      "text/plain": [
       "DataFrame with 8 rows and 9 columns\n",
       "           SampleName     cell      dex    albut        Run avgLength\n",
       "             <factor> <factor> <factor> <factor>   <factor> <integer>\n",
       "SRR1039508 GSM1275862   N61311    untrt    untrt SRR1039508       126\n",
       "SRR1039509 GSM1275863   N61311      trt    untrt SRR1039509       126\n",
       "SRR1039512 GSM1275866  N052611    untrt    untrt SRR1039512       126\n",
       "SRR1039513 GSM1275867  N052611      trt    untrt SRR1039513        87\n",
       "SRR1039516 GSM1275870  N080611    untrt    untrt SRR1039516       120\n",
       "SRR1039517 GSM1275871  N080611      trt    untrt SRR1039517       126\n",
       "SRR1039520 GSM1275874  N061011    untrt    untrt SRR1039520       101\n",
       "SRR1039521 GSM1275875  N061011      trt    untrt SRR1039521        98\n",
       "           Experiment    Sample    BioSample\n",
       "             <factor>  <factor>     <factor>\n",
       "SRR1039508  SRX384345 SRS508568 SAMN02422669\n",
       "SRR1039509  SRX384346 SRS508567 SAMN02422675\n",
       "SRR1039512  SRX384349 SRS508571 SAMN02422678\n",
       "SRR1039513  SRX384350 SRS508572 SAMN02422670\n",
       "SRR1039516  SRX384353 SRS508575 SAMN02422682\n",
       "SRR1039517  SRX384354 SRS508576 SAMN02422673\n",
       "SRR1039520  SRX384357 SRS508579 SAMN02422683\n",
       "SRR1039521  SRX384358 SRS508580 SAMN02422677"
      ]
     },
     "metadata": {},
     "output_type": "display_data"
    }
   ],
   "source": [
    "## ----explaincmpass, eval = FALSE-----------------------------------------\n",
    "## se$dex <- relevel(se$dex, \"untrt\")\n",
    "\n",
    "## ------------------------------------------------------------------------\n",
    "data(\"airway\")\n",
    "se <- airway\n",
    "\n",
    "## ------------------------------------------------------------------------\n",
    "se$dex %<>% relevel(\"untrt\")\n",
    "se$dex\n",
    "\n",
    "## ------------------------------------------------------------------------\n",
    "round( colSums(assay(se)) / 1e6, 1 )\n",
    "\n",
    "## ------------------------------------------------------------------------\n",
    "colData(se)\n"
   ]
  },
  {
   "cell_type": "markdown",
   "metadata": {},
   "source": [
    "Here we see that this object already contains an informative colData slot – because we have already prepared it for you, as described in the airway vignette. However, when you work with your own data, you will have to add the pertinent sample / phenotypic information for the experiment at this stage. We highly recommend keeping this information in a comma-separated value (CSV) or tab-separated value (TSV) file, which can be exported from an Excel spreadsheet, and the assign this to the colData slot, making sure that the rows correspond to the columns of the SummarizedExperiment. We made sure of this correspondence earlier by specifying the BAM files using a column of the sample table.\n",
    "\n",
    "Once we have our fully annotated SummarizedExperiment object, we can construct a DESeqDataSet object from it that will then form the starting point of the analysis. We add an appropriate design for the analysis"
   ]
  },
  {
   "cell_type": "markdown",
   "metadata": {},
   "source": [
    "### Starting from count matrices\n",
    "\n",
    "In this section, we will show how to build an DESeqDataSet supposing we only have a count matrix and a table of sample information.\n",
    "\n",
    "**Note:** if you have prepared a SummarizedExperiment you should skip this section. While the previous section would be used to construct a DESeqDataSet from a SummarizedExperiment, here we first extract the individual object (count matrix and sample info) from the SummarizedExperiment in order to build it back up into a new object – only for demonstration purposes. In practice, the count matrix would either be read in from a file or perhaps generated by an R function like featureCounts from the Rsubread package (Liao, Smyth, and Shi 2014).\n",
    "\n",
    "The information in a SummarizedExperiment object can be accessed with accessor functions. For example, to see the actual data, i.e., here, the fragment counts, we use the assay function. (The head function restricts the output to the first few lines.)"
   ]
  },
  {
   "cell_type": "code",
   "execution_count": 26,
   "metadata": {
    "collapsed": false
   },
   "outputs": [
    {
     "data": {
      "text/html": [
       "<table>\n",
       "<thead><tr><th></th><th scope=col>SRR1039508</th><th scope=col>SRR1039509</th><th scope=col>SRR1039512</th><th scope=col>SRR1039513</th><th scope=col>SRR1039516</th><th scope=col>SRR1039517</th><th scope=col>SRR1039520</th><th scope=col>SRR1039521</th></tr></thead>\n",
       "<tbody>\n",
       "\t<tr><th scope=row>ENSG00000000003</th><td>679 </td><td>448 </td><td>873 </td><td>408 </td><td>1138</td><td>1047</td><td>770 </td><td>572 </td></tr>\n",
       "\t<tr><th scope=row>ENSG00000000005</th><td>  0 </td><td>  0 </td><td>  0 </td><td>  0 </td><td>   0</td><td>   0</td><td>  0 </td><td>  0 </td></tr>\n",
       "\t<tr><th scope=row>ENSG00000000419</th><td>467 </td><td>515 </td><td>621 </td><td>365 </td><td> 587</td><td> 799</td><td>417 </td><td>508 </td></tr>\n",
       "</tbody>\n",
       "</table>\n"
      ],
      "text/latex": [
       "\\begin{tabular}{r|llllllll}\n",
       "  & SRR1039508 & SRR1039509 & SRR1039512 & SRR1039513 & SRR1039516 & SRR1039517 & SRR1039520 & SRR1039521\\\\\n",
       "\\hline\n",
       "\tENSG00000000003 & 679  & 448  & 873  & 408  & 1138 & 1047 & 770  & 572 \\\\\n",
       "\tENSG00000000005 &   0  &   0  &   0  &   0  &    0 &    0 &   0  &   0 \\\\\n",
       "\tENSG00000000419 & 467  & 515  & 621  & 365  &  587 &  799 & 417  & 508 \\\\\n",
       "\\end{tabular}\n"
      ],
      "text/markdown": [
       "\n",
       "| <!--/--> | SRR1039508 | SRR1039509 | SRR1039512 | SRR1039513 | SRR1039516 | SRR1039517 | SRR1039520 | SRR1039521 | \n",
       "|---|---|---|\n",
       "| ENSG00000000003 | 679  | 448  | 873  | 408  | 1138 | 1047 | 770  | 572  | \n",
       "| ENSG00000000005 |   0  |   0  |   0  |   0  |    0 |    0 |   0  |   0  | \n",
       "| ENSG00000000419 | 467  | 515  | 621  | 365  |  587 |  799 | 417  | 508  | \n",
       "\n",
       "\n"
      ],
      "text/plain": [
       "                SRR1039508 SRR1039509 SRR1039512 SRR1039513 SRR1039516\n",
       "ENSG00000000003 679        448        873        408        1138      \n",
       "ENSG00000000005   0          0          0          0           0      \n",
       "ENSG00000000419 467        515        621        365         587      \n",
       "                SRR1039517 SRR1039520 SRR1039521\n",
       "ENSG00000000003 1047       770        572       \n",
       "ENSG00000000005    0         0          0       \n",
       "ENSG00000000419  799       417        508       "
      ]
     },
     "metadata": {},
     "output_type": "display_data"
    }
   ],
   "source": [
    "## ------------------------------------------------------------------------\n",
    "library(\"DESeq2\")\n",
    "\n",
    "## ------------------------------------------------------------------------\n",
    "dds <- DESeqDataSet(se, design = ~ cell + dex)\n",
    "\n",
    "## ------------------------------------------------------------------------\n",
    "countdata <- assay(se)\n",
    "head(countdata, 3)\n"
   ]
  },
  {
   "cell_type": "markdown",
   "metadata": {},
   "source": [
    "In this count matrix, each row represents an Ensembl gene, each column a sequenced RNA library, and the values give the raw numbers of fragments that were uniquely assigned to the respective gene in each library. We also have information on each of the samples (the columns of the count matrix). If you’ve counted reads with some other software, it is very important to check that the columns of the count matrix correspond to the rows of the sample information table."
   ]
  },
  {
   "cell_type": "code",
   "execution_count": 27,
   "metadata": {
    "collapsed": true
   },
   "outputs": [],
   "source": [
    "coldata <- colData(se)"
   ]
  },
  {
   "cell_type": "markdown",
   "metadata": {},
   "source": [
    "We now have all the ingredients to prepare our data object in a form that is suitable for analysis, namely:\n",
    "    * countdata: a table with the fragment counts\n",
    "    * coldata: a table with information about the samples\n",
    "\n",
    "To now construct the DESeqDataSet object from the matrix of counts and the sample information table, we use:"
   ]
  },
  {
   "cell_type": "code",
   "execution_count": 28,
   "metadata": {
    "collapsed": true
   },
   "outputs": [],
   "source": [
    "## ------------------------------------------------------------------------\n",
    "ddsMat <- DESeqDataSetFromMatrix(countData = countdata,\n",
    "                                  colData = coldata,\n",
    "                                  design = ~ cell + dex)\n"
   ]
  },
  {
   "cell_type": "markdown",
   "metadata": {},
   "source": [
    "We will continue with the object generated from the SummarizedExperiment section."
   ]
  },
  {
   "cell_type": "markdown",
   "metadata": {},
   "source": [
    "## Exploratory analysis and visualization\n",
    "\n",
    "There are two separate paths in this workflow; the one we will see first involves transformations of the counts in order to visually explore sample relationships. In the second part, we will go back to the original raw counts for statistical testing. This is critical because the statistical testing methods rely on original count data (not scaled or transformed) for calculating the precision of measurements.\n",
    "\n",
    "### Pre Filtering the dataset\n",
    "\n",
    "The count matrix with the DESeqDataSet contains many rows with only zeros, and additionally many rows with only a few fragments total. In order to reduce the size of the object, and to increase the speed of our functions, we can remove the rows that have no or nearly no information about the amount of gene expression. Here we apply the most minimal filtering rule: removing rows of the DESeqDataSet that have no counts, or only a single count across all samples. Additional weighting/filtering to improve power is applied at a later step in the workflow."
   ]
  },
  {
   "cell_type": "code",
   "execution_count": 29,
   "metadata": {
    "collapsed": false
   },
   "outputs": [
    {
     "data": {
      "text/html": [
       "64102"
      ],
      "text/latex": [
       "64102"
      ],
      "text/markdown": [
       "64102"
      ],
      "text/plain": [
       "[1] 64102"
      ]
     },
     "metadata": {},
     "output_type": "display_data"
    },
    {
     "data": {
      "text/html": [
       "29391"
      ],
      "text/latex": [
       "29391"
      ],
      "text/markdown": [
       "29391"
      ],
      "text/plain": [
       "[1] 29391"
      ]
     },
     "metadata": {},
     "output_type": "display_data"
    }
   ],
   "source": [
    "nrow(dds)\n",
    "dds <- dds[ rowSums(counts(dds)) > 1, ]\n",
    "nrow(dds)\n"
   ]
  },
  {
   "cell_type": "markdown",
   "metadata": {},
   "source": [
    "### The rlog and variance stabilizing transformations\n",
    "\n",
    "Many common statistical methods for exploratory analysis of multidimensional data, for example clustering and principal components analysis (PCA), work best for data that generally has the same range of variance at different ranges of the mean values. When the expected amount of variance is approximately the same across different mean values, the data is said to be homoskedastic. For RNA-seq counts, however, the expected variance grows with the mean. For example, if one performs PCA directly on a matrix of counts or normalized counts (e.g. correcting for differences in sequencing depth), the resulting plot typically depends mostly on the genes with highest counts because they show the largest absolute differences between samples. A simple and often used strategy to avoid this is to take the logarithm of the normalized count values plus a pseudocount of 1; however, depending on the choice of pseudocount, now the genes with the very lowest counts will contribute a great deal of noise to the resulting plot, because taking the logarithm of small counts actually inflates their variance. We can quickly show this property of counts with some simulated data (here, Poisson counts with a range of lambda from 0.1 to 100). We plot the standard deviation of each row (genes) against the mean:"
   ]
  },
  {
   "cell_type": "code",
   "execution_count": 30,
   "metadata": {
    "collapsed": false
   },
   "outputs": [
    {
     "data": {
      "image/png": "[encoded data removed]",
      "text/plain": [
       "plot without title"
      ]
     },
     "metadata": {},
     "output_type": "display_data"
    }
   ],
   "source": [
    "## ----meanSdCts-----------------------------------------------------------\n",
    "lambda <- 10^seq(from = -1, to = 2, length = 1000)\n",
    "cts <- matrix(rpois(1000*100, lambda), ncol = 100)\n",
    "library(\"vsn\")\n",
    "meanSdPlot(cts, ranks = FALSE)\n"
   ]
  },
  {
   "cell_type": "markdown",
   "metadata": {},
   "source": [
    "Logarithm-transformed counts:"
   ]
  },
  {
   "cell_type": "code",
   "execution_count": 31,
   "metadata": {
    "collapsed": false,
    "scrolled": false
   },
   "outputs": [
    {
     "data": {
      "image/png": "[encoded data removed]",
      "text/plain": [
       "plot without title"
      ]
     },
     "metadata": {},
     "output_type": "display_data"
    }
   ],
   "source": [
    "## ----meanSdLogCts--------------------------------------------------------\n",
    "log.cts.one <- log2(cts + 1)\n",
    "meanSdPlot(log.cts.one, ranks = FALSE)\n"
   ]
  },
  {
   "cell_type": "markdown",
   "metadata": {},
   "source": [
    "The logarithm with a small pseudocount amplifies differences when the values are close to 0. The low count genes with low signal-to-noise ratio will overly contribute to sample-sample distances and PCA plots.\n",
    "\n",
    "As a solution, DESeq2 offers two transformations for count data that stabilize the variance across the mean: the regularized-logarithm transformation or rlog (Love, Huber, and Anders 2014), and the variance stabilizing transformation (VST) for negative binomial data with a dispersion-mean trend (Anders and Huber 2010), implemented in the vst function.\n",
    "\n",
    "For genes with high counts, the rlog and VST will give similar result to the ordinary log2 transformation of normalized counts. For genes with lower counts, however, the values are shrunken towards the genes’ averages across all samples. The rlog-transformed or VST data then becomes approximately homoskedastic, and can be used directly for computing distances between samples, making PCA plots, or as input to downstream methods which perform best with homoskedastic data.\n",
    "\n",
    "\n",
    "**Which transformation to choose?** The rlog tends to work well on small datasets (n < 30), sometimes outperforming the VST when there is a large range of sequencing depth across samples (an order of magnitude difference). The VST is much faster to compute and is less sensitive to high count outliers than the rlog. We therefore recommend the VST for large datasets (hundreds of samples). You can perform both transformations and compare the meanSdPlot or PCA plots generated, as described below.\n",
    "\n",
    "Note that the two transformations offered by DESeq2 are provided for applications other than differential testing. For differential testing we recommend the DESeq function applied to raw counts, as described later in this workflow, which also takes into account the dependence of the variance of counts on the mean value during the dispersion estimation step.\n",
    "\n",
    "The function rlog returns an object based on the SummarizedExperiment class that contains the rlog-transformed values in its assay slot."
   ]
  },
  {
   "cell_type": "code",
   "execution_count": 32,
   "metadata": {
    "collapsed": false,
    "scrolled": false
   },
   "outputs": [
    {
     "data": {
      "text/html": [
       "<table>\n",
       "<thead><tr><th></th><th scope=col>SRR1039508</th><th scope=col>SRR1039509</th><th scope=col>SRR1039512</th><th scope=col>SRR1039513</th><th scope=col>SRR1039516</th><th scope=col>SRR1039517</th><th scope=col>SRR1039520</th><th scope=col>SRR1039521</th></tr></thead>\n",
       "<tbody>\n",
       "\t<tr><th scope=row>ENSG00000000003</th><td>9.385683</td><td>9.052608</td><td>9.516875</td><td>9.285338</td><td>9.839085</td><td>9.530311</td><td>9.663255</td><td>9.277699</td></tr>\n",
       "\t<tr><th scope=row>ENSG00000000419</th><td>8.869616</td><td>9.138271</td><td>9.036116</td><td>9.075295</td><td>8.972126</td><td>9.131824</td><td>8.861534</td><td>9.060905</td></tr>\n",
       "\t<tr><th scope=row>ENSG00000000457</th><td>7.961369</td><td>7.881385</td><td>7.824079</td><td>7.921490</td><td>7.751699</td><td>7.886441</td><td>7.957121</td><td>7.912123</td></tr>\n",
       "</tbody>\n",
       "</table>\n"
      ],
      "text/latex": [
       "\\begin{tabular}{r|llllllll}\n",
       "  & SRR1039508 & SRR1039509 & SRR1039512 & SRR1039513 & SRR1039516 & SRR1039517 & SRR1039520 & SRR1039521\\\\\n",
       "\\hline\n",
       "\tENSG00000000003 & 9.385683 & 9.052608 & 9.516875 & 9.285338 & 9.839085 & 9.530311 & 9.663255 & 9.277699\\\\\n",
       "\tENSG00000000419 & 8.869616 & 9.138271 & 9.036116 & 9.075295 & 8.972126 & 9.131824 & 8.861534 & 9.060905\\\\\n",
       "\tENSG00000000457 & 7.961369 & 7.881385 & 7.824079 & 7.921490 & 7.751699 & 7.886441 & 7.957121 & 7.912123\\\\\n",
       "\\end{tabular}\n"
      ],
      "text/markdown": [
       "\n",
       "| <!--/--> | SRR1039508 | SRR1039509 | SRR1039512 | SRR1039513 | SRR1039516 | SRR1039517 | SRR1039520 | SRR1039521 | \n",
       "|---|---|---|\n",
       "| ENSG00000000003 | 9.385683 | 9.052608 | 9.516875 | 9.285338 | 9.839085 | 9.530311 | 9.663255 | 9.277699 | \n",
       "| ENSG00000000419 | 8.869616 | 9.138271 | 9.036116 | 9.075295 | 8.972126 | 9.131824 | 8.861534 | 9.060905 | \n",
       "| ENSG00000000457 | 7.961369 | 7.881385 | 7.824079 | 7.921490 | 7.751699 | 7.886441 | 7.957121 | 7.912123 | \n",
       "\n",
       "\n"
      ],
      "text/plain": [
       "                SRR1039508 SRR1039509 SRR1039512 SRR1039513 SRR1039516\n",
       "ENSG00000000003 9.385683   9.052608   9.516875   9.285338   9.839085  \n",
       "ENSG00000000419 8.869616   9.138271   9.036116   9.075295   8.972126  \n",
       "ENSG00000000457 7.961369   7.881385   7.824079   7.921490   7.751699  \n",
       "                SRR1039517 SRR1039520 SRR1039521\n",
       "ENSG00000000003 9.530311   9.663255   9.277699  \n",
       "ENSG00000000419 9.131824   8.861534   9.060905  \n",
       "ENSG00000000457 7.886441   7.957121   7.912123  "
      ]
     },
     "metadata": {},
     "output_type": "display_data"
    }
   ],
   "source": [
    "## ----rlog----------------------------------------------------------------\n",
    "rld <- rlog(dds, blind = FALSE)\n",
    "head(assay(rld), 3)"
   ]
  },
  {
   "cell_type": "markdown",
   "metadata": {},
   "source": [
    "The function *vst* returns a similar object"
   ]
  },
  {
   "cell_type": "code",
   "execution_count": 33,
   "metadata": {
    "collapsed": false,
    "scrolled": true
   },
   "outputs": [
    {
     "name": "stdout",
     "output_type": "stream",
     "text": [
      "[1] \"VST output:\"\n"
     ]
    },
    {
     "data": {
      "text/html": [
       "<table>\n",
       "<thead><tr><th></th><th scope=col>SRR1039508</th><th scope=col>SRR1039509</th><th scope=col>SRR1039512</th><th scope=col>SRR1039513</th><th scope=col>SRR1039516</th><th scope=col>SRR1039517</th><th scope=col>SRR1039520</th><th scope=col>SRR1039521</th></tr></thead>\n",
       "<tbody>\n",
       "\t<tr><th scope=row>ENSG00000000003</th><td>9.742340 </td><td>9.430742 </td><td>9.867872 </td><td>9.646127 </td><td>10.183344</td><td>9.880660 </td><td>10.010591</td><td>9.640065 </td></tr>\n",
       "\t<tr><th scope=row>ENSG00000000419</th><td>9.334009 </td><td>9.582000 </td><td>9.486456 </td><td>9.523397 </td><td> 9.427605</td><td>9.575154 </td><td> 9.326341</td><td>9.509553 </td></tr>\n",
       "\t<tr><th scope=row>ENSG00000000457</th><td>8.765748 </td><td>8.698941 </td><td>8.651978 </td><td>8.732909 </td><td> 8.593308</td><td>8.703164 </td><td> 8.762420</td><td>8.724586 </td></tr>\n",
       "</tbody>\n",
       "</table>\n"
      ],
      "text/latex": [
       "\\begin{tabular}{r|llllllll}\n",
       "  & SRR1039508 & SRR1039509 & SRR1039512 & SRR1039513 & SRR1039516 & SRR1039517 & SRR1039520 & SRR1039521\\\\\n",
       "\\hline\n",
       "\tENSG00000000003 & 9.742340  & 9.430742  & 9.867872  & 9.646127  & 10.183344 & 9.880660  & 10.010591 & 9.640065 \\\\\n",
       "\tENSG00000000419 & 9.334009  & 9.582000  & 9.486456  & 9.523397  &  9.427605 & 9.575154  &  9.326341 & 9.509553 \\\\\n",
       "\tENSG00000000457 & 8.765748  & 8.698941  & 8.651978  & 8.732909  &  8.593308 & 8.703164  &  8.762420 & 8.724586 \\\\\n",
       "\\end{tabular}\n"
      ],
      "text/markdown": [
       "\n",
       "| <!--/--> | SRR1039508 | SRR1039509 | SRR1039512 | SRR1039513 | SRR1039516 | SRR1039517 | SRR1039520 | SRR1039521 | \n",
       "|---|---|---|\n",
       "| ENSG00000000003 | 9.742340  | 9.430742  | 9.867872  | 9.646127  | 10.183344 | 9.880660  | 10.010591 | 9.640065  | \n",
       "| ENSG00000000419 | 9.334009  | 9.582000  | 9.486456  | 9.523397  |  9.427605 | 9.575154  |  9.326341 | 9.509553  | \n",
       "| ENSG00000000457 | 8.765748  | 8.698941  | 8.651978  | 8.732909  |  8.593308 | 8.703164  |  8.762420 | 8.724586  | \n",
       "\n",
       "\n"
      ],
      "text/plain": [
       "                SRR1039508 SRR1039509 SRR1039512 SRR1039513 SRR1039516\n",
       "ENSG00000000003 9.742340   9.430742   9.867872   9.646127   10.183344 \n",
       "ENSG00000000419 9.334009   9.582000   9.486456   9.523397    9.427605 \n",
       "ENSG00000000457 8.765748   8.698941   8.651978   8.732909    8.593308 \n",
       "                SRR1039517 SRR1039520 SRR1039521\n",
       "ENSG00000000003 9.880660   10.010591  9.640065  \n",
       "ENSG00000000419 9.575154    9.326341  9.509553  \n",
       "ENSG00000000457 8.703164    8.762420  8.724586  "
      ]
     },
     "metadata": {},
     "output_type": "display_data"
    }
   ],
   "source": [
    "print(\"VST output:\")\n",
    "## ----vst-----------------------------------------------------------------\n",
    "vsd <- vst(dds, blind = FALSE)\n",
    "head(assay(vsd), 3)"
   ]
  },
  {
   "cell_type": "markdown",
   "metadata": {},
   "source": [
    "In the above function calls, we specified blind = FALSE, which means that differences between cell lines and treatment (the variables in the design) will not contribute to the expected variance-mean trend of the experiment. The experimental design is not used directly in the transformation, only in estimating the global amount of variability in the counts. For a fully unsupervised transformation, one can set blind = TRUE (which is the default).\n",
    "\n",
    "To show the effect of the transformation, in the figure below we plot the first sample against the second, first simply using the log2 function (after adding 1, to avoid taking the log of zero), and then using the rlog- and VST-transformed values. For the log2 approach, we need to first estimate size factors to account for sequencing depth, and then specify normalized=TRUE. Sequencing depth correction is done automatically for the rlog and the vst."
   ]
  },
  {
   "cell_type": "code",
   "execution_count": 34,
   "metadata": {
    "collapsed": false
   },
   "outputs": [
    {
     "data": {},
     "metadata": {},
     "output_type": "display_data"
    },
    {
     "data": {
      "image/png": "[encoded data removed]",
      "text/plain": [
       "plot without title"
      ]
     },
     "metadata": {},
     "output_type": "display_data"
    }
   ],
   "source": [
    "## ----rldplot, fig.width = 6, fig.height = 2.5----------------------------\n",
    "suppressPackageStartupMessages(library(\"dplyr\"))\n",
    "suppressPackageStartupMessages(library(\"ggplot2\"))\n",
    "\n",
    "dds <- estimateSizeFactors(dds)\n",
    "\n",
    "df <- bind_rows(\n",
    "  as_data_frame(log2(counts(dds, normalized=TRUE)[, 1:2]+1)) %>%\n",
    "         mutate(transformation = \"log2(x + 1)\"),\n",
    "  as_data_frame(assay(rld)[, 1:2]) %>% mutate(transformation = \"rlog\"),\n",
    "  as_data_frame(assay(vsd)[, 1:2]) %>% mutate(transformation = \"vst\"))\n",
    "  \n",
    "colnames(df)[1:2] <- c(\"x\", \"y\")  \n",
    "\n",
    "ggplot(df, aes(x = x, y = y)) + geom_hex(bins = 80) +\n",
    "  coord_fixed() + facet_grid( . ~ transformation)  "
   ]
  },
  {
   "cell_type": "markdown",
   "metadata": {},
   "source": [
    "**Scatterplot of transformed counts from two samples.** \n",
    "Shown are scatterplots using the log2 transform of normalized counts (left), using the rlog (middle), and using the VST (right). While the rlog is on roughly the same scale as the log2 counts, the VST has a upward shift for the smaller values. It is the differences between samples (deviation from y=x in these scatterplots) which will contribute to the distance calculations and the PCA plot.\n",
    "\n",
    "We can see how genes with low counts (bottom left-hand corner) seem to be excessively variable on the ordinary logarithmic scale, while the rlog transform and VST compress differences for the low count genes for which the data provide little information about differential expression."
   ]
  },
  {
   "cell_type": "markdown",
   "metadata": {},
   "source": [
    "### Sample Distance\n",
    "\n",
    "A useful first step in an RNA-seq analysis is often to assess overall similarity between samples: Which samples are similar to each other, which are different? Does this fit to the expectation from the experiment’s design?\n",
    "\n",
    "We use the R function dist to calculate the Euclidean distance between samples. To ensure we have a roughly equal contribution from all genes, we use it on the rlog-transformed data. We need to transpose the matrix of values using t, because the dist function expects the different samples to be rows of its argument, and different dimensions (here, genes) to be columns."
   ]
  },
  {
   "cell_type": "code",
   "execution_count": 35,
   "metadata": {
    "collapsed": false
   },
   "outputs": [
    {
     "data": {
      "text/plain": [
       "           SRR1039508 SRR1039509 SRR1039512 SRR1039513 SRR1039516 SRR1039517\n",
       "SRR1039509   45.69859                                                       \n",
       "SRR1039512   39.25239   54.90828                                            \n",
       "SRR1039513   62.63201   44.52740   48.72579                                 \n",
       "SRR1039516   44.50557   59.06364   43.57856   63.74275                      \n",
       "SRR1039517   64.49410   51.44882   59.22962   49.87992   47.48200           \n",
       "SRR1039520   39.57693   57.46259   36.74434   58.49014   46.40786   63.59942\n",
       "SRR1039521   63.36124   45.05732   57.87616   36.49484   65.54600   52.31695\n",
       "           SRR1039520\n",
       "SRR1039509           \n",
       "SRR1039512           \n",
       "SRR1039513           \n",
       "SRR1039516           \n",
       "SRR1039517           \n",
       "SRR1039520           \n",
       "SRR1039521   50.13430"
      ]
     },
     "metadata": {},
     "output_type": "display_data"
    }
   ],
   "source": [
    "## ------------------------------------------------------------------------\n",
    "sampleDists <- dist(t(assay(rld)))\n",
    "sampleDists"
   ]
  },
  {
   "cell_type": "markdown",
   "metadata": {},
   "source": [
    "We visualize the distances in a heatmap in a figure below, using the function pheatmap from the pheatmap package."
   ]
  },
  {
   "cell_type": "code",
   "execution_count": 36,
   "metadata": {
    "collapsed": false
   },
   "outputs": [
    {
     "data": {
      "image/png": "[encoded data removed]",
      "text/plain": [
       "plot without title"
      ]
     },
     "metadata": {},
     "output_type": "display_data"
    }
   ],
   "source": [
    "## ------------------------------------------------------------------------\n",
    "library(\"pheatmap\")\n",
    "library(\"RColorBrewer\")\n",
    "\n",
    "## ----distheatmap, fig.width = 6.1, fig.height = 4.5----------------------\n",
    "sampleDistMatrix <- as.matrix( sampleDists )\n",
    "rownames(sampleDistMatrix) <- paste( rld$dex, rld$cell, sep = \" - \" )\n",
    "colnames(sampleDistMatrix) <- NULL\n",
    "colors <- colorRampPalette( rev(brewer.pal(9, \"Blues\")) )(255)\n",
    "pheatmap(sampleDistMatrix,\n",
    "         clustering_distance_rows = sampleDists,\n",
    "         clustering_distance_cols = sampleDists,\n",
    "         col = colors)"
   ]
  },
  {
   "cell_type": "markdown",
   "metadata": {},
   "source": [
    "**Heatmap of sample-to-sample distances using the rlog-transformed values.**\n",
    "\n",
    "Note that we have changed the row names of the distance matrix to contain treatment type and patient number instead of sample ID, so that we have all this information in view when looking at the heatmap.\n",
    "\n",
    "\n",
    "Another option for calculating sample distances is to use the Poisson Distance (Witten 2011), implemented in the PoiClaClu package. This measure of dissimilarity between counts also takes the inherent variance structure of counts into consideration when calculating the distances between samples. The PoissonDistance function takes the original count matrix (not normalized) with samples as rows instead of columns, so we need to transpose the counts in dds."
   ]
  },
  {
   "cell_type": "code",
   "execution_count": 37,
   "metadata": {
    "collapsed": false
   },
   "outputs": [
    {
     "data": {
      "image/png": "[encoded data removed]",
      "text/plain": [
       "plot without title"
      ]
     },
     "metadata": {},
     "output_type": "display_data"
    }
   ],
   "source": [
    "## ------------------------------------------------------------------------\n",
    "library(\"PoiClaClu\")\n",
    "poisd <- PoissonDistance(t(counts(dds)))\n",
    "\n",
    "## ----poisdistheatmap, fig.width = 6.1, fig.height = 4.5------------------\n",
    "samplePoisDistMatrix <- as.matrix( poisd$dd )\n",
    "rownames(samplePoisDistMatrix) <- paste( rld$dex, rld$cell, sep=\" - \" )\n",
    "colnames(samplePoisDistMatrix) <- NULL\n",
    "pheatmap(samplePoisDistMatrix,\n",
    "         clustering_distance_rows = poisd$dd,\n",
    "         clustering_distance_cols = poisd$dd,\n",
    "         col = colors)\n"
   ]
  },
  {
   "cell_type": "markdown",
   "metadata": {},
   "source": [
    "**Heatmap of sample-to-sample distances using the Poisson Distance.**"
   ]
  },
  {
   "cell_type": "markdown",
   "metadata": {},
   "source": [
    "### PCA plot\n",
    "\n",
    "Another way to visualize sample-to-sample distances is a principal components analysis (PCA). In this ordination method, the data points (here, the samples) are projected onto the 2D plane such that they spread out in the two directions that explain most of the differences (figure below). The x-axis is the direction that separates the data points the most. The values of the samples in this direction are written PC1. The y-axis is a direction (it must be orthogonal to the first direction) that separates the data the second most. The values of the samples in this direction are written PC2. The percent of the total variance that is contained in the direction is printed in the axis label. Note that these percentages do not add to 100%, because there are more dimensions that contain the remaining variance (although each of these remaining dimensions will explain less than the two that we see)."
   ]
  },
  {
   "cell_type": "code",
   "execution_count": 38,
   "metadata": {
    "collapsed": false
   },
   "outputs": [
    {
     "data": {},
     "metadata": {},
     "output_type": "display_data"
    },
    {
     "data": {
      "image/png": "[encoded data removed]",
      "text/plain": [
       "plot without title"
      ]
     },
     "metadata": {},
     "output_type": "display_data"
    }
   ],
   "source": [
    "## ----plotpca, fig.width=6, fig.height=4.5--------------------------------\n",
    "plotPCA(rld, intgroup = c(\"dex\", \"cell\"))\n"
   ]
  },
  {
   "cell_type": "markdown",
   "metadata": {},
   "source": [
    "**PCA plot using the rlog-transformed values.** Each unique combination of treatment and cell line is given its own color.\n",
    "\n",
    "Here, we have used the function plotPCA that comes with DESeq2 [8]. The two terms specified by intgroup are the interesting groups for labeling the samples; they tell the function to use them to choose colors. We can also build the PCA plot from scratch using the ggplot2 package (Wickham 2009). This is done by asking the plotPCA function to return the data used for plotting rather than building the plot. See the ggplot2 documentation for more details on using ggplot."
   ]
  },
  {
   "cell_type": "code",
   "execution_count": 39,
   "metadata": {
    "collapsed": false
   },
   "outputs": [
    {
     "data": {
      "text/html": [
       "<table>\n",
       "<thead><tr><th></th><th scope=col>PC1</th><th scope=col>PC2</th><th scope=col>group</th><th scope=col>dex</th><th scope=col>cell</th><th scope=col>name</th></tr></thead>\n",
       "<tbody>\n",
       "\t<tr><th scope=row>SRR1039508</th><td>-17.81773      </td><td> -4.020836     </td><td>untrt : N61311 </td><td>untrt          </td><td>N61311         </td><td>SRR1039508     </td></tr>\n",
       "\t<tr><th scope=row>SRR1039509</th><td>  8.38790      </td><td> -1.490805     </td><td>trt : N61311   </td><td>trt            </td><td>N61311         </td><td>SRR1039509     </td></tr>\n",
       "\t<tr><th scope=row>SRR1039512</th><td>-10.22735      </td><td> -5.004069     </td><td>untrt : N052611</td><td>untrt          </td><td>N052611        </td><td>SRR1039512     </td></tr>\n",
       "\t<tr><th scope=row>SRR1039513</th><td> 17.53277      </td><td> -3.909890     </td><td>trt : N052611  </td><td>trt            </td><td>N052611        </td><td>SRR1039513     </td></tr>\n",
       "\t<tr><th scope=row>SRR1039516</th><td>-14.67169      </td><td> 15.873239     </td><td>untrt : N080611</td><td>untrt          </td><td>N080611        </td><td>SRR1039516     </td></tr>\n",
       "\t<tr><th scope=row>SRR1039517</th><td> 10.98782      </td><td> 20.598625     </td><td>trt : N080611  </td><td>trt            </td><td>N080611        </td><td>SRR1039517     </td></tr>\n",
       "\t<tr><th scope=row>SRR1039520</th><td>-12.06035      </td><td>-11.985876     </td><td>untrt : N061011</td><td>untrt          </td><td>N061011        </td><td>SRR1039520     </td></tr>\n",
       "\t<tr><th scope=row>SRR1039521</th><td> 17.86863      </td><td>-10.060389     </td><td>trt : N061011  </td><td>trt            </td><td>N061011        </td><td>SRR1039521     </td></tr>\n",
       "</tbody>\n",
       "</table>\n"
      ],
      "text/latex": [
       "\\begin{tabular}{r|llllll}\n",
       "  & PC1 & PC2 & group & dex & cell & name\\\\\n",
       "\\hline\n",
       "\tSRR1039508 & -17.81773       &  -4.020836      & untrt : N61311  & untrt           & N61311          & SRR1039508     \\\\\n",
       "\tSRR1039509 &   8.38790       &  -1.490805      & trt : N61311    & trt             & N61311          & SRR1039509     \\\\\n",
       "\tSRR1039512 & -10.22735       &  -5.004069      & untrt : N052611 & untrt           & N052611         & SRR1039512     \\\\\n",
       "\tSRR1039513 &  17.53277       &  -3.909890      & trt : N052611   & trt             & N052611         & SRR1039513     \\\\\n",
       "\tSRR1039516 & -14.67169       &  15.873239      & untrt : N080611 & untrt           & N080611         & SRR1039516     \\\\\n",
       "\tSRR1039517 &  10.98782       &  20.598625      & trt : N080611   & trt             & N080611         & SRR1039517     \\\\\n",
       "\tSRR1039520 & -12.06035       & -11.985876      & untrt : N061011 & untrt           & N061011         & SRR1039520     \\\\\n",
       "\tSRR1039521 &  17.86863       & -10.060389      & trt : N061011   & trt             & N061011         & SRR1039521     \\\\\n",
       "\\end{tabular}\n"
      ],
      "text/markdown": [
       "\n",
       "| <!--/--> | PC1 | PC2 | group | dex | cell | name | \n",
       "|---|---|---|---|---|---|---|---|\n",
       "| SRR1039508 | -17.81773       |  -4.020836      | untrt : N61311  | untrt           | N61311          | SRR1039508      | \n",
       "| SRR1039509 |   8.38790       |  -1.490805      | trt : N61311    | trt             | N61311          | SRR1039509      | \n",
       "| SRR1039512 | -10.22735       |  -5.004069      | untrt : N052611 | untrt           | N052611         | SRR1039512      | \n",
       "| SRR1039513 |  17.53277       |  -3.909890      | trt : N052611   | trt             | N052611         | SRR1039513      | \n",
       "| SRR1039516 | -14.67169       |  15.873239      | untrt : N080611 | untrt           | N080611         | SRR1039516      | \n",
       "| SRR1039517 |  10.98782       |  20.598625      | trt : N080611   | trt             | N080611         | SRR1039517      | \n",
       "| SRR1039520 | -12.06035       | -11.985876      | untrt : N061011 | untrt           | N061011         | SRR1039520      | \n",
       "| SRR1039521 |  17.86863       | -10.060389      | trt : N061011   | trt             | N061011         | SRR1039521      | \n",
       "\n",
       "\n"
      ],
      "text/plain": [
       "           PC1       PC2        group           dex   cell    name      \n",
       "SRR1039508 -17.81773  -4.020836 untrt : N61311  untrt N61311  SRR1039508\n",
       "SRR1039509   8.38790  -1.490805 trt : N61311    trt   N61311  SRR1039509\n",
       "SRR1039512 -10.22735  -5.004069 untrt : N052611 untrt N052611 SRR1039512\n",
       "SRR1039513  17.53277  -3.909890 trt : N052611   trt   N052611 SRR1039513\n",
       "SRR1039516 -14.67169  15.873239 untrt : N080611 untrt N080611 SRR1039516\n",
       "SRR1039517  10.98782  20.598625 trt : N080611   trt   N080611 SRR1039517\n",
       "SRR1039520 -12.06035 -11.985876 untrt : N061011 untrt N061011 SRR1039520\n",
       "SRR1039521  17.86863 -10.060389 trt : N061011   trt   N061011 SRR1039521"
      ]
     },
     "metadata": {},
     "output_type": "display_data"
    },
    {
     "data": {},
     "metadata": {},
     "output_type": "display_data"
    },
    {
     "data": {
      "image/png": "[encoded data removed]",
      "text/plain": [
       "plot without title"
      ]
     },
     "metadata": {},
     "output_type": "display_data"
    }
   ],
   "source": [
    "## ------------------------------------------------------------------------\n",
    "pcaData <- plotPCA(rld, intgroup = c( \"dex\", \"cell\"), returnData = TRUE)\n",
    "pcaData\n",
    "percentVar <- round(100 * attr(pcaData, \"percentVar\"))\n",
    "\n",
    "## ----ggplotpca, fig.width=6, fig.height=4.5------------------------------\n",
    "ggplot(pcaData, aes(x = PC1, y = PC2, color = dex, shape = cell)) +\n",
    "  geom_point(size =3) +\n",
    "  xlab(paste0(\"PC1: \", percentVar[1], \"% variance\")) +\n",
    "  ylab(paste0(\"PC2: \", percentVar[2], \"% variance\")) +\n",
    "  coord_fixed()\n"
   ]
  },
  {
   "cell_type": "markdown",
   "metadata": {},
   "source": [
    "**PCA plot using the rlog-transformed values with custom ggplot2 code.** Here we specify cell line (plotting symbol) and dexamethasone treatment (color).\n",
    "\n",
    "From the PCA plot, we see that the differences between cells (the different plotting shapes) are considerable, though not stronger than the differences due to treatment with dexamethasone (red vs blue color). This shows why it will be important to account for this in differential testing by using a paired design (“paired”, because each dex treated sample is paired with one untreated sample from the same cell line). We are already set up for this design by assigning the formula ~ cell + dex earlier."
   ]
  },
  {
   "cell_type": "markdown",
   "metadata": {},
   "source": [
    "### MDS plot\n",
    "\n",
    "Another plot, very similar to the PCA plot, can be made using the multidimensional scaling (MDS) function in base R. This is useful when we don’t have a matrix of data, but only a matrix of distances. Here we compute the MDS for the distances calculated from the rlog transformed counts and plot these in a figure below."
   ]
  },
  {
   "cell_type": "code",
   "execution_count": 40,
   "metadata": {
    "collapsed": false
   },
   "outputs": [
    {
     "data": {},
     "metadata": {},
     "output_type": "display_data"
    },
    {
     "data": {
      "image/png": "[encoded data removed]",
      "text/plain": [
       "plot without title"
      ]
     },
     "metadata": {},
     "output_type": "display_data"
    }
   ],
   "source": [
    "## ----mdsrlog, fig.width=6, fig.height=4.5--------------------------------\n",
    "mds <- as.data.frame(colData(rld))  %>%\n",
    "         cbind(cmdscale(sampleDistMatrix))\n",
    "ggplot(mds, aes(x = `1`, y = `2`, color = dex, shape = cell)) +\n",
    "  geom_point(size = 3) + coord_fixed()\n"
   ]
  },
  {
   "cell_type": "markdown",
   "metadata": {},
   "source": [
    "#### MDS plot using rlog-transformed vlaues.\n",
    "\n",
    "In a figure below we show the same plot for the PoissonDistance:"
   ]
  },
  {
   "cell_type": "code",
   "execution_count": 41,
   "metadata": {
    "collapsed": false
   },
   "outputs": [
    {
     "data": {},
     "metadata": {},
     "output_type": "display_data"
    },
    {
     "data": {
      "image/png": "[encoded data removed]",
      "text/plain": [
       "plot without title"
      ]
     },
     "metadata": {},
     "output_type": "display_data"
    }
   ],
   "source": [
    "\n",
    "## ----mdspois, fig.width=6, fig.height=4.5--------------------------------\n",
    "mdsPois <- as.data.frame(colData(dds)) %>%\n",
    "   cbind(cmdscale(samplePoisDistMatrix))\n",
    "ggplot(mdsPois, aes(x = `1`, y = `2`, color = dex, shape = cell)) +\n",
    "  geom_point(size = 3) + coord_fixed()\n"
   ]
  },
  {
   "cell_type": "markdown",
   "metadata": {},
   "source": [
    "**MDS plot using the *Poisson Distance* **"
   ]
  },
  {
   "cell_type": "markdown",
   "metadata": {},
   "source": [
    "## Differentital expression analysis\n",
    "\n",
    "### Running the differential expression pipeline\n",
    "\n",
    "As we have already specified an experimental design when we created the DESeqDataSet, we can run the differential expression pipeline on the raw counts with a single call to the function DESeq:"
   ]
  },
  {
   "cell_type": "code",
   "execution_count": 42,
   "metadata": {
    "collapsed": false
   },
   "outputs": [
    {
     "name": "stderr",
     "output_type": "stream",
     "text": [
      "using pre-existing size factors\n",
      "estimating dispersions\n",
      "gene-wise dispersion estimates\n",
      "mean-dispersion relationship\n",
      "final dispersion estimates\n",
      "fitting model and testing\n"
     ]
    }
   ],
   "source": [
    "dds <- DESeq(dds)"
   ]
  },
  {
   "cell_type": "markdown",
   "metadata": {},
   "source": [
    "This function will print out a message for the various steps it performs. These are described in more detail in the manual page for DESeq, which can be accessed by typing ?DESeq. Briefly these are: the estimation of size factors (controlling for differences in the sequencing depth of the samples), the estimation of dispersion values for each gene, and fitting a generalized linear model.\n",
    "\n",
    "A DESeqDataSet is returned that contains all the fitted parameters within it, and the following section describes how to extract out results tables of interest from this object."
   ]
  },
  {
   "cell_type": "markdown",
   "metadata": {},
   "source": [
    "### Building the results table\n",
    "\n",
    "Calling results without any arguments will extract the estimated log2 fold changes and p values for the last variable in the design formula. If there are more than 2 levels for this variable, results will extract the results table for a comparison of the last level over the first level. The comparison is printed at the top of the output: dex trt vs untrt."
   ]
  },
  {
   "cell_type": "code",
   "execution_count": 43,
   "metadata": {
    "collapsed": false
   },
   "outputs": [
    {
     "data": {
      "text/plain": [
       "log2 fold change (MAP): dex trt vs untrt \n",
       "Wald test p-value: dex trt vs untrt \n",
       "DataFrame with 29391 rows and 6 columns\n",
       "                   baseMean log2FoldChange      lfcSE       stat      pvalue\n",
       "                  <numeric>      <numeric>  <numeric>  <numeric>   <numeric>\n",
       "ENSG00000000003 708.6021697    -0.37415193 0.09884432 -3.7852648 0.000153545\n",
       "ENSG00000000419 520.2979006     0.20206144 0.10974240  1.8412340 0.065587276\n",
       "ENSG00000000457 237.1630368     0.03616620 0.13834538  0.2614196 0.793768939\n",
       "ENSG00000000460  57.9326331    -0.08446385 0.24990676 -0.3379815 0.735377161\n",
       "ENSG00000000938   0.3180984    -0.08413904 0.15133427 -0.5559814 0.578223585\n",
       "...                     ...            ...        ...        ...         ...\n",
       "ENSG00000273485   1.2864477     0.03398815  0.2932360  0.1159071   0.9077261\n",
       "ENSG00000273486  15.4525365    -0.09560732  0.3410333 -0.2803460   0.7792120\n",
       "ENSG00000273487   8.1632350     0.55007412  0.3725061  1.4766847   0.1397602\n",
       "ENSG00000273488   8.5844790     0.10515293  0.3683834  0.2854442   0.7753038\n",
       "ENSG00000273489   0.2758994     0.06947900  0.1512520  0.4593591   0.6459763\n",
       "                      padj\n",
       "                 <numeric>\n",
       "ENSG00000000003 0.00128686\n",
       "ENSG00000000419 0.19676183\n",
       "ENSG00000000457 0.91372953\n",
       "ENSG00000000460 0.88385059\n",
       "ENSG00000000938         NA\n",
       "...                    ...\n",
       "ENSG00000273485         NA\n",
       "ENSG00000273486  0.9062268\n",
       "ENSG00000273487  0.3389275\n",
       "ENSG00000273488  0.9039857\n",
       "ENSG00000273489         NA"
      ]
     },
     "metadata": {},
     "output_type": "display_data"
    },
    {
     "data": {
      "text/plain": [
       "DataFrame with 6 rows and 2 columns\n",
       "                       type                               description\n",
       "                <character>                               <character>\n",
       "baseMean       intermediate mean of normalized counts for all samples\n",
       "log2FoldChange      results  log2 fold change (MAP): dex trt vs untrt\n",
       "lfcSE               results          standard error: dex trt vs untrt\n",
       "stat                results          Wald statistic: dex trt vs untrt\n",
       "pvalue              results       Wald test p-value: dex trt vs untrt\n",
       "padj                results                      BH adjusted p-values"
      ]
     },
     "metadata": {},
     "output_type": "display_data"
    }
   ],
   "source": [
    "res <- results(dds)\n",
    "res\n",
    "\n",
    "mcols(res, use.names = TRUE)\n"
   ]
  },
  {
   "cell_type": "markdown",
   "metadata": {},
   "source": [
    "The first column, baseMean, is a just the average of the normalized count values, divided by the size factors, taken over all samples in the DESeqDataSet. The remaining four columns refer to a specific contrast, namely the comparison of the trt level over the untrt level for the factor variable dex. We will find out below how to obtain other contrasts.\n",
    "\n",
    "The column log2FoldChange is the effect size estimate. It tells us how much the gene’s expression seems to have changed due to treatment with dexamethasone in comparison to untreated samples. This value is reported on a logarithmic scale to base 2: for example, a log2 fold change of 1.5 means that the gene’s expression is increased by a multiplicative factor of 21.5 ≈ 2.82.\n",
    "\n",
    "Of course, this estimate has an uncertainty associated with it, which is available in the column lfcSE, the standard error estimate for the log2 fold change estimate. We can also express the uncertainty of a particular effect size estimate as the result of a statistical test. The purpose of a test for differential expression is to test whether the data provides sufficient evidence to conclude that this value is really different from zero. DESeq2 [8] performs for each gene a hypothesis test to see whether evidence is sufficient to decide against the null hypothesis that there is zero effect of the treatment on the gene and that the observed difference between treatment and control was merely caused by experimental variability (i.e., the type of variability that you can expect between different samples in the same treatment group). As usual in statistics, the result of this test is reported as a p value, and it is found in the column pvalue. Remember that a p value indicates the probability that a fold change as strong as the observed one, or even stronger, would be seen under the situation described by the null hypothesis.\n",
    "\n",
    "\n",
    "We can also summarize the results with the following line of code, which reports some additional information, that will be covered in later sections."
   ]
  },
  {
   "cell_type": "code",
   "execution_count": 44,
   "metadata": {
    "collapsed": false,
    "scrolled": false
   },
   "outputs": [
    {
     "name": "stdout",
     "output_type": "stream",
     "text": [
      "\n",
      "out of 29391 with nonzero total read count\n",
      "adjusted p-value < 0.1\n",
      "LFC > 0 (up)     : 2617, 8.9% \n",
      "LFC < 0 (down)   : 2204, 7.5% \n",
      "outliers [1]     : 0, 0% \n",
      "low counts [2]   : 11397, 39% \n",
      "(mean count < 5)\n",
      "[1] see 'cooksCutoff' argument of ?results\n",
      "[2] see 'independentFiltering' argument of ?results\n",
      "\n"
     ]
    }
   ],
   "source": [
    "summary(res)"
   ]
  },
  {
   "cell_type": "markdown",
   "metadata": {},
   "source": [
    "Note that there are many genes with differential expression due to dexamethasone treatment at the FDR level of 10%. This makes sense, as the smooth muscle cells of the airway[2] are known to react to glucocorticoid steroids. However, there are two ways to be more strict about which set of genes are considered significant:\n",
    "\n",
    "* lower the false discovery rate threshold (the threshold on padj in the results table)\n",
    "* raise the log2 fold change threshold from 0 using the lfcThreshold argument of results\n",
    "\n",
    "If we lower the false discovery rate threshold, we should also inform the results() function about it, so that the function can use this threshold for the optimal independent filtering that it performs:"
   ]
  },
  {
   "cell_type": "code",
   "execution_count": 45,
   "metadata": {
    "collapsed": false
   },
   "outputs": [
    {
     "data": {
      "text/plain": [
       "\n",
       "FALSE  TRUE \n",
       "12841  4014 "
      ]
     },
     "metadata": {},
     "output_type": "display_data"
    }
   ],
   "source": [
    "## ------------------------------------------------------------------------\n",
    "res.05 <- results(dds, alpha = 0.05)\n",
    "table(res.05$padj < 0.05)\n"
   ]
  },
  {
   "cell_type": "markdown",
   "metadata": {},
   "source": [
    "If we want to raise the log2 fold change threshold, so that we test for genes that show more substantial changes due to treatment, we simply supply a value on the log2 scale. For example, by specifying lfcThreshold = 1, we test for genes that show significant effects of treatment on gene counts more than doubling or less than halving, because 21 = 2."
   ]
  },
  {
   "cell_type": "code",
   "execution_count": 46,
   "metadata": {
    "collapsed": false
   },
   "outputs": [
    {
     "data": {
      "text/plain": [
       "\n",
       "FALSE  TRUE \n",
       "18368   196 "
      ]
     },
     "metadata": {},
     "output_type": "display_data"
    }
   ],
   "source": [
    "## ------------------------------------------------------------------------\n",
    "resLFC1 <- results(dds, lfcThreshold=1)\n",
    "table(resLFC1$padj < 0.1)\n"
   ]
  },
  {
   "cell_type": "markdown",
   "metadata": {},
   "source": [
    "Sometimes a subset of the p values in res will be NA (“not available”). This is DESeq’s way of reporting that all counts for this gene were zero, and hence no test was applied. In addition, p values can be assigned NA if the gene was excluded from analysis because it contained an extreme count outlier. For more information, see the outlier detection section of the DESeq2 [8] vignette.\n",
    "\n",
    "If you use the results from an R analysis package in published research, you can find the proper citation for the software by typing citation(\"pkgName\"), where you would substitute the name of the package for pkgName. Citing methods papers helps to support and reward the individuals who put time into open source software for genomic data analysis."
   ]
  },
  {
   "cell_type": "markdown",
   "metadata": {},
   "source": [
    "### Other comaprisions\n",
    "\n",
    "In general, the results for a comparison of any two levels of a variable can be extracted using the contrast argument to results. The user should specify three values: the name of the variable, the name of the level for the numerator, and the name of the level for the denominator. Here we extract results for the log2 of the fold change of one cell line over another:"
   ]
  },
  {
   "cell_type": "code",
   "execution_count": 47,
   "metadata": {
    "collapsed": false,
    "scrolled": false
   },
   "outputs": [
    {
     "data": {
      "text/plain": [
       "log2 fold change (MAP): cell N061011 vs N61311 \n",
       "Wald test p-value: cell N061011 vs N61311 \n",
       "DataFrame with 29391 rows and 6 columns\n",
       "                   baseMean log2FoldChange      lfcSE         stat     pvalue\n",
       "                  <numeric>      <numeric>  <numeric>    <numeric>  <numeric>\n",
       "ENSG00000000003 708.6021697     0.29015273 0.13600619    2.1333788 0.03289366\n",
       "ENSG00000000419 520.2979006    -0.05059433 0.14952670   -0.3383632 0.73508951\n",
       "ENSG00000000457 237.1630368     0.01470174 0.18299791    0.0803383 0.93596820\n",
       "ENSG00000000460  57.9326331     0.19881498 0.28110398    0.7072649 0.47940186\n",
       "ENSG00000000938   0.3180984     0.00000000 0.07395438    0.0000000 1.00000000\n",
       "...                     ...            ...        ...          ...        ...\n",
       "ENSG00000273485   1.2864477   -0.170393536 0.15852221 -1.074887456  0.2824251\n",
       "ENSG00000273486  15.4525365   -0.028818343 0.30362829 -0.094913237  0.9243837\n",
       "ENSG00000273487   8.1632350   -0.001849525 0.27408559 -0.006747984  0.9946159\n",
       "ENSG00000273488   8.5844790    0.363892340 0.28532412  1.275364792  0.2021802\n",
       "ENSG00000273489   0.2758994    0.000000000 0.07395438  0.000000000  1.0000000\n",
       "                     padj\n",
       "                <numeric>\n",
       "ENSG00000000003 0.2108078\n",
       "ENSG00000000419 0.9337449\n",
       "ENSG00000000457 0.9883448\n",
       "ENSG00000000460 0.8365359\n",
       "ENSG00000000938        NA\n",
       "...                   ...\n",
       "ENSG00000273485        NA\n",
       "ENSG00000273486  0.985074\n",
       "ENSG00000273487        NA\n",
       "ENSG00000273488        NA\n",
       "ENSG00000273489        NA"
      ]
     },
     "metadata": {},
     "output_type": "display_data"
    }
   ],
   "source": [
    "results(dds, contrast = c(\"cell\", \"N061011\", \"N61311\"))"
   ]
  },
  {
   "cell_type": "markdown",
   "metadata": {},
   "source": [
    "If results for an interaction term are desired, the name argument of results should be used. Please see the help for the results function for more details."
   ]
  },
  {
   "cell_type": "markdown",
   "metadata": {},
   "source": [
    "### Multiple testing\n",
    "\n",
    "In high-throughput biology, we are careful to not use the p values directly as evidence against the null, but to correct for multiple testing. What would happen if we were to simply threshold the p values at a low value, say 0.05? There are 5676 genes with a p value below 0.05 among the 29391 genes for which the test succeeded in reporting a p value:"
   ]
  },
  {
   "cell_type": "code",
   "execution_count": 48,
   "metadata": {
    "collapsed": false
   },
   "outputs": [
    {
     "data": {
      "text/html": [
       "5648"
      ],
      "text/latex": [
       "5648"
      ],
      "text/markdown": [
       "5648"
      ],
      "text/plain": [
       "[1] 5648"
      ]
     },
     "metadata": {},
     "output_type": "display_data"
    },
    {
     "data": {
      "text/html": [
       "29391"
      ],
      "text/latex": [
       "29391"
      ],
      "text/markdown": [
       "29391"
      ],
      "text/plain": [
       "[1] 29391"
      ]
     },
     "metadata": {},
     "output_type": "display_data"
    }
   ],
   "source": [
    "## ----sumres--------------------------------------------------------------\n",
    "sum(res$pvalue < 0.05, na.rm=TRUE)\n",
    "sum(!is.na(res$pvalue))"
   ]
  },
  {
   "cell_type": "markdown",
   "metadata": {},
   "source": [
    "Now, assume for a moment that the null hypothesis is true for all genes, i.e., no gene is affected by the treatment with dexamethasone. Then, by the definition of the p value, we expect up to 5% of the genes to have a p value below 0.05. This amounts to 1470 genes. If we just considered the list of genes with a p value below 0.05 as differentially expressed, this list should therefore be expected to contain up to 1470 / 5676 = 26% false positives.\n",
    "\n",
    "DESeq2 [8] uses the Benjamini-Hochberg (BH) adjustment (Benjamini and Hochberg 1995) as implemented in the base R p.adjust function; in brief, this method calculates for each gene an adjusted p value that answers the following question: if one called significant all genes with an adjusted p value less than or equal to this gene’s adjusted p value threshold, what would be the fraction of false positives (the false discovery rate, FDR) among them, in the sense of the calculation outlined above? These values, called the BH-adjusted p values, are given in the column padj of the res object.\n",
    "The FDR is a useful statistic for many high-throughput experiments, as we are often interested in reporting or focusing on a set of interesting genes, and we would like to put an upper bound on the percent of false positives in this set.\n",
    "\n",
    "Hence, if we consider a fraction of 10% false positives acceptable, we can consider all genes with an adjusted p value below 10% = 0.1 as significant. How many such genes are there?"
   ]
  },
  {
   "cell_type": "code",
   "execution_count": 49,
   "metadata": {
    "collapsed": false
   },
   "outputs": [
    {
     "data": {
      "text/html": [
       "4821"
      ],
      "text/latex": [
       "4821"
      ],
      "text/markdown": [
       "4821"
      ],
      "text/plain": [
       "[1] 4821"
      ]
     },
     "metadata": {},
     "output_type": "display_data"
    }
   ],
   "source": [
    "sum(res$padj < 0.1, na.rm=TRUE)"
   ]
  },
  {
   "cell_type": "markdown",
   "metadata": {},
   "source": [
    "We subset the results table to these genes and then sort it by the log2 fold change estimate to get the significant genes with the strongest down-regulation:"
   ]
  },
  {
   "cell_type": "code",
   "execution_count": 50,
   "metadata": {
    "collapsed": false
   },
   "outputs": [
    {
     "data": {
      "text/plain": [
       "log2 fold change (MAP): dex trt vs untrt \n",
       "Wald test p-value: dex trt vs untrt \n",
       "DataFrame with 6 rows and 6 columns\n",
       "                 baseMean log2FoldChange     lfcSE       stat       pvalue\n",
       "                <numeric>      <numeric> <numeric>  <numeric>    <numeric>\n",
       "ENSG00000162692 508.17023      -3.449451 0.1767133 -19.520040 7.418019e-85\n",
       "ENSG00000105989 333.21469      -2.847367 0.1763077 -16.149989 1.135822e-58\n",
       "ENSG00000146006  46.80760      -2.828103 0.3377002  -8.374596 5.541346e-17\n",
       "ENSG00000214814 243.27698      -2.753580 0.2235524 -12.317379 7.302919e-35\n",
       "ENSG00000267339  26.23357      -2.704529 0.3519704  -7.683967 1.542363e-14\n",
       "ENSG00000013293 244.49733      -2.641033 0.1992865 -13.252442 4.367569e-40\n",
       "                        padj\n",
       "                   <numeric>\n",
       "ENSG00000162692 9.534273e-82\n",
       "ENSG00000105989 5.839423e-56\n",
       "ENSG00000146006 2.702195e-15\n",
       "ENSG00000214814 1.228119e-32\n",
       "ENSG00000267339 5.904954e-13\n",
       "ENSG00000013293 8.830342e-38"
      ]
     },
     "metadata": {},
     "output_type": "display_data"
    }
   ],
   "source": [
    "resSig <- subset(res, padj < 0.1)\n",
    "head(resSig[ order(resSig$log2FoldChange), ])\n"
   ]
  },
  {
   "cell_type": "markdown",
   "metadata": {},
   "source": [
    "And the strongest up-regulation:"
   ]
  },
  {
   "cell_type": "code",
   "execution_count": 51,
   "metadata": {
    "collapsed": false
   },
   "outputs": [
    {
     "data": {
      "text/plain": [
       "log2 fold change (MAP): dex trt vs untrt \n",
       "Wald test p-value: dex trt vs untrt \n",
       "DataFrame with 6 rows and 6 columns\n",
       "                 baseMean log2FoldChange     lfcSE      stat        pvalue\n",
       "                <numeric>      <numeric> <numeric> <numeric>     <numeric>\n",
       "ENSG00000109906 385.07103       4.847146 0.3313650  14.62781  1.866877e-48\n",
       "ENSG00000179593  67.24305       4.830826 0.3314188  14.57620  3.980821e-48\n",
       "ENSG00000152583 997.43977       4.313968 0.1721375  25.06117 1.319002e-138\n",
       "ENSG00000163884 561.10717       4.074334 0.2104702  19.35824  1.737077e-83\n",
       "ENSG00000250978  56.31819       4.054730 0.3294741  12.30667  8.339021e-35\n",
       "ENSG00000168309 159.52692       3.977125 0.2558468  15.54495  1.721597e-54\n",
       "                         padj\n",
       "                    <numeric>\n",
       "ENSG00000109906  5.893437e-46\n",
       "ENSG00000179593  1.193848e-45\n",
       "ENSG00000152583 2.373412e-134\n",
       "ENSG00000163884  1.953560e-80\n",
       "ENSG00000250978  1.389373e-32\n",
       "ENSG00000168309  7.744606e-52"
      ]
     },
     "metadata": {},
     "output_type": "display_data"
    }
   ],
   "source": [
    "## ------------------------------------------------------------------------\n",
    "head(resSig[ order(resSig$log2FoldChange, decreasing = TRUE), ])"
   ]
  },
  {
   "cell_type": "markdown",
   "metadata": {},
   "source": [
    "## Plotting Results\n",
    "\n",
    "A quick way to visualize the counts for a particular gene is to use the plotCounts function that takes as arguments the DESeqDataSet, a gene name, and the group over which to plot the counts (figure below)."
   ]
  },
  {
   "cell_type": "code",
   "execution_count": 52,
   "metadata": {
    "collapsed": false,
    "scrolled": false
   },
   "outputs": [
    {
     "data": {
      "image/png": "[encoded data removed]",
      "text/plain": [
       "Plot with title \"ENSG00000152583\""
      ]
     },
     "metadata": {},
     "output_type": "display_data"
    }
   ],
   "source": [
    "## ----plotcounts----------------------------------------------------------\n",
    "topGene <- rownames(res)[which.min(res$padj)]\n",
    "plotCounts(dds, gene = topGene, intgroup=c(\"dex\"))"
   ]
  },
  {
   "cell_type": "markdown",
   "metadata": {},
   "source": [
    "**Normalized counts for a single gene over treatment group.**\n",
    "\n",
    "We can also make custom plots using the ggplot function from the ggplot2 package (figures below)."
   ]
  },
  {
   "cell_type": "code",
   "execution_count": 54,
   "metadata": {
    "collapsed": false
   },
   "outputs": [
    {
     "data": {},
     "metadata": {},
     "output_type": "display_data"
    },
    {
     "data": {
      "image/png": "[encoded data removed]",
      "text/plain": [
       "plot without title"
      ]
     },
     "metadata": {},
     "output_type": "display_data"
    }
   ],
   "source": [
    "library(\"ggbeeswarm\")\n",
    "geneCounts <- plotCounts(dds, gene = topGene, intgroup = c(\"dex\",\"cell\"),\n",
    "                         returnData = TRUE)\n",
    "ggplot(geneCounts, aes(x = dex, y = count, color = cell)) +\n",
    "  scale_y_log10() +  geom_beeswarm(cex = 3)"
   ]
  },
  {
   "cell_type": "code",
   "execution_count": 55,
   "metadata": {
    "collapsed": false
   },
   "outputs": [
    {
     "data": {},
     "metadata": {},
     "output_type": "display_data"
    },
    {
     "data": {
      "image/png": "[encoded data removed]",
      "text/plain": [
       "plot without title"
      ]
     },
     "metadata": {},
     "output_type": "display_data"
    }
   ],
   "source": [
    "## ----ggplotcountsgroup, fig.width = 4, fig.height = 3--------------------\n",
    "ggplot(geneCounts, aes(x = dex, y = count, color = cell, group = cell)) +\n",
    "  scale_y_log10() + geom_point(size = 3) + geom_line()\n"
   ]
  },
  {
   "cell_type": "markdown",
   "metadata": {},
   "source": [
    "**Normalized counts with lines connecting cell lines.**\n",
    "Note that the DESeq test actually takes into account the cell line effect, so this figure more closely depicts the difference being tested.\n",
    "\n",
    "An MA-plot (R. Dudoit et al. 2002) provides a useful overview for an experiment with a two-group comparison (figure below)."
   ]
  },
  {
   "cell_type": "code",
   "execution_count": 56,
   "metadata": {
    "collapsed": false
   },
   "outputs": [
    {
     "data": {
      "image/png": "[encoded data removed]",
      "text/plain": [
       "Plot with title \"\""
      ]
     },
     "metadata": {},
     "output_type": "display_data"
    }
   ],
   "source": [
    "## ----plotma--------------------------------------------------------------\n",
    "plotMA(res, ylim = c(-5, 5))"
   ]
  },
  {
   "cell_type": "markdown",
   "metadata": {},
   "source": [
    "**An MA-plot of changes induced by treatment.** \n",
    "The log2 fold change for a particular comparison is plotted on the y-axis and the average of the counts normalized by size factor is shown on the x-axis (“M” for minus, because a log ratio is equal to log minus log, and “A” for average). Each gene is represented with a dot. Genes with an adjusted p value below a threshold (here 0.1, the default) are shown in red.\n",
    "\n",
    "The DESeq2 [8] package uses statistical techniques to moderate log2 fold changes from genes with very low counts and highly variable counts, as can be seen by the narrowing of the vertical spread of points on the left side of the MA-plot. For a detailed explanation of the rationale of moderated fold changes, please see the DESeq2 [8] paper (Love, Huber, and Anders 2014). This plot demonstrates that only genes with a large average normalized count contain sufficient information to yield a significant call.\n",
    "\n",
    "We can also make an MA-plot for the results table in which we raised the log2 fold change threshold (figure below). We can label individual points on the MA-plot as well. Here we use the with R function to plot a circle and text for a selected row of the results object. Within the with function, only the baseMean and log2FoldChange values for the selected rows of res are used."
   ]
  },
  {
   "cell_type": "code",
   "execution_count": 57,
   "metadata": {
    "collapsed": false
   },
   "outputs": [
    {
     "data": {
      "image/png": "[encoded data removed]",
      "text/plain": [
       "Plot with title \"\""
      ]
     },
     "metadata": {},
     "output_type": "display_data"
    }
   ],
   "source": [
    "## ----plotmalabel---------------------------------------------------------\n",
    "plotMA(resLFC1, ylim = c(-5,5))\n",
    "topGene <- rownames(resLFC1)[which.min(resLFC1$padj)]\n",
    "with(resLFC1[topGene, ], {\n",
    "  points(baseMean, log2FoldChange, col=\"dodgerblue\", cex=2, lwd=2)\n",
    "  text(baseMean, log2FoldChange, topGene, pos=2, col=\"dodgerblue\")\n",
    "})"
   ]
  },
  {
   "cell_type": "markdown",
   "metadata": {},
   "source": [
    "**An MA-plot of a test for large log2 fold changes.** The red points indicate genes for which the log2 fold change was significantly higher than 1 or less than -1 (treatment resulting in more than doubling or less than halving of the normalized counts). The point circled in blue indicates the gene with the lowest adjusted p value.\n",
    "\n",
    "Another useful diagnostic plot is the histogram of the p values (figure below). This plot is best formed by excluding genes with very small counts, which otherwise generate spikes in the histogram."
   ]
  },
  {
   "cell_type": "code",
   "execution_count": 58,
   "metadata": {
    "collapsed": false
   },
   "outputs": [
    {
     "data": {
      "image/png": "[encoded data removed]",
      "text/plain": [
       "Plot with title \"Histogram of res$pvalue[res$baseMean > 1]\""
      ]
     },
     "metadata": {},
     "output_type": "display_data"
    }
   ],
   "source": [
    "hist(res$pvalue[res$baseMean > 1], breaks = 0:20/20,\n",
    "     col = \"grey50\", border = \"white\")"
   ]
  },
  {
   "cell_type": "markdown",
   "metadata": {},
   "source": [
    "**Histogram of p values for genes with mean normalized count larger than 1.**"
   ]
  },
  {
   "cell_type": "markdown",
   "metadata": {},
   "source": [
    "### Gene clustering\n",
    "\n",
    "In the sample distance heatmap made previously, the dendrogram at the side shows us a hierarchical clustering of the samples. Such a clustering can also be performed for the genes. Since the clustering is only relevant for genes that actually carry a signal, one usually would only cluster a subset of the most highly variable genes. Here, for demonstration, let us select the 20 genes with the highest variance across samples. We will work with the rlog transformed counts:\n"
   ]
  },
  {
   "cell_type": "code",
   "execution_count": 59,
   "metadata": {
    "collapsed": true
   },
   "outputs": [],
   "source": [
    "library(\"genefilter\")\n",
    "topVarGenes <- head(order(rowVars(assay(rld)), decreasing = TRUE), 20)"
   ]
  },
  {
   "cell_type": "markdown",
   "metadata": {},
   "source": [
    "The heatmap becomes more interesting if we do not look at absolute expression strength but rather at the amount by which each gene deviates in a specific sample from the gene’s average across all samples. Hence, we center each genes’ values across samples, and plot a heatmap (figure below). We provide a data.frame that instructs the pheatmap function how to label the columns."
   ]
  },
  {
   "cell_type": "code",
   "execution_count": 60,
   "metadata": {
    "collapsed": false
   },
   "outputs": [
    {
     "data": {
      "image/png": "[encoded data removed]",
      "text/plain": [
       "plot without title"
      ]
     },
     "metadata": {},
     "output_type": "display_data"
    }
   ],
   "source": [
    "mat  <- assay(rld)[ topVarGenes, ]\n",
    "mat  <- mat - rowMeans(mat)\n",
    "anno <- as.data.frame(colData(rld)[, c(\"cell\",\"dex\")])\n",
    "pheatmap(mat, annotation_col = anno)"
   ]
  },
  {
   "cell_type": "markdown",
   "metadata": {},
   "source": [
    "**Heatmap of relative rlog-transformed values across samples.** \n",
    "Treatment status and cell line information are shown with colored bars at the top of the heatmap. Blocks of genes that covary across patients. Note that a set of genes at the top of the heatmap are separating the N061011 cell line from the others. In the center of the heatmap, we see a set of genes for which the dexamethasone treated samples have higher gene expression."
   ]
  },
  {
   "cell_type": "markdown",
   "metadata": {},
   "source": [
    "**Independent Filtering**\n",
    "\n",
    "The MA plot highlights an important property of RNA-seq data. For weakly expressed genes, we have no chance of seeing differential expression, because the low read counts suffer from such high Poisson noise that any biological effect is drowned in the uncertainties from the sampling at a low rate. We can also show this by examining the ratio of small p values (say, less than 0.05) for genes binned by mean normalized count. We will use the results table subjected to the threshold to show what this looks like in a case when there are few tests with small p value.\n",
    "\n",
    "In the following code chunk, we create bins using the quantile function, bin the genes by base mean using cut, rename the levels of the bins using the middle point, calculate the ratio of p values less than 0.05 for each bin, and finally plot these ratios (figure below)."
   ]
  },
  {
   "cell_type": "code",
   "execution_count": 61,
   "metadata": {
    "collapsed": false
   },
   "outputs": [
    {
     "data": {
      "image/png": "[encoded data removed]",
      "text/plain": [
       "plot without title"
      ]
     },
     "metadata": {},
     "output_type": "display_data"
    }
   ],
   "source": [
    "## ----sensitivityovermean, fig.width=6------------------------------------\n",
    "qs <- c(0, quantile(resLFC1$baseMean[resLFC1$baseMean > 0], 0:6/6))\n",
    "bins <- cut(resLFC1$baseMean, qs)\n",
    "levels(bins) <- paste0(\"~\", round(signif((qs[-1] + qs[-length(qs)])/2, 2)))\n",
    "fractionSig <- tapply(resLFC1$pvalue, bins, function(p)\n",
    "                          mean(p < .05, na.rm = TRUE))\n",
    "barplot(fractionSig, xlab = \"mean normalized count\",\n",
    "                     ylab = \"fraction of small p values\")"
   ]
  },
  {
   "cell_type": "markdown",
   "metadata": {},
   "source": [
    "The ratio of small p values for genes binned by mean normalized count. The p values are from a test of log2 fold change greater than 1 or less than -1. This plot demonstrates that genes with very low mean count have little or no power, and are best excluded from testing.\n",
    "\n",
    "At first sight, there may seem to be little benefit in filtering out these genes. After all, the test found them to be non-significant anyway. However, these genes have an influence on the multiple testing adjustment, whose performance improves if such genes are removed. By removing the low count genes from the input to the FDR procedure, we can find more genes to be significant among those that we keep, and so improved the power of our test. This approach is known as independent filtering.\n",
    "\n",
    "The DESeq2 [8] software automatically performs independent filtering that maximizes the number of genes with adjusted p value less than a critical value (by default, alpha is set to 0.1). This automatic independent filtering is performed by, and can be controlled by, the results function.\n",
    "\n",
    "The term independent highlights an important caveat. Such filtering is permissible only if the statistic that we filter on (here the mean of normalized counts across all samples) is independent of the actual test statistic (the p value) under the null hypothesis. Otherwise, the filtering would invalidate the test and consequently the assumptions of the BH procedure. The independent filtering software used inside DESeq2 [8] comes from the GeneFilter[10] package, that contains a reference to a paper describing the statistical foundation for independent filtering (Bourgon, Gentleman, and Huber 2010)."
   ]
  },
  {
   "cell_type": "markdown",
   "metadata": {},
   "source": [
    "## Annotating and exporting results\n",
    "\n",
    "Our result table so far only contains the Ensembl gene IDs, but alternative gene names may be more informative for interpretation. Bioconductor’s annotation packages help with mapping various ID schemes to each other. We load the AnnotationDbi [11] package and the annotation package org.Hs.eg.db:"
   ]
  },
  {
   "cell_type": "code",
   "execution_count": 62,
   "metadata": {
    "collapsed": false
   },
   "outputs": [
    {
     "name": "stderr",
     "output_type": "stream",
     "text": [
      "\n"
     ]
    }
   ],
   "source": [
    "## ------------------------------------------------------------------------\n",
    "library(\"AnnotationDbi\")\n",
    "library(\"org.Hs.eg.db\")"
   ]
  },
  {
   "cell_type": "markdown",
   "metadata": {},
   "source": [
    "This is the organism annotation package (“org”) for Homo sapiens (“Hs”), organized as an AnnotationDbi [11] database package (“db”), using Entrez Gene IDs (“eg”) as primary key. To get a list of all available key types, use"
   ]
  },
  {
   "cell_type": "code",
   "execution_count": 63,
   "metadata": {
    "collapsed": false
   },
   "outputs": [
    {
     "data": {
      "text/html": [
       "<ol class=list-inline>\n",
       "\t<li>'ACCNUM'</li>\n",
       "\t<li>'ALIAS'</li>\n",
       "\t<li>'ENSEMBL'</li>\n",
       "\t<li>'ENSEMBLPROT'</li>\n",
       "\t<li>'ENSEMBLTRANS'</li>\n",
       "\t<li>'ENTREZID'</li>\n",
       "\t<li>'ENZYME'</li>\n",
       "\t<li>'EVIDENCE'</li>\n",
       "\t<li>'EVIDENCEALL'</li>\n",
       "\t<li>'GENENAME'</li>\n",
       "\t<li>'GO'</li>\n",
       "\t<li>'GOALL'</li>\n",
       "\t<li>'IPI'</li>\n",
       "\t<li>'MAP'</li>\n",
       "\t<li>'OMIM'</li>\n",
       "\t<li>'ONTOLOGY'</li>\n",
       "\t<li>'ONTOLOGYALL'</li>\n",
       "\t<li>'PATH'</li>\n",
       "\t<li>'PFAM'</li>\n",
       "\t<li>'PMID'</li>\n",
       "\t<li>'PROSITE'</li>\n",
       "\t<li>'REFSEQ'</li>\n",
       "\t<li>'SYMBOL'</li>\n",
       "\t<li>'UCSCKG'</li>\n",
       "\t<li>'UNIGENE'</li>\n",
       "\t<li>'UNIPROT'</li>\n",
       "</ol>\n"
      ],
      "text/latex": [
       "\\begin{enumerate*}\n",
       "\\item 'ACCNUM'\n",
       "\\item 'ALIAS'\n",
       "\\item 'ENSEMBL'\n",
       "\\item 'ENSEMBLPROT'\n",
       "\\item 'ENSEMBLTRANS'\n",
       "\\item 'ENTREZID'\n",
       "\\item 'ENZYME'\n",
       "\\item 'EVIDENCE'\n",
       "\\item 'EVIDENCEALL'\n",
       "\\item 'GENENAME'\n",
       "\\item 'GO'\n",
       "\\item 'GOALL'\n",
       "\\item 'IPI'\n",
       "\\item 'MAP'\n",
       "\\item 'OMIM'\n",
       "\\item 'ONTOLOGY'\n",
       "\\item 'ONTOLOGYALL'\n",
       "\\item 'PATH'\n",
       "\\item 'PFAM'\n",
       "\\item 'PMID'\n",
       "\\item 'PROSITE'\n",
       "\\item 'REFSEQ'\n",
       "\\item 'SYMBOL'\n",
       "\\item 'UCSCKG'\n",
       "\\item 'UNIGENE'\n",
       "\\item 'UNIPROT'\n",
       "\\end{enumerate*}\n"
      ],
      "text/markdown": [
       "1. 'ACCNUM'\n",
       "2. 'ALIAS'\n",
       "3. 'ENSEMBL'\n",
       "4. 'ENSEMBLPROT'\n",
       "5. 'ENSEMBLTRANS'\n",
       "6. 'ENTREZID'\n",
       "7. 'ENZYME'\n",
       "8. 'EVIDENCE'\n",
       "9. 'EVIDENCEALL'\n",
       "10. 'GENENAME'\n",
       "11. 'GO'\n",
       "12. 'GOALL'\n",
       "13. 'IPI'\n",
       "14. 'MAP'\n",
       "15. 'OMIM'\n",
       "16. 'ONTOLOGY'\n",
       "17. 'ONTOLOGYALL'\n",
       "18. 'PATH'\n",
       "19. 'PFAM'\n",
       "20. 'PMID'\n",
       "21. 'PROSITE'\n",
       "22. 'REFSEQ'\n",
       "23. 'SYMBOL'\n",
       "24. 'UCSCKG'\n",
       "25. 'UNIGENE'\n",
       "26. 'UNIPROT'\n",
       "\n",
       "\n"
      ],
      "text/plain": [
       " [1] \"ACCNUM\"       \"ALIAS\"        \"ENSEMBL\"      \"ENSEMBLPROT\"  \"ENSEMBLTRANS\"\n",
       " [6] \"ENTREZID\"     \"ENZYME\"       \"EVIDENCE\"     \"EVIDENCEALL\"  \"GENENAME\"    \n",
       "[11] \"GO\"           \"GOALL\"        \"IPI\"          \"MAP\"          \"OMIM\"        \n",
       "[16] \"ONTOLOGY\"     \"ONTOLOGYALL\"  \"PATH\"         \"PFAM\"         \"PMID\"        \n",
       "[21] \"PROSITE\"      \"REFSEQ\"       \"SYMBOL\"       \"UCSCKG\"       \"UNIGENE\"     \n",
       "[26] \"UNIPROT\"     "
      ]
     },
     "metadata": {},
     "output_type": "display_data"
    }
   ],
   "source": [
    "## ------------------------------------------------------------------------\n",
    "columns(org.Hs.eg.db)"
   ]
  },
  {
   "cell_type": "markdown",
   "metadata": {},
   "source": [
    "We can use the mapIds function to add individual columns to our results table. We provide the row names of our results table as a key, and specify that keytype=ENSEMBL. The column argument tells the mapIds function which information we want, and the multiVals argument tells the function what to do if there are multiple possible values for a single input value. Here we ask to just give us back the first one that occurs in the database. To add the gene symbol and Entrez ID, we call mapIds twice.\n"
   ]
  },
  {
   "cell_type": "code",
   "execution_count": 64,
   "metadata": {
    "collapsed": false,
    "scrolled": true
   },
   "outputs": [
    {
     "name": "stderr",
     "output_type": "stream",
     "text": [
      "'select()' returned 1:many mapping between keys and columns\n",
      "'select()' returned 1:many mapping between keys and columns\n"
     ]
    }
   ],
   "source": [
    "## ------------------------------------------------------------------------\n",
    "res$symbol <- mapIds(org.Hs.eg.db,\n",
    "                     keys=row.names(res),\n",
    "                     column=\"SYMBOL\",\n",
    "                     keytype=\"ENSEMBL\",\n",
    "                     multiVals=\"first\")\n",
    "res$entrez <- mapIds(org.Hs.eg.db,\n",
    "                     keys=row.names(res),\n",
    "                     column=\"ENTREZID\",\n",
    "                     keytype=\"ENSEMBL\",\n",
    "                     multiVals=\"first\")"
   ]
  },
  {
   "cell_type": "markdown",
   "metadata": {},
   "source": [
    "### Exporting results\n",
    "\n",
    "You can easily save the results table in a CSV file that you can then share or load with a spreadsheet program such as Excel. The call to as.data.frame is necessary to convert the DataFrame object (IRanges package) to a data.frame object that can be processed by write.csv. Here, we take just the top 100 genes for demonstration."
   ]
  },
  {
   "cell_type": "code",
   "execution_count": 65,
   "metadata": {
    "collapsed": false
   },
   "outputs": [
    {
     "data": {
      "text/plain": [
       "log2 fold change (MAP): dex trt vs untrt \n",
       "Wald test p-value: dex trt vs untrt \n",
       "DataFrame with 6 rows and 8 columns\n",
       "                  baseMean log2FoldChange     lfcSE      stat        pvalue\n",
       "                 <numeric>      <numeric> <numeric> <numeric>     <numeric>\n",
       "ENSG00000152583   997.4398       4.313968 0.1721375  25.06117 1.319002e-138\n",
       "ENSG00000165995   495.0929       3.186818 0.1281563  24.86665 1.708334e-136\n",
       "ENSG00000101347 12703.3871       3.618751 0.1489433  24.29616 2.152388e-130\n",
       "ENSG00000120129  3409.0294       2.871488 0.1182491  24.28338 2.937637e-130\n",
       "ENSG00000189221  2341.7673       3.230386 0.1366745  23.63562 1.659454e-123\n",
       "ENSG00000211445 12285.6151       3.553363 0.1579821  22.49219 4.950077e-112\n",
       "                         padj      symbol      entrez\n",
       "                    <numeric> <character> <character>\n",
       "ENSG00000152583 2.373412e-134     SPARCL1        8404\n",
       "ENSG00000165995 1.536988e-132      CACNB2         783\n",
       "ENSG00000101347 1.291002e-126      SAMHD1       25939\n",
       "ENSG00000120129 1.321496e-126       DUSP1        1843\n",
       "ENSG00000189221 5.972044e-120        MAOA        4128\n",
       "ENSG00000211445 1.484528e-108        GPX3        2878"
      ]
     },
     "metadata": {},
     "output_type": "display_data"
    }
   ],
   "source": [
    "## to export the file\n",
    "\n",
    "# resOrderedDF <- as.data.frame(resOrdered)[1:100, ]\n",
    "# write.csv(resOrderedDF, file = \"results.csv\")\n",
    "\n",
    "resOrdered <- res[order(res$padj),]\n",
    "head(resOrdered)"
   ]
  },
  {
   "cell_type": "markdown",
   "metadata": {},
   "source": [
    "### Plotting fold changes in genomic space\n",
    "\n",
    "If we have used the summarizeOverlaps function to count the reads, then our DESeqDataSet object is built on top of ready-to-use Bioconductor objects specifying the genomic coordinates of the genes. We can therefore easily plot our differential expression results in genomic space. While the results function by default returns a DataFrame, using the format argument, we can ask for GRanges or GRangesList output."
   ]
  },
  {
   "cell_type": "code",
   "execution_count": 66,
   "metadata": {
    "collapsed": false
   },
   "outputs": [
    {
     "name": "stderr",
     "output_type": "stream",
     "text": [
      "rowRanges is GRangesList, performing unlist(range(x)) on the rowRanges\n"
     ]
    },
    {
     "data": {
      "text/plain": [
       "GRanges object with 29391 ranges and 6 metadata columns:\n",
       "                  seqnames                 ranges strand |          baseMean\n",
       "                     <Rle>              <IRanges>  <Rle> |         <numeric>\n",
       "  ENSG00000000003        X [ 99883667,  99894988]      - |  708.602169691234\n",
       "  ENSG00000000419       20 [ 49551404,  49575092]      - |  520.297900552084\n",
       "  ENSG00000000457        1 [169818772, 169863408]      - |  237.163036796015\n",
       "  ENSG00000000460        1 [169631245, 169823221]      + |  57.9326331250967\n",
       "  ENSG00000000938        1 [ 27938575,  27961788]      - | 0.318098378392895\n",
       "              ...      ...                    ...    ... .               ...\n",
       "  ENSG00000273485       10 [105209953, 105210609]      + |  1.28644765243289\n",
       "  ENSG00000273486        3 [136556180, 136557863]      - |  15.4525365439045\n",
       "  ENSG00000273487        1 [ 92654794,  92656264]      + |   8.1632349843654\n",
       "  ENSG00000273488        3 [100080031, 100080481]      + |  8.58447903624707\n",
       "  ENSG00000273489        7 [131178723, 131182453]      - | 0.275899382507797\n",
       "                       log2FoldChange              lfcSE      stat    pvalue\n",
       "                            <numeric>          <numeric> <numeric> <numeric>\n",
       "  ENSG00000000003  -0.374151931014627 0.0988443214602191         0         1\n",
       "  ENSG00000000419   0.202061436647672   0.10974239980457         0         1\n",
       "  ENSG00000000457  0.0361661960462834  0.138345384758264         0         1\n",
       "  ENSG00000000460 -0.0844638523661299  0.249906763749261         0         1\n",
       "  ENSG00000000938  -0.084139037485396  0.151334272578007         0         1\n",
       "              ...                 ...                ...       ...       ...\n",
       "  ENSG00000273485  0.0339881477073716  0.293235997369493         0         1\n",
       "  ENSG00000273486 -0.0956073247801384  0.341033261640283         0         1\n",
       "  ENSG00000273487   0.550074123102608    0.3725061419635         0         1\n",
       "  ENSG00000273488   0.105152927327436  0.368383425173365         0         1\n",
       "  ENSG00000273489  0.0694790011523585  0.151252038715928         0         1\n",
       "                       padj\n",
       "                  <numeric>\n",
       "  ENSG00000000003         1\n",
       "  ENSG00000000419         1\n",
       "  ENSG00000000457         1\n",
       "  ENSG00000000460         1\n",
       "  ENSG00000000938      <NA>\n",
       "              ...       ...\n",
       "  ENSG00000273485      <NA>\n",
       "  ENSG00000273486         1\n",
       "  ENSG00000273487         1\n",
       "  ENSG00000273488         1\n",
       "  ENSG00000273489      <NA>\n",
       "  -------\n",
       "  seqinfo: 722 sequences (1 circular) from an unspecified genome"
      ]
     },
     "metadata": {},
     "output_type": "display_data"
    }
   ],
   "source": [
    "## ------------------------------------------------------------------------\n",
    "resGR <- results(dds, lfcThreshold = 1, format = \"GRanges\")\n",
    "resGR\n"
   ]
  },
  {
   "cell_type": "markdown",
   "metadata": {},
   "source": [
    "We need to add the symbol again for labeling the genes on the plot:"
   ]
  },
  {
   "cell_type": "code",
   "execution_count": 67,
   "metadata": {
    "collapsed": false
   },
   "outputs": [
    {
     "name": "stderr",
     "output_type": "stream",
     "text": [
      "'select()' returned 1:many mapping between keys and columns\n"
     ]
    }
   ],
   "source": [
    "resGR$symbol <- mapIds(org.Hs.eg.db, names(resGR), \"SYMBOL\", \"ENSEMBL\")"
   ]
  },
  {
   "cell_type": "markdown",
   "metadata": {},
   "source": [
    "We will use the Gviz [13] package for plotting the GRanges and associated metadata: the log fold changes due to dexamethasone treatment."
   ]
  },
  {
   "cell_type": "code",
   "execution_count": 68,
   "metadata": {
    "collapsed": false
   },
   "outputs": [],
   "source": [
    "suppressPackageStartupMessages(library(\"Gviz\"))"
   ]
  },
  {
   "cell_type": "markdown",
   "metadata": {},
   "source": [
    "The following code chunk specifies a window of 1 million base pairs upstream and downstream from the gene with the smallest p value. We create a subset of our full results, for genes within the window. We add the gene symbol as a name if the symbol exists and is not duplicated in our subset."
   ]
  },
  {
   "cell_type": "code",
   "execution_count": 69,
   "metadata": {
    "collapsed": true
   },
   "outputs": [],
   "source": [
    "## ------------------------------------------------------------------------\n",
    "window <- resGR[topGene] + 1e6\n",
    "strand(window) <- \"*\"\n",
    "resGRsub <- resGR[resGR %over% window]\n",
    "naOrDup <- is.na(resGRsub$symbol) | duplicated(resGRsub$symbol)\n",
    "resGRsub$group <- ifelse(naOrDup, names(resGRsub), resGRsub$symbol)\n"
   ]
  },
  {
   "cell_type": "markdown",
   "metadata": {},
   "source": [
    "We create a vector specifying if the genes in this subset had a low value of padj."
   ]
  },
  {
   "cell_type": "code",
   "execution_count": 70,
   "metadata": {
    "collapsed": true
   },
   "outputs": [],
   "source": [
    "## ------------------------------------------------------------------------\n",
    "status <- factor(ifelse(resGRsub$padj < 0.1 & !is.na(resGRsub$padj),\n",
    "                     \"sig\", \"notsig\"))"
   ]
  },
  {
   "cell_type": "markdown",
   "metadata": {},
   "source": [
    "We can then plot the results using Gviz [13] functions (figure below). We create an axis track specifying our location in the genome, a track that will show the genes and their names, colored by significance, and a data track that will draw vertical bars showing the moderated log fold change produced by DESeq2 [8], which we know are only large when the effect is well supported by the information in the counts."
   ]
  },
  {
   "cell_type": "code",
   "execution_count": 71,
   "metadata": {
    "collapsed": false
   },
   "outputs": [
    {
     "data": {
      "image/png": "[encoded data removed]",
      "text/plain": [
       "plot without title"
      ]
     },
     "metadata": {},
     "output_type": "display_data"
    }
   ],
   "source": [
    "## ----gvizplot------------------------------------------------------------\n",
    "options(ucscChromosomeNames = FALSE)\n",
    "g <- GenomeAxisTrack()\n",
    "a <- AnnotationTrack(resGRsub, name = \"gene ranges\", feature = status)\n",
    "d <- DataTrack(resGRsub, data = \"log2FoldChange\", baseline = 0,\n",
    "               type = \"h\", name = \"log2 fold change\", strand = \"+\")\n",
    "plotTracks(list(g, d, a), groupAnnotation = \"group\",\n",
    "           notsig = \"grey\", sig = \"hotpink\")\n"
   ]
  },
  {
   "cell_type": "markdown",
   "metadata": {},
   "source": [
    "**log2 fold changes in genomic region surrounding the gene with smallest adjusted p value.** \n",
    "Genes highlighted in pink have adjusted p value less than 0.1."
   ]
  },
  {
   "cell_type": "markdown",
   "metadata": {},
   "source": [
    "## Removing hidden batch effects\n",
    "\n",
    "Suppose we did not know that there were different cell lines involved in the experiment, only that there was treatment with dexamethasone. The cell line effect on the counts then would represent some hidden and unwanted variation that might be affecting many or all of the genes in the dataset. We can use statistical methods designed for RNA-seq from the sva [14] package (Leek 2014) to detect such groupings of the samples, and then we can add these to the DESeqDataSet design, in order to account for them. The SVA [14] package uses the term surrogate variables for the estimated variables that we want to account for in our analysis. Another package for detecting hidden batches is the RUVSeq package (Risso et al. 2014), with the acronym “Remove Unwanted Variation”."
   ]
  },
  {
   "cell_type": "code",
   "execution_count": 72,
   "metadata": {
    "collapsed": false
   },
   "outputs": [],
   "source": [
    "## ------------------------------------------------------------------------\n",
    "suppressPackageStartupMessages(library(\"sva\"))\n"
   ]
  },
  {
   "cell_type": "markdown",
   "metadata": {},
   "source": [
    "Below we obtain a matrix of normalized counts for which the average count across samples is larger than 1. As we described above, we are trying to recover any hidden batch effects, supposing that we do not know the cell line information. So we use a full model matrix with the dex variable, and a reduced, or null, model matrix with only an intercept term. Finally we specify that we want to estimate 2 surrogate variables. For more information read the manual page for the sva-seq function by typing *?svaseq*."
   ]
  },
  {
   "cell_type": "code",
   "execution_count": 73,
   "metadata": {
    "collapsed": false
   },
   "outputs": [
    {
     "name": "stdout",
     "output_type": "stream",
     "text": [
      "Number of significant surrogate variables is:  2 \n",
      "Iteration (out of 5 ):1  2  3  4  5  "
     ]
    },
    {
     "data": {
      "text/html": [
       "<table>\n",
       "<tbody>\n",
       "\t<tr><td> 0.2481108 </td><td>-0.52600157</td></tr>\n",
       "\t<tr><td> 0.2629867 </td><td>-0.58115433</td></tr>\n",
       "\t<tr><td> 0.1502704 </td><td> 0.27428267</td></tr>\n",
       "\t<tr><td> 0.2023800 </td><td> 0.38419545</td></tr>\n",
       "\t<tr><td>-0.6086586 </td><td>-0.07854931</td></tr>\n",
       "\t<tr><td>-0.6101210 </td><td>-0.02923693</td></tr>\n",
       "\t<tr><td> 0.1788509 </td><td> 0.25708985</td></tr>\n",
       "\t<tr><td> 0.1761807 </td><td> 0.29937417</td></tr>\n",
       "</tbody>\n",
       "</table>\n"
      ],
      "text/latex": [
       "\\begin{tabular}{ll}\n",
       "\t  0.2481108  & -0.52600157\\\\\n",
       "\t  0.2629867  & -0.58115433\\\\\n",
       "\t  0.1502704  &  0.27428267\\\\\n",
       "\t  0.2023800  &  0.38419545\\\\\n",
       "\t -0.6086586  & -0.07854931\\\\\n",
       "\t -0.6101210  & -0.02923693\\\\\n",
       "\t  0.1788509  &  0.25708985\\\\\n",
       "\t  0.1761807  &  0.29937417\\\\\n",
       "\\end{tabular}\n"
      ],
      "text/markdown": [
       "\n",
       "|  0.2481108  | -0.52600157 | \n",
       "|  0.2629867  | -0.58115433 | \n",
       "|  0.1502704  |  0.27428267 | \n",
       "|  0.2023800  |  0.38419545 | \n",
       "| -0.6086586  | -0.07854931 | \n",
       "| -0.6101210  | -0.02923693 | \n",
       "|  0.1788509  |  0.25708985 | \n",
       "|  0.1761807  |  0.29937417 | \n",
       "\n",
       "\n"
      ],
      "text/plain": [
       "     [,1]       [,2]       \n",
       "[1,]  0.2481108 -0.52600157\n",
       "[2,]  0.2629867 -0.58115433\n",
       "[3,]  0.1502704  0.27428267\n",
       "[4,]  0.2023800  0.38419545\n",
       "[5,] -0.6086586 -0.07854931\n",
       "[6,] -0.6101210 -0.02923693\n",
       "[7,]  0.1788509  0.25708985\n",
       "[8,]  0.1761807  0.29937417"
      ]
     },
     "metadata": {},
     "output_type": "display_data"
    }
   ],
   "source": [
    "dat  <- counts(dds, normalized = TRUE)\n",
    "idx  <- rowMeans(dat) > 1\n",
    "dat  <- dat[idx, ]\n",
    "mod  <- model.matrix(~ dex, colData(dds))\n",
    "mod0 <- model.matrix(~   1, colData(dds))\n",
    "svseq <- svaseq(dat, mod, mod0, n.sv = 2)\n",
    "svseq$sv\n"
   ]
  },
  {
   "cell_type": "markdown",
   "metadata": {},
   "source": [
    "Because we actually do know the cell lines, we can see how well the SVA [14] method did at recovering these variables (figure below)."
   ]
  },
  {
   "cell_type": "code",
   "execution_count": 74,
   "metadata": {
    "collapsed": false
   },
   "outputs": [
    {
     "data": {
      "image/png": "[encoded data removed]",
      "text/plain": [
       "Plot with title \"SV2\""
      ]
     },
     "metadata": {},
     "output_type": "display_data"
    }
   ],
   "source": [
    "par(mfrow = c(2, 1), mar = c(3,5,3,1))\n",
    "for (i in 1:2) {\n",
    "  stripchart(svseq$sv[, i] ~ dds$cell, vertical = TRUE, main = paste0(\"SV\", i))\n",
    "  abline(h = 0)\n",
    " }"
   ]
  },
  {
   "cell_type": "markdown",
   "metadata": {},
   "source": [
    "**Surrogate variables 1 and 2 plotted over cell line.** \n",
    "Here, we know the hidden source of variation (cell line), and therefore can see how the SVA [14] procedure is able to identify a source of variation which is correlated with cell line.\n",
    "\n",
    "Finally, in order to use SVA [14] to remove any effect on the counts from our surrogate variables, we simply add these two surrogate variables as columns to the DESeqDataSet and then add them to the design:"
   ]
  },
  {
   "cell_type": "code",
   "execution_count": 75,
   "metadata": {
    "collapsed": true
   },
   "outputs": [],
   "source": [
    "## ------------------------------------------------------------------------\n",
    "ddssva <- dds\n",
    "ddssva$SV1 <- svseq$sv[,1]\n",
    "ddssva$SV2 <- svseq$sv[,2]\n",
    "design(ddssva) <- ~ SV1 + SV2 + dex"
   ]
  },
  {
   "cell_type": "markdown",
   "metadata": {},
   "source": [
    "We could then produce results controlling for surrogate variables by running DESeq with the new design:"
   ]
  },
  {
   "cell_type": "code",
   "execution_count": 76,
   "metadata": {
    "collapsed": false
   },
   "outputs": [
    {
     "name": "stderr",
     "output_type": "stream",
     "text": [
      "using pre-existing size factors\n",
      "estimating dispersions\n",
      "found already estimated dispersions, replacing these\n",
      "gene-wise dispersion estimates\n",
      "mean-dispersion relationship\n",
      "final dispersion estimates\n",
      "fitting model and testing\n"
     ]
    }
   ],
   "source": [
    "ddssva %<>% DESeq"
   ]
  },
  {
   "cell_type": "markdown",
   "metadata": {},
   "source": [
    "## Time course experiments\n",
    "\n",
    "DESeq2 [8] can be used to analyze time course experiments, for example to find those genes that react in a condition-specific manner over time, compared to a set of baseline samples. Here we demonstrate a basic time course analysis with the fission [15] data package, which contains gene counts for an RNA-seq time course of fission [15] yeast (Leong et al. 2014). The yeast were exposed to oxidative stress, and half of the samples contained a deletion of the gene atf21. We use a design formula that models the strain difference at time 0, the difference over time, and any strain-specific differences over time (the interaction term strain:minute)."
   ]
  },
  {
   "cell_type": "code",
   "execution_count": 77,
   "metadata": {
    "collapsed": true
   },
   "outputs": [],
   "source": [
    "## ------------------------------------------------------------------------\n",
    "library(\"fission\")\n",
    "data(\"fission\")\n",
    "ddsTC <- DESeqDataSet(fission, ~ strain + minute + strain:minute)"
   ]
  },
  {
   "cell_type": "markdown",
   "metadata": {},
   "source": [
    "The following chunk of code performs a likelihood ratio test, where we remove the strain-specific differences over time. Genes with small p values from this test are those which at one or more time points after time 0 showed a strain-specific effect. Note therefore that this will not give small p values to genes that moved up or down over time in the same way in both strains."
   ]
  },
  {
   "cell_type": "code",
   "execution_count": 78,
   "metadata": {
    "collapsed": false
   },
   "outputs": [
    {
     "name": "stderr",
     "output_type": "stream",
     "text": [
      "estimating size factors\n",
      "estimating dispersions\n",
      "gene-wise dispersion estimates\n",
      "mean-dispersion relationship\n",
      "final dispersion estimates\n",
      "fitting model and testing\n"
     ]
    },
    {
     "data": {
      "text/plain": [
       "log2 fold change (MLE): strainmut.minute180 \n",
       "LRT p-value: '~ strain + minute + strain:minute' vs '~ strain + minute' \n",
       "DataFrame with 4 rows and 7 columns\n",
       "              baseMean log2FoldChange     lfcSE      stat       pvalue\n",
       "             <numeric>      <numeric> <numeric> <numeric>    <numeric>\n",
       "SPBC2F12.09c  174.6712    -2.65671953 0.7522613  97.28339 1.974151e-19\n",
       "SPAC1002.18   444.5050    -0.05093214 0.2042995  56.95360 5.169552e-11\n",
       "SPAC1002.19   336.3732    -0.39274898 0.5734940  43.53391 2.879804e-08\n",
       "SPAC1002.17c  261.7731    -1.13876477 0.6061288  39.31584 2.051371e-07\n",
       "                     padj      symbol\n",
       "                <numeric> <character>\n",
       "SPBC2F12.09c 1.334526e-15       atf21\n",
       "SPAC1002.18  1.747308e-07        urg3\n",
       "SPAC1002.19  6.489157e-05        urg1\n",
       "SPAC1002.17c 3.466817e-04        urg2"
      ]
     },
     "metadata": {},
     "output_type": "display_data"
    }
   ],
   "source": [
    "## ----fissionDE-----------------------------------------------------------\n",
    "ddsTC <- DESeq(ddsTC, test=\"LRT\", reduced = ~ strain + minute)\n",
    "resTC <- results(ddsTC)\n",
    "resTC$symbol <- mcols(ddsTC)$symbol\n",
    "head(resTC[order(resTC$padj),], 4)"
   ]
  },
  {
   "cell_type": "markdown",
   "metadata": {},
   "source": [
    "This is just one of the tests that can be applied to time series data. Another option would be to model the counts as a smooth function of time, and to include an interaction term of the condition with the smooth function. It is possible to build such a model using spline basis functions within R, and another, more modern approach is using Gaussian processes (Tonner et al. 2017).\n",
    "\n",
    "We can plot the counts for the groups over time using ggplot2, for the gene with the smallest adjusted p value, testing for condition-dependent time profile and accounting for differences at time 0 (figure below). Keep in mind that the interaction terms are the difference between the two groups at a given time after accounting for the difference at time 0."
   ]
  },
  {
   "cell_type": "code",
   "execution_count": 79,
   "metadata": {
    "collapsed": false
   },
   "outputs": [
    {
     "data": {},
     "metadata": {},
     "output_type": "display_data"
    },
    {
     "data": {
      "image/png": "[encoded data removed]",
      "text/plain": [
       "plot without title"
      ]
     },
     "metadata": {},
     "output_type": "display_data"
    }
   ],
   "source": [
    "fiss <- plotCounts(ddsTC, which.min(resTC$padj), \n",
    "                   intgroup = c(\"minute\",\"strain\"), returnData = TRUE)\n",
    "ggplot(fiss,\n",
    "  aes(x = as.numeric(minute), y = count, color = strain, group = strain)) + \n",
    "  geom_point() + geom_smooth(se = FALSE, method = \"loess\") + scale_y_log10()"
   ]
  },
  {
   "cell_type": "markdown",
   "metadata": {},
   "source": [
    "**Normalized counts for a gene with condition-specific changes over time.**\n",
    "\n",
    "Wald tests for the log2 fold changes at individual time points can be investigated using the test argument to results:"
   ]
  },
  {
   "cell_type": "code",
   "execution_count": 80,
   "metadata": {
    "collapsed": false
   },
   "outputs": [
    {
     "data": {
      "text/html": [
       "<ol class=list-inline>\n",
       "\t<li>'Intercept'</li>\n",
       "\t<li>'strain_mut_vs_wt'</li>\n",
       "\t<li>'minute_15_vs_0'</li>\n",
       "\t<li>'minute_30_vs_0'</li>\n",
       "\t<li>'minute_60_vs_0'</li>\n",
       "\t<li>'minute_120_vs_0'</li>\n",
       "\t<li>'minute_180_vs_0'</li>\n",
       "\t<li>'strainmut.minute15'</li>\n",
       "\t<li>'strainmut.minute30'</li>\n",
       "\t<li>'strainmut.minute60'</li>\n",
       "\t<li>'strainmut.minute120'</li>\n",
       "\t<li>'strainmut.minute180'</li>\n",
       "</ol>\n"
      ],
      "text/latex": [
       "\\begin{enumerate*}\n",
       "\\item 'Intercept'\n",
       "\\item 'strain\\_mut\\_vs\\_wt'\n",
       "\\item 'minute\\_15\\_vs\\_0'\n",
       "\\item 'minute\\_30\\_vs\\_0'\n",
       "\\item 'minute\\_60\\_vs\\_0'\n",
       "\\item 'minute\\_120\\_vs\\_0'\n",
       "\\item 'minute\\_180\\_vs\\_0'\n",
       "\\item 'strainmut.minute15'\n",
       "\\item 'strainmut.minute30'\n",
       "\\item 'strainmut.minute60'\n",
       "\\item 'strainmut.minute120'\n",
       "\\item 'strainmut.minute180'\n",
       "\\end{enumerate*}\n"
      ],
      "text/markdown": [
       "1. 'Intercept'\n",
       "2. 'strain_mut_vs_wt'\n",
       "3. 'minute_15_vs_0'\n",
       "4. 'minute_30_vs_0'\n",
       "5. 'minute_60_vs_0'\n",
       "6. 'minute_120_vs_0'\n",
       "7. 'minute_180_vs_0'\n",
       "8. 'strainmut.minute15'\n",
       "9. 'strainmut.minute30'\n",
       "10. 'strainmut.minute60'\n",
       "11. 'strainmut.minute120'\n",
       "12. 'strainmut.minute180'\n",
       "\n",
       "\n"
      ],
      "text/plain": [
       " [1] \"Intercept\"           \"strain_mut_vs_wt\"    \"minute_15_vs_0\"     \n",
       " [4] \"minute_30_vs_0\"      \"minute_60_vs_0\"      \"minute_120_vs_0\"    \n",
       " [7] \"minute_180_vs_0\"     \"strainmut.minute15\"  \"strainmut.minute30\" \n",
       "[10] \"strainmut.minute60\"  \"strainmut.minute120\" \"strainmut.minute180\""
      ]
     },
     "metadata": {},
     "output_type": "display_data"
    },
    {
     "data": {
      "text/plain": [
       "log2 fold change (MLE): strainmut.minute30 \n",
       "Wald test p-value: strainmut.minute30 \n",
       "DataFrame with 1 row and 6 columns\n",
       "              baseMean log2FoldChange     lfcSE      stat       pvalue\n",
       "             <numeric>      <numeric> <numeric> <numeric>    <numeric>\n",
       "SPBC2F12.09c  174.6712      -2.600469 0.6343429 -4.099469 4.140994e-05\n",
       "                  padj\n",
       "             <numeric>\n",
       "SPBC2F12.09c 0.2799312"
      ]
     },
     "metadata": {},
     "output_type": "display_data"
    }
   ],
   "source": [
    "## ------------------------------------------------------------------------\n",
    "resultsNames(ddsTC)\n",
    "res30 <- results(ddsTC, name=\"strainmut.minute30\", test=\"Wald\")\n",
    "res30[which.min(resTC$padj),]\n"
   ]
  },
  {
   "cell_type": "markdown",
   "metadata": {},
   "source": [
    "We can furthermore cluster significant genes by their profiles. We extract a matrix of the shrunken log2 fold changes using the coef function:"
   ]
  },
  {
   "cell_type": "code",
   "execution_count": 81,
   "metadata": {
    "collapsed": false
   },
   "outputs": [
    {
     "data": {
      "text/html": [
       "<ol class=list-inline>\n",
       "\t<li>'Intercept'</li>\n",
       "\t<li>'strain_mut_vs_wt'</li>\n",
       "\t<li>'minute_15_vs_0'</li>\n",
       "\t<li>'minute_30_vs_0'</li>\n",
       "\t<li>'minute_60_vs_0'</li>\n",
       "\t<li>'minute_120_vs_0'</li>\n",
       "\t<li>'minute_180_vs_0'</li>\n",
       "\t<li>'strainmut.minute15'</li>\n",
       "\t<li>'strainmut.minute30'</li>\n",
       "\t<li>'strainmut.minute60'</li>\n",
       "\t<li>'strainmut.minute120'</li>\n",
       "\t<li>'strainmut.minute180'</li>\n",
       "</ol>\n"
      ],
      "text/latex": [
       "\\begin{enumerate*}\n",
       "\\item 'Intercept'\n",
       "\\item 'strain\\_mut\\_vs\\_wt'\n",
       "\\item 'minute\\_15\\_vs\\_0'\n",
       "\\item 'minute\\_30\\_vs\\_0'\n",
       "\\item 'minute\\_60\\_vs\\_0'\n",
       "\\item 'minute\\_120\\_vs\\_0'\n",
       "\\item 'minute\\_180\\_vs\\_0'\n",
       "\\item 'strainmut.minute15'\n",
       "\\item 'strainmut.minute30'\n",
       "\\item 'strainmut.minute60'\n",
       "\\item 'strainmut.minute120'\n",
       "\\item 'strainmut.minute180'\n",
       "\\end{enumerate*}\n"
      ],
      "text/markdown": [
       "1. 'Intercept'\n",
       "2. 'strain_mut_vs_wt'\n",
       "3. 'minute_15_vs_0'\n",
       "4. 'minute_30_vs_0'\n",
       "5. 'minute_60_vs_0'\n",
       "6. 'minute_120_vs_0'\n",
       "7. 'minute_180_vs_0'\n",
       "8. 'strainmut.minute15'\n",
       "9. 'strainmut.minute30'\n",
       "10. 'strainmut.minute60'\n",
       "11. 'strainmut.minute120'\n",
       "12. 'strainmut.minute180'\n",
       "\n",
       "\n"
      ],
      "text/plain": [
       " [1] \"Intercept\"           \"strain_mut_vs_wt\"    \"minute_15_vs_0\"     \n",
       " [4] \"minute_30_vs_0\"      \"minute_60_vs_0\"      \"minute_120_vs_0\"    \n",
       " [7] \"minute_180_vs_0\"     \"strainmut.minute15\"  \"strainmut.minute30\" \n",
       "[10] \"strainmut.minute60\"  \"strainmut.minute120\" \"strainmut.minute180\""
      ]
     },
     "metadata": {},
     "output_type": "display_data"
    }
   ],
   "source": [
    "## ------------------------------------------------------------------------\n",
    "betas <- coef(ddsTC)\n",
    "colnames(betas)"
   ]
  },
  {
   "cell_type": "markdown",
   "metadata": {},
   "source": [
    "We can now plot the log2 fold changes in a heatmap (figure below)."
   ]
  },
  {
   "cell_type": "code",
   "execution_count": 82,
   "metadata": {
    "collapsed": false,
    "scrolled": false
   },
   "outputs": [
    {
     "data": {
      "image/png": "[encoded data removed]",
      "text/plain": [
       "plot without title"
      ]
     },
     "metadata": {},
     "output_type": "display_data"
    }
   ],
   "source": [
    "## ----fissionheatmap------------------------------------------------------\n",
    "topGenes <- head(order(resTC$padj),20)\n",
    "mat <- betas[topGenes, -c(1,2)]\n",
    "thr <- 3 \n",
    "mat[mat < -thr] <- -thr\n",
    "mat[mat > thr] <- thr\n",
    "pheatmap(mat, breaks=seq(from=-thr, to=thr, length=101),\n",
    "         cluster_col=FALSE)"
   ]
  },
  {
   "cell_type": "markdown",
   "metadata": {},
   "source": [
    "**Heatmap of log2 fold changes for genes with smallest adjusted p value.**\n",
    "\n",
    "The bottom set of genes show strong induction of expression for the baseline samples in minutes 15-60 (red boxes in the bottom left corner), but then have slight differences for the mutant strain (shown in the boxes in the bottom right corner)."
   ]
  },
  {
   "cell_type": "markdown",
   "metadata": {},
   "source": [
    "## Session Information\n",
    "\n",
    "As the last part of this document, we call the function sessionInfo, which reports the version numbers of R and all the packages used in this session. It is good practice to always keep such a record of this as it will help to track down what has happened in case an R script ceases to work or gives different results because the functions have been changed in a newer version of one of your packages. By including it at the bottom of a script, your reports will become more reproducible.\n",
    "\n",
    "The session information should also always be included in any emails to the Bioconductor support site along with all code used in the analysis."
   ]
  },
  {
   "cell_type": "code",
   "execution_count": 83,
   "metadata": {
    "collapsed": false,
    "scrolled": true
   },
   "outputs": [
    {
     "name": "stderr",
     "output_type": "stream",
     "text": [
      "Session info -------------------------------------------------------------------\n",
      "Packages -----------------------------------------------------------------------\n"
     ]
    },
    {
     "data": {
      "text/plain": [
       " setting  value                       \n",
       " version  R version 3.3.2 (2016-10-31)\n",
       " system   x86_64, mingw32             \n",
       " ui       RTerm                       \n",
       " language (EN)                        \n",
       " collate  English_United States.1252  \n",
       " tz       America/Los_Angeles         \n",
       " date     2017-05-14                  \n",
       "\n",
       " package                * version    date      \n",
       " acepack                  1.4.1      2016-10-29\n",
       " affy                     1.52.0     2016-10-18\n",
       " affyio                   1.44.0     2016-10-18\n",
       " airway                 * 0.108.0    2017-04-24\n",
       " annotate                 1.52.1     2016-12-22\n",
       " AnnotationDbi          * 1.36.2     2017-01-30\n",
       " AnnotationHub            2.6.5      2017-03-18\n",
       " assertthat               0.2.0      2017-04-11\n",
       " backports                1.0.5      2017-01-18\n",
       " base64enc                0.1-3      2015-07-28\n",
       " beeswarm                 0.2.3      2016-04-25\n",
       " Biobase                * 2.34.0     2016-10-18\n",
       " BiocGenerics           * 0.20.0     2016-10-18\n",
       " BiocInstaller            1.24.0     2016-10-18\n",
       " BiocParallel           * 1.8.2      2017-04-08\n",
       " BiocStyle              * 2.2.1      2016-11-24\n",
       " biomaRt                  2.30.0     2016-10-18\n",
       " Biostrings             * 2.42.1     2016-12-01\n",
       " biovizBase               1.22.0     2016-10-18\n",
       " bitops                   1.0-6      2013-08-17\n",
       " BSgenome                 1.42.0     2016-10-18\n",
       " checkmate                1.8.2      2016-11-02\n",
       " cluster                  2.0.6      2017-03-16\n",
       " colorspace               1.3-2      2016-12-14\n",
       " crayon                   1.3.2      2016-06-28\n",
       " data.table               1.10.4     2017-02-01\n",
       " DBI                      0.6-1      2017-04-01\n",
       " DESeq2                 * 1.14.1     2016-12-01\n",
       " devtools                 1.12.0     2016-06-24\n",
       " dichromat                2.0-0      2013-01-24\n",
       " digest                   0.6.12     2017-01-27\n",
       " dplyr                  * 0.5.0      2016-06-24\n",
       " ensembldb                1.6.2      2016-11-17\n",
       " evaluate                 0.10       2016-10-11\n",
       " fission                * 0.108.0    2017-04-14\n",
       " foreign                  0.8-67     2016-09-13\n",
       " Formula                  1.2-1      2015-04-07\n",
       " genefilter             * 1.56.0     2016-10-18\n",
       " geneplotter              1.52.0     2016-10-18\n",
       " GenomeInfoDb           * 1.10.3     2017-02-07\n",
       " GenomicAlignments      * 1.10.1     2017-03-18\n",
       " GenomicFeatures        * 1.26.4     2017-03-31\n",
       " GenomicRanges          * 1.26.4     2017-03-18\n",
       " ggbeeswarm             * 0.5.3      2016-12-01\n",
       " ggplot2                * 2.2.1      2016-12-30\n",
       " gridExtra                2.2.1      2016-02-29\n",
       " gtable                   0.2.0      2016-02-26\n",
       " Gviz                   * 1.18.2     2017-03-18\n",
       " hexbin                 * 1.27.1     2015-08-19\n",
       " Hmisc                    4.0-2      2016-12-31\n",
       " htmlTable                1.9        2017-01-26\n",
       " htmltools                0.3.5      2016-03-21\n",
       " htmlwidgets              0.8        2016-11-09\n",
       " httpuv                   1.3.3      2015-08-04\n",
       " httr                     1.2.1      2016-07-03\n",
       " interactiveDisplayBase   1.12.0     2016-10-18\n",
       " IRanges                * 2.8.2      2017-03-18\n",
       " IRdisplay                0.4.4      2016-08-02\n",
       " IRkernel                 0.8.6.9000 2017-04-09\n",
       " jsonlite                 1.4        2017-04-08\n",
       " knitr                  * 1.15.1     2016-11-22\n",
       " labeling                 0.3        2014-08-23\n",
       " lattice                  0.20-35    2017-03-25\n",
       " latticeExtra             0.6-28     2016-02-09\n",
       " lazyeval                 0.2.0      2016-06-12\n",
       " limma                    3.30.13    2017-03-18\n",
       " locfit                   1.5-9.1    2013-04-20\n",
       " magrittr               * 1.5        2014-11-22\n",
       " Matrix                   1.2-8      2017-01-20\n",
       " matrixStats              0.52.2     2017-04-14\n",
       " memoise                  1.1.0      2017-04-21\n",
       " mgcv                   * 1.8-17     2017-02-08\n",
       " mime                     0.5        2016-07-07\n",
       " munsell                  0.4.3      2016-02-13\n",
       " nlme                   * 3.1-131    2017-02-06\n",
       " nnet                     7.3-12     2016-02-02\n",
       " org.Hs.eg.db           * 3.4.0      2017-04-14\n",
       " pbdZMQ                   0.2-5      2016-12-18\n",
       " pheatmap               * 1.0.8      2015-12-11\n",
       " plyr                     1.8.4      2016-06-08\n",
       " PoiClaClu              * 1.0.2      2013-12-02\n",
       " preprocessCore           1.36.0     2016-10-18\n",
       " R6                       2.2.0      2016-10-05\n",
       " RColorBrewer           * 1.1-2      2014-12-07\n",
       " Rcpp                     0.12.10    2017-03-19\n",
       " RCurl                    1.95-4.8   2016-03-01\n",
       " repr                     0.12.0     2017-04-07\n",
       " reshape2                 1.4.2      2016-10-22\n",
       " rmarkdown              * 1.5        2017-04-26\n",
       " rpart                    4.1-11     2017-04-21\n",
       " rprojroot                1.2        2017-01-16\n",
       " Rsamtools              * 1.26.2     2017-04-08\n",
       " RSQLite                  1.1-2      2017-01-08\n",
       " rtracklayer              1.34.2     2017-02-19\n",
       " S4Vectors              * 0.12.2     2017-03-18\n",
       " scales                   0.4.1      2016-11-09\n",
       " shiny                    1.0.2      2017-04-18\n",
       " stringi                  1.1.5      2017-04-07\n",
       " stringr                  1.2.0      2017-02-18\n",
       " SummarizedExperiment   * 1.4.0      2016-10-18\n",
       " survival                 2.41-3     2017-04-04\n",
       " sva                    * 3.22.0     2016-10-18\n",
       " tibble                   1.3.0      2017-04-01\n",
       " uuid                     0.1-2      2015-07-28\n",
       " VariantAnnotation        1.20.3     2017-03-18\n",
       " vipor                    0.4.5      2017-03-22\n",
       " vsn                    * 3.42.3     2016-10-24\n",
       " withr                    1.0.2      2016-06-20\n",
       " XML                      3.98-1.6   2017-03-30\n",
       " xtable                   1.8-2      2016-02-05\n",
       " XVector                * 0.14.1     2017-03-18\n",
       " yaml                     2.1.14     2016-11-12\n",
       " zlibbioc                 1.20.0     2016-10-18\n",
       " source                            \n",
       " CRAN (R 3.3.3)                    \n",
       " Bioconductor                      \n",
       " Bioconductor                      \n",
       " Bioconductor                      \n",
       " Bioconductor                      \n",
       " Bioconductor                      \n",
       " Bioconductor                      \n",
       " CRAN (R 3.3.3)                    \n",
       " CRAN (R 3.3.2)                    \n",
       " CRAN (R 3.3.2)                    \n",
       " CRAN (R 3.3.2)                    \n",
       " Bioconductor                      \n",
       " Bioconductor                      \n",
       " Bioconductor                      \n",
       " Bioconductor                      \n",
       " Bioconductor                      \n",
       " Bioconductor                      \n",
       " Bioconductor                      \n",
       " Bioconductor                      \n",
       " CRAN (R 3.3.2)                    \n",
       " Bioconductor                      \n",
       " CRAN (R 3.3.3)                    \n",
       " CRAN (R 3.3.3)                    \n",
       " CRAN (R 3.3.3)                    \n",
       " CRAN (R 3.3.3)                    \n",
       " CRAN (R 3.3.2)                    \n",
       " CRAN (R 3.3.3)                    \n",
       " Bioconductor                      \n",
       " CRAN (R 3.3.3)                    \n",
       " CRAN (R 3.3.2)                    \n",
       " CRAN (R 3.3.3)                    \n",
       " CRAN (R 3.3.3)                    \n",
       " Bioconductor                      \n",
       " CRAN (R 3.3.3)                    \n",
       " Bioconductor                      \n",
       " CRAN (R 3.3.2)                    \n",
       " CRAN (R 3.3.2)                    \n",
       " Bioconductor                      \n",
       " Bioconductor                      \n",
       " Bioconductor                      \n",
       " Bioconductor                      \n",
       " Bioconductor                      \n",
       " Bioconductor                      \n",
       " CRAN (R 3.3.3)                    \n",
       " CRAN (R 3.3.3)                    \n",
       " CRAN (R 3.3.3)                    \n",
       " CRAN (R 3.3.3)                    \n",
       " Bioconductor                      \n",
       " CRAN (R 3.3.3)                    \n",
       " CRAN (R 3.3.3)                    \n",
       " CRAN (R 3.3.3)                    \n",
       " CRAN (R 3.3.3)                    \n",
       " CRAN (R 3.3.3)                    \n",
       " CRAN (R 3.3.3)                    \n",
       " CRAN (R 3.3.3)                    \n",
       " Bioconductor                      \n",
       " Bioconductor                      \n",
       " CRAN (R 3.3.3)                    \n",
       " Github (IRkernel/IRkernel@29ae7df)\n",
       " CRAN (R 3.3.3)                    \n",
       " CRAN (R 3.3.3)                    \n",
       " CRAN (R 3.3.2)                    \n",
       " CRAN (R 3.3.3)                    \n",
       " CRAN (R 3.3.3)                    \n",
       " CRAN (R 3.3.3)                    \n",
       " Bioconductor                      \n",
       " CRAN (R 3.3.3)                    \n",
       " CRAN (R 3.3.3)                    \n",
       " CRAN (R 3.3.3)                    \n",
       " CRAN (R 3.3.3)                    \n",
       " CRAN (R 3.3.3)                    \n",
       " CRAN (R 3.3.3)                    \n",
       " CRAN (R 3.3.2)                    \n",
       " CRAN (R 3.3.3)                    \n",
       " CRAN (R 3.3.3)                    \n",
       " CRAN (R 3.3.2)                    \n",
       " Bioconductor                      \n",
       " CRAN (R 3.3.3)                    \n",
       " CRAN (R 3.3.3)                    \n",
       " CRAN (R 3.3.3)                    \n",
       " CRAN (R 3.3.2)                    \n",
       " Bioconductor                      \n",
       " CRAN (R 3.3.3)                    \n",
       " CRAN (R 3.3.2)                    \n",
       " CRAN (R 3.3.3)                    \n",
       " CRAN (R 3.3.3)                    \n",
       " CRAN (R 3.3.3)                    \n",
       " CRAN (R 3.3.3)                    \n",
       " CRAN (R 3.3.3)                    \n",
       " CRAN (R 3.3.3)                    \n",
       " CRAN (R 3.3.3)                    \n",
       " Bioconductor                      \n",
       " CRAN (R 3.3.3)                    \n",
       " Bioconductor                      \n",
       " Bioconductor                      \n",
       " CRAN (R 3.3.3)                    \n",
       " CRAN (R 3.3.3)                    \n",
       " CRAN (R 3.3.3)                    \n",
       " CRAN (R 3.3.3)                    \n",
       " Bioconductor                      \n",
       " CRAN (R 3.3.3)                    \n",
       " Bioconductor                      \n",
       " CRAN (R 3.3.3)                    \n",
       " CRAN (R 3.3.2)                    \n",
       " Bioconductor                      \n",
       " CRAN (R 3.3.3)                    \n",
       " Bioconductor                      \n",
       " CRAN (R 3.3.3)                    \n",
       " CRAN (R 3.3.3)                    \n",
       " CRAN (R 3.3.3)                    \n",
       " Bioconductor                      \n",
       " CRAN (R 3.3.3)                    \n",
       " Bioconductor                      "
      ]
     },
     "metadata": {},
     "output_type": "display_data"
    }
   ],
   "source": [
    "## ------------------------------------------------------------------------\n",
    "devtools::session_info()"
   ]
  },
  {
   "cell_type": "markdown",
   "metadata": {},
   "source": [
    "# References\n",
    "\n",
    "[1] [Bioconductor RNA-seq workflow](https://www.bioconductor.org/help/workflows/rnaseqGene/#introduction)"
   ]
  },
  {
   "cell_type": "markdown",
   "metadata": {},
   "source": [
    "### Bioconductor Packages:"
   ]
  },
  {
   "cell_type": "markdown",
   "metadata": {},
   "source": [
    "[2] \n",
    "Himes BE, Jiang X, Wagner P, Hu R, Wang Q, Klanderman B, Whitaker RM, Duan Q, Lasky-Su J, Nikolos C, Jester W, Johnson M, Panettieri R Jr, Tantisira KG, Weiss ST, Lu Q. 'RNA-Seq Transcriptome Profiling Identifies CRISPLD2 as a Glucocorticoid Responsive Gene that Modulates Cytokine Function in Airway Smooth Muscle Cells.' PLoS One. 2014 Jun 13;9(6):e99625. PMID: 24926665.\n",
    "\n",
    "[3]\n",
    "Andrzej Oles, Martin Morgan and Wolfgang Huber (2016). BiocStyle:\n",
    "  Standard styles for vignettes and other Bioconductor documents. R\n",
    "  package version 2.2.1. https://github.com/Bioconductor/BiocStyle\n",
    "\n",
    "[4]\n",
    "Martin Morgan, Herv\\'e Pag\\`es, Valerie Obenchain and Nathaniel\n",
    "  Hayden (2017). Rsamtools: Binary alignment (BAM), FASTA, variant call\n",
    "  (BCF), and tabix file import. R package version 1.26.2.\n",
    "  http://bioconductor.org/packages/release/bioc/html/Rsamtools.html\n",
    "\n",
    "[5]\n",
    "Lawrence M, Huber W, Pag\\`es H, Aboyoun P, Carlson M, et al. (2013)\n",
    "  Software for Computing and Annotating Genomic Ranges. PLoS Comput\n",
    "  Biol 9(8): e1003118. doi:10.1371/journal.pcbi.1003118\n",
    "  \n",
    "[6]\n",
    "Lawrence M, Huber W, Pag\\`es H, Aboyoun P, Carlson M, et al. (2013)\n",
    "  Software for Computing and Annotating Genomic Ranges. PLoS Comput\n",
    "  Biol 9(8): e1003118. doi:10.1371/journal.pcbi.1003118\n",
    "  \n",
    "[7]\n",
    "Martin Morgan, Valerie Obenchain, Michel Lang and Ryan Thompson\n",
    "  (2017). BiocParallel: Bioconductor facilities for parallel\n",
    "  evaluation. R package version 1.8.2.\n",
    "  https://github.com/Bioconductor/BiocParallel\n",
    "  \n",
    "[8]\n",
    "Michael I Love, Wolfgang Huber and Simon Anders (2014): Moderated\n",
    "  estimation of fold change and dispersion for RNA-Seq data with\n",
    "  DESeq2. Genome Biology\n",
    "  \n",
    "[9]\n",
    "Wolfgang Huber, Anja von Heydebreck, Holger Sueltmann, Annemarie\n",
    "  Poustka and Martin Vingron. Variance Stabilization Applied to\n",
    "  Microarray Data Calibration and to the Quantification of Differential\n",
    "  Expression. Bioinformatics 18, S96-S104 (2002).\n",
    "  \n",
    "[10]\n",
    "R. Gentleman, V. Carey, W. Huber and F. Hahne (2016). genefilter:\n",
    "  genefilter: methods for filtering genes from high-throughput\n",
    "  experiments. R package version 1.56.0.\n",
    "  \n",
    "[11] \n",
    "Hervé Pagès, Marc Carlson, Seth Falcon and Nianhua Li (2017).\n",
    "  AnnotationDbi: Annotation Database Interface. R package version\n",
    "  1.36.2\n",
    "  \n",
    "[12]\n",
    "Marc Carlson (2016). org.Hs.eg.db: Genome wide annotation for Human.\n",
    "  R package version 3.4.0.\n",
    "  \n",
    "[13]\n",
    "Hahne F, Ivanek R. Visualizing Genomic Data Using Gviz and\n",
    "  Bioconductor. Methods Mol Biol. 1418:335-51 (2016).\n",
    "  \n",
    "[14]\n",
    "Jeffrey T. Leek, W. Evan Johnson, Hilary S. Parker, Elana J. Fertig,\n",
    "  Andrew E. Jaffe and John D. Storey (2016). sva: Surrogate Variable\n",
    "  Analysis. R package version 3.22.0.\n",
    "  \n",
    "[15]\n",
    "Leong HS, Dawson K, Wirth C, Li Y, Connolly Y, Smith DL, Wilkinson\n",
    "  CR, Miller CJ. 'A global non-coding RNA system modulates fission\n",
    "  yeast protein levels in response to stress'. Nat Commun 2014 May\n",
    "  23;5:3947. PMID: 24853205"
   ]
  }
 ],
 "metadata": {
  "anaconda-cloud": {},
  "kernelspec": {
   "display_name": "R",
   "language": "R",
   "name": "ir"
  },
  "language_info": {
   "codemirror_mode": "r",
   "file_extension": ".r",
   "mimetype": "text/x-r-source",
   "name": "R",
   "pygments_lexer": "r",
   "version": "3.3.2"
  }
 },
 "nbformat": 4,
 "nbformat_minor": 1
}
